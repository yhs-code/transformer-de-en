{
 "cells": [
  {
   "cell_type": "code",
   "execution_count": 337,
   "metadata": {
    "ExecuteTime": {
     "end_time": "2024-08-05T08:06:22.531537Z",
     "start_time": "2024-08-05T08:06:12.808806Z"
    },
    "colab": {
     "base_uri": "https://localhost:8080/"
    },
    "id": "JHSdxPJuN4x7",
    "outputId": "a74dc274-dd24-4415-a3e4-1fcff4e437a2",
    "tags": []
   },
   "outputs": [
    {
     "name": "stdout",
     "output_type": "stream",
     "text": [
      "sys.version_info(major=3, minor=12, micro=3, releaselevel='final', serial=0)\n",
      "matplotlib 3.9.2\n",
      "numpy 2.0.2\n",
      "pandas 2.2.3\n",
      "sklearn 1.6.1\n",
      "torch 2.5.1+cu124\n",
      "cuda:0\n"
     ]
    }
   ],
   "source": [
    "import matplotlib as mpl\n",
    "import matplotlib.pyplot as plt\n",
    "%matplotlib inline\n",
    "import numpy as np\n",
    "import sklearn\n",
    "import pandas as pd\n",
    "import os\n",
    "import sys\n",
    "import time\n",
    "from tqdm.auto import tqdm\n",
    "import torch\n",
    "import torch.nn as nn\n",
    "import torch.nn.functional as F\n",
    "\n",
    "print(sys.version_info)\n",
    "for module in mpl, np, pd, sklearn, torch:\n",
    "    print(module.__name__, module.__version__)\n",
    "\n",
    "device = torch.device(\"cuda:0\") if torch.cuda.is_available() else torch.device(\"cpu\")\n",
    "print(device)\n",
    "\n",
    "seed = 42\n",
    "torch.manual_seed(seed)\n",
    "torch.cuda.manual_seed_all(seed)\n",
    "np.random.seed(seed)\n"
   ]
  },
  {
   "cell_type": "code",
   "execution_count": 338,
   "metadata": {
    "ExecuteTime": {
     "end_time": "2024-08-05T08:06:22.541540Z",
     "start_time": "2024-08-05T08:06:22.530536400Z"
    },
    "colab": {
     "base_uri": "https://localhost:8080/"
    },
    "execution": {
     "iopub.execute_input": "2025-02-07T01:55:56.870252Z",
     "iopub.status.busy": "2025-02-07T01:55:56.869967Z",
     "iopub.status.idle": "2025-02-07T01:55:56.872885Z",
     "shell.execute_reply": "2025-02-07T01:55:56.872284Z",
     "shell.execute_reply.started": "2025-02-07T01:55:56.870230Z"
    },
    "id": "yQQEArYqWylq",
    "outputId": "bc80eeee-442a-4ff2-f69e-348314f84bce"
   },
   "outputs": [],
   "source": [
    "#挂载谷歌云盘\n",
    "\n",
    "# from google.colab import drive\n",
    "# drive.mount('/content/drive')"
   ]
  },
  {
   "cell_type": "code",
   "execution_count": 339,
   "metadata": {
    "ExecuteTime": {
     "end_time": "2024-08-05T08:06:22.552601Z",
     "start_time": "2024-08-05T08:06:22.536531800Z"
    },
    "execution": {
     "iopub.execute_input": "2025-02-07T01:55:56.874052Z",
     "iopub.status.busy": "2025-02-07T01:55:56.873648Z",
     "iopub.status.idle": "2025-02-07T01:55:56.876700Z",
     "shell.execute_reply": "2025-02-07T01:55:56.876092Z",
     "shell.execute_reply.started": "2025-02-07T01:55:56.874021Z"
    },
    "id": "wzS4AimwWz7f"
   },
   "outputs": [],
   "source": [
    "# !cp /content/drive/MyDrive/transformer-de-en/* . -r"
   ]
  },
  {
   "cell_type": "code",
   "execution_count": 340,
   "metadata": {
    "ExecutionIndicator": {
     "show": true
    },
    "execution": {
     "iopub.execute_input": "2025-02-07T01:55:56.878566Z",
     "iopub.status.busy": "2025-02-07T01:55:56.878216Z",
     "iopub.status.idle": "2025-02-07T01:55:56.880907Z",
     "shell.execute_reply": "2025-02-07T01:55:56.880454Z",
     "shell.execute_reply.started": "2025-02-07T01:55:56.878529Z"
    },
    "tags": []
   },
   "outputs": [],
   "source": [
    "# !rm -rf wmt16_cut/"
   ]
  },
  {
   "cell_type": "markdown",
   "metadata": {
    "id": "55aNBForN4x9"
   },
   "source": [
    "## 数据加载\n",
    "\n",
    "- 采用WMT16的德语和英语平行语料库，数据集主页：[WMT16](https://www.statmt.org/wmt16/multimodal-task.html#task1)"
   ]
  },
  {
   "cell_type": "code",
   "execution_count": 341,
   "metadata": {
    "ExecuteTime": {
     "end_time": "2024-08-05T08:06:22.608302700Z",
     "start_time": "2024-08-05T08:06:22.548590200Z"
    },
    "ExecutionIndicator": {
     "show": true
    },
    "colab": {
     "base_uri": "https://localhost:8080/"
    },
    "execution": {
     "iopub.execute_input": "2025-02-07T01:55:56.881786Z",
     "iopub.status.busy": "2025-02-07T01:55:56.881493Z",
     "iopub.status.idle": "2025-02-07T01:56:06.287166Z",
     "shell.execute_reply": "2025-02-07T01:56:06.286550Z",
     "shell.execute_reply.started": "2025-02-07T01:55:56.881766Z"
    },
    "id": "SkjBEbr1N4x-",
    "outputId": "4b9817d0-616b-41a0-ceb7-9ff6bf0f42a1",
    "tags": []
   },
   "outputs": [],
   "source": [
    "#和jieba分词类似\n",
    "# !pip install sacremoses\n",
    "# !pip install subword-nmt\n",
    "# # BPE分词\n"
   ]
  },
  {
   "cell_type": "code",
   "execution_count": 342,
   "metadata": {
    "ExecutionIndicator": {
     "show": true
    },
    "execution": {
     "iopub.execute_input": "2025-02-07T01:56:06.288637Z",
     "iopub.status.busy": "2025-02-07T01:56:06.288022Z",
     "iopub.status.idle": "2025-02-07T01:56:06.403161Z",
     "shell.execute_reply": "2025-02-07T01:56:06.402608Z",
     "shell.execute_reply.started": "2025-02-07T01:56:06.288597Z"
    },
    "tags": []
   },
   "outputs": [
    {
     "name": "stdout",
     "output_type": "stream",
     "text": [
      "/root/chapter8/translate-transformer\n"
     ]
    }
   ],
   "source": [
    "!pwd"
   ]
  },
  {
   "cell_type": "code",
   "execution_count": 343,
   "metadata": {
    "ExecuteTime": {
     "end_time": "2024-08-05T08:06:22.609302200Z",
     "start_time": "2024-08-05T08:06:22.565115500Z"
    },
    "ExecutionIndicator": {
     "show": true
    },
    "colab": {
     "base_uri": "https://localhost:8080/"
    },
    "execution": {
     "iopub.execute_input": "2025-02-07T01:56:06.404347Z",
     "iopub.status.busy": "2025-02-07T01:56:06.403853Z",
     "iopub.status.idle": "2025-02-07T01:56:06.406768Z",
     "shell.execute_reply": "2025-02-07T01:56:06.406326Z",
     "shell.execute_reply.started": "2025-02-07T01:56:06.404306Z"
    },
    "id": "Tc8aCQX-XrGv",
    "outputId": "67964082-2737-4d47-dd66-455e4ae69660",
    "tags": []
   },
   "outputs": [],
   "source": [
    "# !sh data_multi30k.sh wmt16 wmt16_cut de en"
   ]
  },
  {
   "cell_type": "markdown",
   "metadata": {
    "id": "Lvk4q0-1N4x-"
   },
   "source": [
    "Dataset"
   ]
  },
  {
   "cell_type": "code",
   "execution_count": 344,
   "metadata": {
    "ExecuteTime": {
     "end_time": "2024-08-05T08:06:22.811204Z",
     "start_time": "2024-08-05T08:06:22.581320400Z"
    },
    "colab": {
     "base_uri": "https://localhost:8080/"
    },
    "id": "zCXKEwspN4x_",
    "outputId": "3dcce6fa-932f-4b22-9dc8-398a4b402733"
   },
   "outputs": [
    {
     "name": "stdout",
     "output_type": "stream",
     "text": [
      "load train dataset from wmt16/.cache/de2en_train_256.npy\n",
      "load val dataset from wmt16/.cache/de2en_val_256.npy\n"
     ]
    }
   ],
   "source": [
    "from pathlib import Path\n",
    "from torch.utils.data import Dataset, DataLoader\n",
    "\n",
    "\n",
    "\n",
    "class LangPairDataset(Dataset):\n",
    "\n",
    "    def __init__(\n",
    "        self, mode=\"train\", max_length=256, overwrite_cache=False, data_dir=\"wmt16\",\n",
    "    ):\n",
    "        self.data_dir = Path(data_dir)\n",
    "        cache_path = self.data_dir / \".cache\" / f\"de2en_{mode}_{max_length}.npy\"\n",
    "\n",
    "        if overwrite_cache or not cache_path.exists():\n",
    "            cache_path.parent.mkdir(parents=True, exist_ok=True)\n",
    "\n",
    "            with open(self.data_dir / f\"{mode}_src.bpe\", \"r\", encoding=\"utf8\") as file:\n",
    "                self.src = file.readlines() # 读取源语言文件所有行\n",
    "\n",
    "            with open(self.data_dir / f\"{mode}_trg.bpe\", \"r\", encoding=\"utf8\") as file:\n",
    "                self.trg = file.readlines() # 读取目标语言文件所有行\n",
    "\n",
    "            filtered_src = []\n",
    "            filtered_trg = []\n",
    "            # max length filter,超出最大长度的句子舍弃\n",
    "            for src, trg in zip(self.src, self.trg):\n",
    "                # print(f\"LangPairDataset src: {src}\")\n",
    "                if len(src.split()) <= max_length and len(trg.split()) <= max_length: # 过滤长度超过最大长度的句子\n",
    "                    filtered_src.append(src.strip()) # 去掉句子前后的空格\n",
    "                    filtered_trg.append(trg.strip())\n",
    "            filtered_src = np.array(filtered_src)\n",
    "            filtered_trg = np.array(filtered_trg)\n",
    "            np.save(\n",
    "                cache_path,\n",
    "                {\"src\": filtered_src, \"trg\": filtered_trg }, # 保存的格式是{src:[], trg:[]}\n",
    "                allow_pickle=True,\n",
    "            )#allow_pickle=True允许保存对象数组，将过滤后的数据保存为 NumPy 数组，存储在缓存文件中\n",
    "            print(f\"save cache to {cache_path}\")\n",
    "\n",
    "        else:\n",
    "            cache_dict = np.load(cache_path, allow_pickle=True).item() #allow_pickle=True允许保存对象数组\n",
    "            print(f\"load {mode} dataset from {cache_path}\")\n",
    "            filtered_src = cache_dict[\"src\"]\n",
    "            filtered_trg = cache_dict[\"trg\"]\n",
    "\n",
    "        self.src = [text.split() for text in filtered_src]\n",
    "        self.trg = [text.split() for text in filtered_trg]\n",
    "\n",
    "    def __getitem__(self, index):\n",
    "        return self.src[index], self.trg[index]\n",
    "\n",
    "    def __len__(self):\n",
    "        return len(self.src)\n",
    "\n",
    "\n",
    "train_ds = LangPairDataset(\"train\")\n",
    "val_ds = LangPairDataset(\"val\")\n"
   ]
  },
  {
   "cell_type": "code",
   "execution_count": 345,
   "metadata": {
    "ExecuteTime": {
     "end_time": "2024-08-05T08:06:22.820353700Z",
     "start_time": "2024-08-05T08:06:22.812366100Z"
    },
    "execution": {
     "iopub.execute_input": "2025-02-07T01:56:06.469055Z",
     "iopub.status.busy": "2025-02-07T01:56:06.468824Z",
     "iopub.status.idle": "2025-02-07T01:56:06.471418Z",
     "shell.execute_reply": "2025-02-07T01:56:06.470952Z",
     "shell.execute_reply.started": "2025-02-07T01:56:06.469035Z"
    },
    "id": "yHB9TDpDQlv2"
   },
   "outputs": [],
   "source": [
    "# !rm wmt16/.cache -r"
   ]
  },
  {
   "cell_type": "code",
   "execution_count": 346,
   "metadata": {
    "ExecuteTime": {
     "end_time": "2024-08-05T08:06:22.869376300Z",
     "start_time": "2024-08-05T08:06:22.816345900Z"
    },
    "colab": {
     "base_uri": "https://localhost:8080/"
    },
    "execution": {
     "iopub.execute_input": "2025-02-07T01:56:06.473752Z",
     "iopub.status.busy": "2025-02-07T01:56:06.473506Z",
     "iopub.status.idle": "2025-02-07T01:56:06.477949Z",
     "shell.execute_reply": "2025-02-07T01:56:06.477460Z",
     "shell.execute_reply.started": "2025-02-07T01:56:06.473732Z"
    },
    "id": "meHHXL3MN4x_",
    "outputId": "a001c071-7021-4dff-8bc0-3e5da01d7210"
   },
   "outputs": [
    {
     "data": {
      "text/plain": [
       "28998"
      ]
     },
     "execution_count": 346,
     "metadata": {},
     "output_type": "execute_result"
    }
   ],
   "source": [
    "len(train_ds) #少了1000多个样本"
   ]
  },
  {
   "cell_type": "code",
   "execution_count": 347,
   "metadata": {
    "ExecuteTime": {
     "end_time": "2024-08-05T08:06:22.870386300Z",
     "start_time": "2024-08-05T08:06:22.844639700Z"
    },
    "colab": {
     "base_uri": "https://localhost:8080/"
    },
    "execution": {
     "iopub.execute_input": "2025-02-07T01:56:06.478690Z",
     "iopub.status.busy": "2025-02-07T01:56:06.478440Z",
     "iopub.status.idle": "2025-02-07T01:56:06.481467Z",
     "shell.execute_reply": "2025-02-07T01:56:06.480953Z",
     "shell.execute_reply.started": "2025-02-07T01:56:06.478671Z"
    },
    "id": "LZvJV37NN4x_",
    "outputId": "43909dbd-cf15-447b-e8b6-a07de381ad0a"
   },
   "outputs": [
    {
     "name": "stdout",
     "output_type": "stream",
     "text": [
      "source: ['ein', 'mann', 'in', 'shorts', 'und', 'hawaii@@', 'hemd', 'lehnt', 'sich', 'über', 'das', 'geländer', 'eines', 'lot@@', 'sen@@', 'boots', ',', 'mit', 'nebel', 'und', 'bergen', 'im', 'hintergrund', '.']\n",
      "target: ['a', 'man', 'in', 'shorts', 'and', 'a', 'hawaiian', 'shirt', 'leans', 'over', 'the', 'rail', 'of', 'a', 'pilot', 'boat', ',', 'with', 'fog', 'and', 'mountains', 'in', 'the', 'background', '.']\n"
     ]
    }
   ],
   "source": [
    "print(\"source: {}\\ntarget: {}\".format(*train_ds[-1]))"
   ]
  },
  {
   "cell_type": "markdown",
   "metadata": {
    "id": "TE8gRzYQN4yA"
   },
   "source": [
    "### Tokenizer\n",
    "\n",
    "这里有两种处理方式，分别对应着 encoder 和 decoder 的 word embedding 是否共享，这里实现共享的方案"
   ]
  },
  {
   "cell_type": "code",
   "execution_count": 348,
   "metadata": {
    "ExecuteTime": {
     "end_time": "2024-08-05T08:06:23.012615500Z",
     "start_time": "2024-08-05T08:06:22.857384400Z"
    },
    "colab": {
     "base_uri": "https://localhost:8080/",
     "height": 66,
     "referenced_widgets": [
      "7190c928edb040c3a523cdd2e3f45572",
      "990741ff083d457587665d8f620b69c3",
      "00fe6a550df547cea5b1e0d84c1a3f5f",
      "fab8b1e3187841ee894b92859fa4821b",
      "f9b0d916e1a64c2a9f384e42f3d5dcab",
      "a78199650ecc47bd81f482a2671b563a",
      "673bd3773a374261a01cfc48081c27f3",
      "83f345f7424c43929d7a304cbfb6d0fe",
      "58d69d086f644e89937347e1f9261d6f",
      "8cf462fa996c41b18fb4571e0a757363",
      "434ac4c51db74681942d2d3bd869b1df"
     ]
    },
    "id": "yAmlq_9YN4yA",
    "outputId": "263a89f7-9bee-4c6d-cf7a-7d82b0a81f92"
   },
   "outputs": [
    {
     "data": {
      "application/vnd.jupyter.widget-view+json": {
       "model_id": "a660b581aa4f4478ab11f17231b721ea",
       "version_major": 2,
       "version_minor": 0
      },
      "text/plain": [
       "  0%|          | 0/18107 [00:00<?, ?it/s]"
      ]
     },
     "metadata": {},
     "output_type": "display_data"
    },
    {
     "name": "stdout",
     "output_type": "stream",
     "text": [
      "vocab_size: 18111\n"
     ]
    }
   ],
   "source": [
    "#载入词表，看下词表长度，词表就像英语字典,构建word2idx和idx2word\n",
    "word2idx = {\n",
    "    \"[PAD]\": 0,     # 填充 token\n",
    "    \"[BOS]\": 1,     # begin of sentence\n",
    "    \"[UNK]\": 2,     # 未知 token\n",
    "    \"[EOS]\": 3,     # end of sentence\n",
    "}\n",
    "idx2word = {value: key for key, value in word2idx.items()}\n",
    "index = len(idx2word)\n",
    "threshold = 1  # 出现次数低于此的token舍弃\n",
    "\n",
    "with open(\"wmt16/vocab\", \"r\", encoding=\"utf8\") as file: # 将英语和德语的所有子词都加到word2idx和idx2word中，用来集中制作一个Tokenizer\n",
    "    for line in tqdm(file.readlines()):\n",
    "        token, counts = line.strip().split()\n",
    "        if int(counts) >= threshold:\n",
    "            word2idx[token] = index\n",
    "            idx2word[index] = token\n",
    "            index += 1\n",
    "\n",
    "vocab_size = len(word2idx)\n",
    "print(\"vocab_size: {}\".format(vocab_size))"
   ]
  },
  {
   "cell_type": "code",
   "execution_count": 349,
   "metadata": {
    "ExecuteTime": {
     "end_time": "2024-08-05T08:06:23.015614600Z",
     "start_time": "2024-08-05T08:06:22.932228100Z"
    },
    "colab": {
     "base_uri": "https://localhost:8080/"
    },
    "id": "e_ed0jmJN4yA",
    "outputId": "407a9e69-4981-42ae-c7a9-aa4c701185ef"
   },
   "outputs": [
    {
     "name": "stdout",
     "output_type": "stream",
     "text": [
      "raw text\n",
      "['hello', 'world']\n",
      "['tokenize', 'text', 'datas', 'with', 'batch']\n",
      "['this', 'is', 'a', 'test']\n",
      "indices\n",
      "tensor([   1, 9458, 3522,    3,    0,    0,    0])\n",
      "tensor([   1,    2, 5463,    2,   22,    2,    3])\n",
      "tensor([   1,  385,   18,    5, 5699,    3,    0])\n",
      "decode text\n",
      "[BOS] hello world [EOS] [PAD] [PAD] [PAD]\n",
      "[BOS] [UNK] text [UNK] with [UNK] [EOS]\n",
      "[BOS] this is a test [EOS] [PAD]\n"
     ]
    }
   ],
   "source": [
    "class Tokenizer:\n",
    "    def __init__(self, word2idx, idx2word, max_length=128, pad_idx=0, bos_idx=1, eos_idx=3, unk_idx=2):\n",
    "        self.word2idx = word2idx\n",
    "        self.idx2word = idx2word\n",
    "        self.max_length = max_length\n",
    "        self.pad_idx = pad_idx\n",
    "        self.bos_idx = bos_idx\n",
    "        self.eos_idx = eos_idx\n",
    "        self.unk_idx = unk_idx\n",
    "\n",
    "    def encode(self, text_list, padding_first=False, add_bos=True, add_eos=True, return_mask=False):\n",
    "        \"\"\"如果padding_first == True，则padding加载前面，否则加载后面\"\"\"\n",
    "        # max_length限制了句子的大小，如果句子超过max_length则会只会保留 [BOS] [max_length - 2] [EOS]的句子格式\n",
    "        max_length = min(self.max_length, add_eos + add_bos + max([len(text) for text in text_list]))\n",
    "        indices_list = []\n",
    "        for text in text_list:\n",
    "            indices = [self.word2idx.get(word, self.unk_idx) for word in text[:max_length - add_bos - add_eos]]\n",
    "            if add_bos:\n",
    "                indices = [self.bos_idx] + indices\n",
    "            if add_eos:\n",
    "                indices = indices + [self.eos_idx]\n",
    "            if padding_first:\n",
    "                indices = [self.pad_idx] * (max_length - len(indices)) + indices\n",
    "            else:\n",
    "                indices = indices + [self.pad_idx] * (max_length - len(indices))\n",
    "            indices_list.append(indices)\n",
    "        input_ids = torch.tensor(indices_list)\n",
    "        masks = (input_ids == self.pad_idx).to(dtype=torch.int64) # 为了方便损失计算，这里的mask为0的地方需要计算，为1的地方不需要计算\n",
    "        # input_ids = [batch_size, max_length], masks = [batch_size, max_length]，这里的batch_size是句子数，但是函数中划分batch是根据字符数划分的\n",
    "        return input_ids if not return_mask else (input_ids, masks)\n",
    "\n",
    "\n",
    "    def decode(self, indices_list, remove_bos=True, remove_eos=True, remove_pad=True, split=False):\n",
    "        text_list = []\n",
    "        for indices in indices_list:\n",
    "            text = []\n",
    "            for index in indices:\n",
    "                word = self.idx2word.get(index, \"[UNK]\")\n",
    "                if remove_bos and word == \"[BOS]\":\n",
    "                    continue\n",
    "                if remove_eos and word == \"[EOS]\":\n",
    "                    break\n",
    "                if remove_pad and word == \"[PAD]\":\n",
    "                    break\n",
    "                text.append(word)\n",
    "            text_list.append(\" \".join(text) if not split else text)\n",
    "        return text_list\n",
    "\n",
    "\n",
    "tokenizer = Tokenizer(word2idx=word2idx, idx2word=idx2word)\n",
    "\n",
    "tokenizer.encode([[\"hello\"], [\"hello\", \"world\"]], add_bos=True, add_eos=False)\n",
    "raw_text = [\"hello world\".split(), \"tokenize text datas with batch\".split(), \"this is a test\".split()]\n",
    "indices = tokenizer.encode(raw_text, padding_first=False, add_bos=True, add_eos=True)\n",
    "decode_text = tokenizer.decode(indices.tolist(), remove_bos=False, remove_eos=False, remove_pad=False)\n",
    "print(\"raw text\")\n",
    "for raw in raw_text:\n",
    "    print(raw)\n",
    "print(\"indices\")\n",
    "for index in indices:\n",
    "    print(index)\n",
    "print(\"decode text\")\n",
    "for decode in decode_text:\n",
    "    print(decode)"
   ]
  },
  {
   "cell_type": "code",
   "execution_count": 350,
   "metadata": {
    "ExecuteTime": {
     "end_time": "2024-08-05T08:06:23.016615500Z",
     "start_time": "2024-08-05T08:06:22.985590600Z"
    },
    "collapsed": false,
    "jupyter": {
     "outputs_hidden": false
    }
   },
   "outputs": [
    {
     "name": "stdout",
     "output_type": "stream",
     "text": [
      "13\n",
      "['zwei', 'junge', 'weiße', 'männer', 'sind', 'im', 'freien', 'in', 'der', 'nähe', 'vieler', 'büsche', '.']\n",
      "11\n",
      "['two', 'young', ',', 'white', 'males', 'are', 'outside', 'near', 'many', 'bushes', '.']\n"
     ]
    }
   ],
   "source": [
    "for i,j in train_ds:\n",
    "    print(len(i))\n",
    "    print(i)\n",
    "    print(len(j))\n",
    "    print(j)\n",
    "    break"
   ]
  },
  {
   "cell_type": "markdown",
   "metadata": {
    "id": "ftcEnnKxN4yB"
   },
   "source": [
    "### Transformer Batch Sampler\n",
    "\n",
    "> Sentence pairs were batched together by approximate sequence length. Each training batch contained a set of sentence pairs containing approximately 25000 source tokens and 25000 target tokens\n",
    "句子按照序列长度差不多的分到一个批次。 每个训练批次包含一组句子对，其中包含大约 25000 个源标记和 25000 个目标标记"
   ]
  },
  {
   "cell_type": "code",
   "execution_count": 351,
   "metadata": {
    "ExecuteTime": {
     "end_time": "2024-08-05T08:06:23.046108400Z",
     "start_time": "2024-08-05T08:06:22.990095800Z"
    },
    "id": "qP8nznIuN4yB"
   },
   "outputs": [],
   "source": [
    "class SampleInfo: #下面的info对象\n",
    "    def __init__(self, i, lens):\n",
    "        \"\"\"\n",
    "        记录文本对的序号和长度信息\n",
    "        输入：\n",
    "            - i (int): 文本对的序号。\n",
    "            - lens (list): 文本对源语言和目标语言的长度\n",
    "        \"\"\"\n",
    "        self.i = i\n",
    "        # 加一是考虑填补在文本前后的特殊词元，lens[0]和lens[1]分别表示源语言和目标语言的长度\n",
    "        self.max_len = max(lens[0], lens[1]) + 1 # sampler中的max_len只影响分批，Tokenizer中不受影响，因为Tokenizer会重新计算一遍列表中的句子长度\n",
    "        self.src_len = lens[0] + 1\n",
    "        self.trg_len = lens[1] + 1\n",
    "\n",
    "# 一个批量生成器，根据词元数目的限制来控制批量的大小。它会根据传入的样本信息，在不超过设定大小的情况下，逐步构建批量。\n",
    "class TokenBatchCreator:\n",
    "    def __init__(self, batch_size):\n",
    "        \"\"\"\n",
    "        参数:\n",
    "        batch_size (int): 用于限制批量的大小。\n",
    "        功能:\n",
    "        初始化了一个空的批量列表 _batch。\n",
    "        设定了初始的最大长度为 -1。\n",
    "        存储了传入的 batch_size。\n",
    "        \"\"\"\n",
    "\n",
    "        self._batch = []  #这个就是之前的batch_size，就是第一个batch内有多少个样本\n",
    "        self.max_len = -1\n",
    "        self._batch_size = batch_size # 限制批量的大小,假设是4096\n",
    "\n",
    "    def append(self, info):\n",
    "        \"\"\"\n",
    "        参数:\n",
    "        info (SampleInfo): 文本对的信息。\n",
    "        功能:\n",
    "        接收一个 SampleInfo 对象，并根据其最大长度信息更新当前批量的最大长度。\n",
    "        如果将新的样本加入批量后超过了批量大小限制，它会返回已有的批量并将新的样本加入新的批量。\n",
    "        否则，它会更新最大长度并将样本添加到当前批量中。\n",
    "        \"\"\"\n",
    "        # 更新当前批量的最大长度\n",
    "        cur_len = info.max_len # 当前样本的长度\n",
    "        max_len = max(self.max_len, cur_len) # 每来一个样本，更新当前批次的最大长度\n",
    "        # 如果新的样本加入批量后超过大小限制，则将已有的批量返回，新的样本加入新的批量\n",
    "        if max_len * (len(self._batch) + 1) > self._batch_size:\n",
    "            self._batch, result = [], self._batch # 保存当前的batch，并返回,这里的result是之前的batch,_batch清空\n",
    "            self._batch.append(info) #箱子里的第一条样本，放入\n",
    "            self.max_len = cur_len #因为是当前batch的第一个样本，所以它的长度就是当前长度\n",
    "            return result\n",
    "        else:\n",
    "            self.max_len = max_len\n",
    "            self._batch.append(info) # 将样本添加到当前批量中\n",
    "            return None\n",
    "\n",
    "    @property\n",
    "    def batch(self):\n",
    "        return self._batch"
   ]
  },
  {
   "cell_type": "code",
   "execution_count": 352,
   "metadata": {
    "ExecuteTime": {
     "end_time": "2024-08-05T08:06:23.149062600Z",
     "start_time": "2024-08-05T08:06:23.013615200Z"
    },
    "id": "_Vtc0gXEN4yB"
   },
   "outputs": [],
   "source": [
    "from torch.utils.data import BatchSampler\n",
    "import numpy as np\n",
    "\n",
    "\n",
    "class TransformerBatchSampler(BatchSampler):\n",
    "    def __init__(self,\n",
    "                 dataset,\n",
    "                 batch_size,\n",
    "                 shuffle_batch=False,\n",
    "                 clip_last_batch=False,\n",
    "                 seed=0):\n",
    "        \"\"\"\n",
    "        批量采样器\n",
    "        输入:\n",
    "            - dataset: 数据集\n",
    "            - batch_size: 批量大小\n",
    "            - shuffle_batch: 是否对生成的批量进行洗牌\n",
    "            - clip_last_batch: 是否裁剪最后剩下的数据\n",
    "            - seed: 随机数种子\n",
    "        \"\"\"\n",
    "        self._dataset = dataset\n",
    "        self._batch_size = batch_size\n",
    "        self._shuffle_batch = shuffle_batch\n",
    "        self._clip_last_batch = clip_last_batch\n",
    "        self._seed = seed\n",
    "        self._random = np.random\n",
    "        self._random.seed(seed)\n",
    "\n",
    "        self._sample_infos = []\n",
    "        # 根据数据集中的每个样本，创建了对应的 SampleInfo 对象，包含了样本的索引和长度信息。\n",
    "        for i, data in enumerate(self._dataset):\n",
    "            lens = [len(data[0]), len(data[1])] #输入和输出的长度计算放到lens中\n",
    "            self._sample_infos.append(SampleInfo(i, lens))\n",
    "\n",
    "        # 排序，如果源语言长度相同则按照目标语言的长度排列\n",
    "        infos = sorted(self._sample_infos,\n",
    "                       key=lambda x: (x.src_len, x.trg_len))\n",
    "\n",
    "        # 组装批量，所有的batch都放入batch_infos\n",
    "        self.batch_infos = []\n",
    "        batch_creator = TokenBatchCreator(self._batch_size) # 批量生成器\n",
    "        for info in infos:\n",
    "            batch = batch_creator.append(info)\n",
    "            # 存够一个batch的样本信息后，会把这个batch返回，否则返回为None\n",
    "            if batch is not None:\n",
    "                self.batch_infos.append(batch)\n",
    "\n",
    "        # 是否抛弃最后批量的文本对\n",
    "        if not self._clip_last_batch and len(batch_creator.batch) != 0:\n",
    "            self.batch_infos.append(batch_creator.batch) # 最后一个batch\n",
    "\n",
    "        # 打乱batch\n",
    "        if self._shuffle_batch:\n",
    "            self._random.shuffle(self.batch_infos)\n",
    "\n",
    "        self.batch_number = len(self.batch_infos)\n",
    "        # print(self.batch_number) #为了理解\n",
    "\n",
    "    def __iter__(self):\n",
    "        \"\"\"\n",
    "        对数据集中的样本进行排序，排序规则是先按源语言长度排序，如果相同则按目标语言长度排序。\n",
    "        使用 TokenBatchCreator 逐步组装批量数据，当满足批量大小时返回一个批量的样本信息。\n",
    "        如果不裁剪最后一个批次的数据且存在剩余样本，则将这些样本组成最后一个批次。\n",
    "        如果需要对批量进行洗牌，则对批次进行洗牌操作。\n",
    "        通过迭代器，抛出每个批量的样本在数据集中的索引。\n",
    "        \"\"\"\n",
    "\n",
    "        # 抛出一个批量的文本对在数据集中的序号\n",
    "        for batch in self.batch_infos:\n",
    "            batch_indices = [info.i for info in batch] # 批量的样本在数据集中的索引，第一个batch[0,1,.....82]，第二个batch[83,84,85,86,87]\n",
    "            yield batch_indices # 通过batch_indices的结果，可以选中datasets中对应下标的样本\n",
    "\n",
    "    def __len__(self):\n",
    "        \"\"\"\n",
    "        返回批量的数量\n",
    "        \"\"\"\n",
    "        if hasattr(self, \"batch_number\"):\n",
    "            return self.batch_number\n",
    "        # 计算批量的数量,没有用到下面的情况，不用看\n",
    "        batch_number = (len(self._dataset) +\n",
    "                        self._batch_size) // self._batch_size\n",
    "        return batch_number"
   ]
  },
  {
   "cell_type": "code",
   "execution_count": 353,
   "metadata": {
    "ExecuteTime": {
     "end_time": "2024-08-05T08:06:23.259543600Z",
     "start_time": "2024-08-05T08:06:23.021123200Z"
    },
    "colab": {
     "base_uri": "https://localhost:8080/"
    },
    "id": "d00AFRzVN4yC",
    "outputId": "a43c1a14-102f-4cbb-fff1-761cb46e31b3"
   },
   "outputs": [],
   "source": [
    "sampler = TransformerBatchSampler(train_ds, batch_size=1024, shuffle_batch=True)\n",
    "\n",
    "#为什么这里每个批量的样本对数目不一样呢？长度*batch_number>4096的时候，就会返回上一个batch，然后新的样本加入新的batch,具体要看TokenBatchCreator的44行"
   ]
  },
  {
   "cell_type": "code",
   "execution_count": 354,
   "metadata": {
    "ExecuteTime": {
     "end_time": "2024-08-05T08:06:23.319151500Z",
     "start_time": "2024-08-05T08:06:23.259543600Z"
    },
    "collapsed": false,
    "jupyter": {
     "outputs_hidden": false
    }
   },
   "outputs": [
    {
     "name": "stdout",
     "output_type": "stream",
     "text": [
      "第0批量的数据中含有文本对是：[24214, 24254, 24320, 24334, 24372, 24383, 24429, 24450, 24466, 24531, 24555, 24677, 24705, 24719, 24786, 24789, 24838, 24891, 24892, 24953, 24962, 24982, 25023, 25053, 25123, 25132, 25182, 25221, 25235, 25278, 25320, 25731, 26050, 26101, 26273, 26335, 26392, 26452, 26482, 26548, 26590, 26694, 26700, 26819, 26971, 27159, 27227, 27337, 27464, 27466, 27552, 27586, 27609, 27669, 27701, 27744, 27748, 27951, 27971, 28000, 28224, 28300, 28367, 28377, 28427, 28463, 28544, 28609]，数量为：68\n",
      "第1批量的数据中含有文本对是：[22564, 22680, 22752, 23099, 23316, 23896, 24127, 24223, 24268, 24370, 24468, 24731, 24910, 25027, 25048, 25078, 25307, 25609, 25629, 26027, 26343, 26712, 26739, 27017, 27077, 27212, 27467, 27497, 27592, 27831, 27873, 28121, 28199, 28285, 28310, 28383, 28393, 28475, 28479, 28511, 28530, 28723, 55, 375, 377, 1125, 1631, 1829, 1854, 1855, 1983, 2075, 2467]，数量为：53\n",
      "第2批量的数据中含有文本对是：[13253, 13264, 13387, 13465, 13988, 14049, 14169, 14221, 14545, 14664, 14862, 14898, 15126, 15232, 15250, 15254, 15274, 15344, 15470, 15528, 15596, 15601, 15809, 15886, 15912, 15934, 16292, 16354, 16436, 16454, 17054, 17258, 17306, 17356, 17358, 17424, 17678, 17760, 17832, 17984, 18056, 18118, 18162, 18486, 18547, 18596, 18888, 18906, 18908, 19010, 19028, 19209, 19456, 19474, 19674, 19876, 20078, 20143, 20246, 20620]，数量为：60\n"
     ]
    }
   ],
   "source": [
    "for idx, batch in enumerate(sampler):\n",
    "    print(\"第{}批量的数据中含有文本对是：{}，数量为：{}\".format(idx, batch, len(batch)))\n",
    "    if idx >= 2:\n",
    "        break"
   ]
  },
  {
   "cell_type": "code",
   "execution_count": 355,
   "metadata": {
    "ExecuteTime": {
     "end_time": "2024-08-05T08:06:23.319151500Z",
     "start_time": "2024-08-05T08:06:23.302665100Z"
    },
    "collapsed": false,
    "jupyter": {
     "outputs_hidden": false
    }
   },
   "outputs": [
    {
     "data": {
      "text/plain": [
       "439"
      ]
     },
     "execution_count": 355,
     "metadata": {},
     "output_type": "execute_result"
    }
   ],
   "source": [
    "len(sampler)"
   ]
  },
  {
   "cell_type": "markdown",
   "metadata": {
    "id": "Olkaw4JNN4yC"
   },
   "source": [
    "### DataLoader"
   ]
  },
  {
   "cell_type": "code",
   "execution_count": 356,
   "metadata": {
    "ExecuteTime": {
     "end_time": "2024-08-05T08:06:23.319151500Z",
     "start_time": "2024-08-05T08:06:23.311772900Z"
    },
    "id": "rvvuNJIzN4yC"
   },
   "outputs": [],
   "source": [
    "def collate_fct(batch, tokenizer):\n",
    "    # src_words = [pair[0].split() for pair in batch]\n",
    "    # trg_words = [pair[1].split() for pair in batch]\n",
    "    src_words = [pair[0] for pair in batch]\n",
    "    trg_words = [pair[1] for pair in batch]\n",
    "    # [BOS] src [EOS] [PAD] encoder_inputs_mask = [batch_size, seq_len]\n",
    "    encoder_inputs, encoder_inputs_mask = tokenizer.encode(\n",
    "        src_words, padding_first=False, add_bos=True, add_eos=True, return_mask=True\n",
    "        )\n",
    "\n",
    "    # [BOS] trg [PAD]\n",
    "    decoder_inputs = tokenizer.encode(\n",
    "        trg_words, padding_first=False, add_bos=True, add_eos=False, return_mask=False,\n",
    "        )\n",
    "\n",
    "    # trg [EOS] [PAD] decoder_labels_mask = [batch_size, seq_len]\n",
    "    decoder_labels, decoder_labels_mask = tokenizer.encode(\n",
    "        trg_words, padding_first=False, add_bos=False, add_eos=True, return_mask=True\n",
    "        )\n",
    "\n",
    "    return {\n",
    "        \"encoder_inputs\": encoder_inputs.to(device=device),\n",
    "        \"encoder_inputs_mask\": encoder_inputs_mask.to(device=device),\n",
    "        \"decoder_inputs\": decoder_inputs.to(device=device),\n",
    "        \"decoder_labels\": decoder_labels.to(device=device),\n",
    "        \"decoder_labels_mask\": decoder_labels_mask.to(device=device),\n",
    "    }\n"
   ]
  },
  {
   "cell_type": "code",
   "execution_count": 357,
   "metadata": {
    "ExecuteTime": {
     "end_time": "2024-08-05T08:06:24.107023100Z",
     "start_time": "2024-08-05T08:06:23.321149400Z"
    },
    "colab": {
     "base_uri": "https://localhost:8080/"
    },
    "id": "5p79gPo5N4yC",
    "outputId": "2b1d43ae-a2ed-4333-8274-50c62c2fc6c9"
   },
   "outputs": [
    {
     "name": "stdout",
     "output_type": "stream",
     "text": [
      "encoder_inputs\n",
      "tensor([[    1,    29,  7095,  2666,    99,   454,     9,     7,    44,    93,\n",
      "             6,    24,   184,    12,   195,   373,    93,    24,    79,     4,\n",
      "             3],\n",
      "        [    1,     7,   132,    44,     6,  4140,   157,    12,   166,    52,\n",
      "            94,    21,  5661,    34,   181,    12,    80,   153,  1696,     4,\n",
      "             3],\n",
      "        [    1,    11,    25,     9,   148,    58,    12,   148,   121,   172,\n",
      "            14,     8,  1095,     9,    14,    42,  4771,   706,   552,     4,\n",
      "             3],\n",
      "        [    1,    11,   591,    25,     6,     8,    95,   152,    60,    14,\n",
      "            21,   876,    94,     8, 10575,    59,   238,     6,   166,     4,\n",
      "             3],\n",
      "        [    1,     7,    17,     6,   430,   442,   451,     7,   123,   818,\n",
      "          1940,   104,     9,    34,   177,   115,     7,   347,   244,     4,\n",
      "             3],\n",
      "        [    1,    29,   797,     9,    37,   751,    11,   117,    27,  9544,\n",
      "            24,   187,   117,    13,    21, 14548,  9215,  1851,  3022,     4,\n",
      "             3],\n",
      "        [    1,    29,    90,    98,   958,     9,    37,   751,    11,    25,\n",
      "             7,   158,    73,    12,    27,   206,   290,  7871,   383,     4,\n",
      "             3],\n",
      "        [    1,    11,    65,   126,   221,   554,    11,  2623,     9,   110,\n",
      "            24,    24, 11839,  3245,    37,    21,   117,  6293,   218,     4,\n",
      "             3],\n",
      "        [    1,     7,  5613,    17,     6,  1622,    12,    11,  5980,  2851,\n",
      "          1311, 11860,  2536,    34,   724,   325,   288,   100,   183,     4,\n",
      "             3],\n",
      "        [    1,     7,   238,    86, 14605,   455,   179,     7,   304,     9,\n",
      "            68,    24,    17,     7,  3016,    14,   424,  1591,    73,     4,\n",
      "             3],\n",
      "        [    1,    11,    25,     6,    21,    95,   175,    12,    11,   206,\n",
      "            65, 14465,  3895,   259,  5217,    49,     8,   779,  1340,     4,\n",
      "             3],\n",
      "        [    1,    29,    90,     6,    96,  4030,  2288,  3324,    14,     8,\n",
      "           819,    12,   659,   259,  2881,    14,    31, 11607,  2084,     4,\n",
      "             3]], device='cuda:0')\n",
      "encoder_inputs_mask\n",
      "tensor([[0, 0, 0, 0, 0, 0, 0, 0, 0, 0, 0, 0, 0, 0, 0, 0, 0, 0, 0, 0, 0],\n",
      "        [0, 0, 0, 0, 0, 0, 0, 0, 0, 0, 0, 0, 0, 0, 0, 0, 0, 0, 0, 0, 0],\n",
      "        [0, 0, 0, 0, 0, 0, 0, 0, 0, 0, 0, 0, 0, 0, 0, 0, 0, 0, 0, 0, 0],\n",
      "        [0, 0, 0, 0, 0, 0, 0, 0, 0, 0, 0, 0, 0, 0, 0, 0, 0, 0, 0, 0, 0],\n",
      "        [0, 0, 0, 0, 0, 0, 0, 0, 0, 0, 0, 0, 0, 0, 0, 0, 0, 0, 0, 0, 0],\n",
      "        [0, 0, 0, 0, 0, 0, 0, 0, 0, 0, 0, 0, 0, 0, 0, 0, 0, 0, 0, 0, 0],\n",
      "        [0, 0, 0, 0, 0, 0, 0, 0, 0, 0, 0, 0, 0, 0, 0, 0, 0, 0, 0, 0, 0],\n",
      "        [0, 0, 0, 0, 0, 0, 0, 0, 0, 0, 0, 0, 0, 0, 0, 0, 0, 0, 0, 0, 0],\n",
      "        [0, 0, 0, 0, 0, 0, 0, 0, 0, 0, 0, 0, 0, 0, 0, 0, 0, 0, 0, 0, 0],\n",
      "        [0, 0, 0, 0, 0, 0, 0, 0, 0, 0, 0, 0, 0, 0, 0, 0, 0, 0, 0, 0, 0],\n",
      "        [0, 0, 0, 0, 0, 0, 0, 0, 0, 0, 0, 0, 0, 0, 0, 0, 0, 0, 0, 0, 0],\n",
      "        [0, 0, 0, 0, 0, 0, 0, 0, 0, 0, 0, 0, 0, 0, 0, 0, 0, 0, 0, 0, 0]],\n",
      "       device='cuda:0')\n",
      "decoder_inputs\n",
      "tensor([[    1,    28,   788,    20,   236,    63,   229,    19,    83,    56,\n",
      "            18,   103,     6,    10,   194,    22,    10,    79,   173,   269,\n",
      "             4],\n",
      "        [    1,     5,   105,    56,     6,     5,   410,   157,    19,   166,\n",
      "            18,   305,  2951, 10350, 16251,    62,   151,    23,   463,   730,\n",
      "             4],\n",
      "        [    1,   327,    18,     5,    26,     9,   209,    51,     9,    19,\n",
      "           209,   124,    15,     5,   161,   910,  1878,    18,   358,  6547,\n",
      "             4],\n",
      "        [    1,     5,   331,    26,     6,     5,    55,   201,    18,    53,\n",
      "            15,     5,   203,   135,    32,     5,  1305,   283,     6,   166,\n",
      "             4],\n",
      "        [    1,     5,    16,     6,     5,    50,   362,   234,     5,   134,\n",
      "            40,  1308,   113,     5,  1449,  3887,  1677,     6,    10,   188,\n",
      "             4],\n",
      "        [    1,    28,    33,   192,   338,   945,    83,    20,   291,    18,\n",
      "           314,    10,   136,   192,  5923,    22,    23,  4111, 10268,   574,\n",
      "             4],\n",
      "        [    1,    28,    91,    53,   135,    32,   307,   136,    83,    18,\n",
      "            77,     5,   158,    19,    10,   136,    18,   964,    72, 10218,\n",
      "             4],\n",
      "        [    1,     5,    65,   436,    18,   314,     5,   617,  1705,   910,\n",
      "           327,  7268,   549,    18,   216,    10,   341, 10300,   106,    83,\n",
      "           117],\n",
      "        [    1,     5,  5899,    16,     6,     5,  9983,    19,     5,  3912,\n",
      "         16367,   331,     6,     5,   724,   274,   242,    35,    10,   162,\n",
      "             4],\n",
      "        [    1,     5,  4836,   283,    30,    62,   456,   106,     5,   257,\n",
      "            19,    10,    16,    18,    77,     5,  5377,    15,    46,  1353,\n",
      "             4],\n",
      "        [    1,     5,    26,     6,     5,    55,   154,    19,   156,    65,\n",
      "           892,   129,  5217,   142,    15,     5,   189,   937,  1100,   701,\n",
      "             4],\n",
      "        [    1,    28,    91,    36,    40, 16310, 12477,  3573,    15,     5,\n",
      "           653,    22,   129,  1233,  7486,   103,    15,     5,  1019,   180,\n",
      "             4]], device='cuda:0')\n",
      "decoder_labels\n",
      "tensor([[   28,   788,    20,   236,    63,   229,    19,    83,    56,    18,\n",
      "           103,     6,    10,   194,    22,    10,    79,   173,   269,     4,\n",
      "             3],\n",
      "        [    5,   105,    56,     6,     5,   410,   157,    19,   166,    18,\n",
      "           305,  2951, 10350, 16251,    62,   151,    23,   463,   730,     4,\n",
      "             3],\n",
      "        [  327,    18,     5,    26,     9,   209,    51,     9,    19,   209,\n",
      "           124,    15,     5,   161,   910,  1878,    18,   358,  6547,     4,\n",
      "             3],\n",
      "        [    5,   331,    26,     6,     5,    55,   201,    18,    53,    15,\n",
      "             5,   203,   135,    32,     5,  1305,   283,     6,   166,     4,\n",
      "             3],\n",
      "        [    5,    16,     6,     5,    50,   362,   234,     5,   134,    40,\n",
      "          1308,   113,     5,  1449,  3887,  1677,     6,    10,   188,     4,\n",
      "             3],\n",
      "        [   28,    33,   192,   338,   945,    83,    20,   291,    18,   314,\n",
      "            10,   136,   192,  5923,    22,    23,  4111, 10268,   574,     4,\n",
      "             3],\n",
      "        [   28,    91,    53,   135,    32,   307,   136,    83,    18,    77,\n",
      "             5,   158,    19,    10,   136,    18,   964,    72, 10218,     4,\n",
      "             3],\n",
      "        [    5,    65,   436,    18,   314,     5,   617,  1705,   910,   327,\n",
      "          7268,   549,    18,   216,    10,   341, 10300,   106,    83,   117,\n",
      "             3],\n",
      "        [    5,  5899,    16,     6,     5,  9983,    19,     5,  3912, 16367,\n",
      "           331,     6,     5,   724,   274,   242,    35,    10,   162,     4,\n",
      "             3],\n",
      "        [    5,  4836,   283,    30,    62,   456,   106,     5,   257,    19,\n",
      "            10,    16,    18,    77,     5,  5377,    15,    46,  1353,     4,\n",
      "             3],\n",
      "        [    5,    26,     6,     5,    55,   154,    19,   156,    65,   892,\n",
      "           129,  5217,   142,    15,     5,   189,   937,  1100,   701,     4,\n",
      "             3],\n",
      "        [   28,    91,    36,    40, 16310, 12477,  3573,    15,     5,   653,\n",
      "            22,   129,  1233,  7486,   103,    15,     5,  1019,   180,     4,\n",
      "             3]], device='cuda:0')\n",
      "decoder_labels_mask\n",
      "tensor([[0, 0, 0, 0, 0, 0, 0, 0, 0, 0, 0, 0, 0, 0, 0, 0, 0, 0, 0, 0, 0],\n",
      "        [0, 0, 0, 0, 0, 0, 0, 0, 0, 0, 0, 0, 0, 0, 0, 0, 0, 0, 0, 0, 0],\n",
      "        [0, 0, 0, 0, 0, 0, 0, 0, 0, 0, 0, 0, 0, 0, 0, 0, 0, 0, 0, 0, 0],\n",
      "        [0, 0, 0, 0, 0, 0, 0, 0, 0, 0, 0, 0, 0, 0, 0, 0, 0, 0, 0, 0, 0],\n",
      "        [0, 0, 0, 0, 0, 0, 0, 0, 0, 0, 0, 0, 0, 0, 0, 0, 0, 0, 0, 0, 0],\n",
      "        [0, 0, 0, 0, 0, 0, 0, 0, 0, 0, 0, 0, 0, 0, 0, 0, 0, 0, 0, 0, 0],\n",
      "        [0, 0, 0, 0, 0, 0, 0, 0, 0, 0, 0, 0, 0, 0, 0, 0, 0, 0, 0, 0, 0],\n",
      "        [0, 0, 0, 0, 0, 0, 0, 0, 0, 0, 0, 0, 0, 0, 0, 0, 0, 0, 0, 0, 0],\n",
      "        [0, 0, 0, 0, 0, 0, 0, 0, 0, 0, 0, 0, 0, 0, 0, 0, 0, 0, 0, 0, 0],\n",
      "        [0, 0, 0, 0, 0, 0, 0, 0, 0, 0, 0, 0, 0, 0, 0, 0, 0, 0, 0, 0, 0],\n",
      "        [0, 0, 0, 0, 0, 0, 0, 0, 0, 0, 0, 0, 0, 0, 0, 0, 0, 0, 0, 0, 0],\n",
      "        [0, 0, 0, 0, 0, 0, 0, 0, 0, 0, 0, 0, 0, 0, 0, 0, 0, 0, 0, 0, 0]],\n",
      "       device='cuda:0')\n"
     ]
    }
   ],
   "source": [
    "from functools import partial # 固定collate_fct的tokenizer参数\n",
    "\n",
    "#可以调整batch_size,来看最终的bleu\n",
    "sampler = TransformerBatchSampler(train_ds, batch_size=256, shuffle_batch=True)\n",
    "# https://pytorch.org/docs/stable/data.html#torch.utils.data.DataLoader\n",
    "# 首先通过sampler(TransformerBatchSampler)获得不同批次的datasets的样本下标的列表\n",
    "# 然后通过datasets的下标得到实际样本的内容（一次获取一个批次的内容）\n",
    "# 最后通过collate_fct对实际得到的样本内容进行处理，得到最终可迭代输出的batch\n",
    "sample_dl = DataLoader(train_ds, batch_sampler=sampler, collate_fn=partial(collate_fct, tokenizer=tokenizer)) #partial函数，固定collate_fct的tokenizer参数\n",
    "\n",
    "for batch in sample_dl:\n",
    "    for key, value in batch.items():\n",
    "        print(key)\n",
    "        print(value)\n",
    "    break"
   ]
  },
  {
   "cell_type": "markdown",
   "metadata": {
    "id": "0AadtoM3N4yC"
   },
   "source": [
    "## 定义模型\n",
    "\n",
    "- Transformer模型由Embedding、Transformer-Block组成\n",
    "- Embedding包括：\n",
    "    - WordEmbedding\n",
    "    - PositionEmbedding\n",
    "- Transformer-Block包括：\n",
    "    - Self-Attention\n",
    "    - Cross-Attention\n",
    "    - MLP"
   ]
  },
  {
   "cell_type": "markdown",
   "metadata": {
    "id": "VTl-sSJmN4yD"
   },
   "source": [
    "### Embedding"
   ]
  },
  {
   "cell_type": "code",
   "execution_count": 358,
   "metadata": {
    "ExecuteTime": {
     "end_time": "2024-08-05T08:06:24.109021500Z",
     "start_time": "2024-08-05T08:06:24.106022800Z"
    },
    "ExecutionIndicator": {
     "show": true
    },
    "colab": {
     "base_uri": "https://localhost:8080/",
     "height": 455
    },
    "id": "y66CxrsBN4yD",
    "outputId": "c703025c-afc5-4012-d8e3-0e9d4ad253ec",
    "tags": []
   },
   "outputs": [
    {
     "data": {
      "image/png": "[encoded data removed]",
      "text/plain": [
       "<Figure size 640x480 with 2 Axes>"
      ]
     },
     "metadata": {},
     "output_type": "display_data"
    }
   ],
   "source": [
    "\n",
    "class TransformerEmbedding(nn.Module):\n",
    "    def __init__(self, config):\n",
    "        super().__init__()\n",
    "        # hyper params\n",
    "        self.vocab_size = config[\"vocab_size\"]\n",
    "        self.hidden_size = config[\"d_model\"] # 词向量维度\n",
    "        self.pad_idx = config[\"pad_idx\"]\n",
    "        dropout_rate = config[\"dropout\"]\n",
    "        self.max_length = config[\"max_length\"]\n",
    "\n",
    "        # layers,设置padding_idx可以让pad的词向量全为0\n",
    "        self.word_embedding = nn.Embedding(\n",
    "            self.vocab_size, self.hidden_size, padding_idx=self.pad_idx\n",
    "        )\n",
    "        self.pos_embedding = nn.Embedding(\n",
    "            self.max_length,\n",
    "            self.hidden_size,\n",
    "            _weight=self.get_positional_encoding(\n",
    "                self.max_length, self.hidden_size\n",
    "            ),# 位置编码，权重通过get_positional_encoding函数计算得到\n",
    "        )\n",
    "        self.pos_embedding.weight.requires_grad_(False) # 不更新位置编码的权重\n",
    "        self.dropout = nn.Dropout(dropout_rate) # 随机失活层\n",
    "\n",
    "    def get_word_embedding_weights(self):\n",
    "        return self.word_embedding.weight\n",
    "\n",
    "    # 计算位置信息\n",
    "    @classmethod\n",
    "    def get_positional_encoding(self, max_length, hidden_size):#max_length是最大长度，hidden_size是embedding维度相等\n",
    "        # Compute the positional encodings once in log space.\n",
    "        # pe = [max_len, hidden_size]\n",
    "        pe = torch.zeros(max_length, hidden_size) # 初始化位置编码\n",
    "        # .unsqueeze(1) 是将这个一维张量转换为二维张量，即将其形状从 (max_length,) 变为 (max_length, 1)。这个操作在张量的维度上增加了一个维度，使其从一维变为二维，第二维的大小为 1。\n",
    "        # position = [max_length, 1]\n",
    "        position = torch.arange(0, max_length).unsqueeze(1) # 位置信息,从0到max_length-1\n",
    "        div_term = torch.exp(\n",
    "            torch.arange(0, hidden_size, 2)\n",
    "            * -(torch.log(torch.Tensor([10000.0])) / hidden_size)\n",
    "        )\n",
    "        # 计算位置编码的权重,为了性能考量（是数学上的对数函数分解）, div_term = [hidden_size/2]\n",
    "        # 假如position为[3, 1]，如[[0], [1], [2]]，div_term为[2]，如[a, b]\n",
    "        # 则通过广播position * div_term得到如下\n",
    "        # [[0*a, 0*b],\n",
    "        # [1*a, 1*b],\n",
    "        # [2*a, 2*b]]\n",
    "        # 所以最终的位置编码就是：\n",
    "        # [[sin(0*a), cos(0*a), sin(0*b), cos(0*b)],\n",
    "        # [sin(1*a), cos(1*a), sin(1*b), cos(1*b)],\n",
    "        # [sin(2*a), cos(2*a), sin(2*b), cos(2*b)]]\n",
    "        pe[:, 0::2] = torch.sin(position * div_term) # 运算时div_term中所有元素都会与position中元素相乘\n",
    "        pe[:, 1::2] = torch.cos(position * div_term)\n",
    "        return pe\n",
    "\n",
    "    def forward(self, input_ids):\n",
    "        # input_ids: [batch_size, seq_len]\n",
    "        seq_len = input_ids.shape[1]\n",
    "        assert (\n",
    "            seq_len <= self.max_length\n",
    "        ), f\"input sequence length should no more than {self.max_length} but got {seq_len}\"\n",
    "\n",
    "        # position_ids = [seq_len]\n",
    "        position_ids = torch.arange(seq_len, dtype=torch.long, device=input_ids.device)\n",
    "        # position_ids = [batch_size, seq_len], 函数expand_as(input_ids)就是把position_ids扩展成和input_ids一样的形状\n",
    "        position_ids = position_ids.unsqueeze(0).expand_as(input_ids)\n",
    "        # print(position_ids)\n",
    "        # embedding\n",
    "        word_embeds = self.word_embedding(input_ids) # 词嵌入,word_embeds = [batch_size, seq_len, hidden_size]\n",
    "        pos_embeds = self.pos_embedding(position_ids) # 位置编码,pos_embeds = [batch_size, seq_len, hidden_size]\n",
    "        embeds = word_embeds + pos_embeds\n",
    "        embeds = self.dropout(embeds) # embeds = [batch_size, seq_len, hidden_size]\n",
    "\n",
    "        return embeds\n",
    "\n",
    "\n",
    "def plot_position_embedding(position_embedding):# 绘制位置编码\n",
    "    plt.pcolormesh(position_embedding) # 绘制位置编码矩阵\n",
    "    plt.xlabel('Depth')\n",
    "    plt.ylabel('Position')\n",
    "    plt.colorbar() # 颜色条，-1到1的颜色范围\n",
    "    plt.show()\n",
    "\n",
    "position_embedding = TransformerEmbedding.get_positional_encoding(64, 128)\n",
    "plot_position_embedding(position_embedding)\n"
   ]
  },
  {
   "cell_type": "code",
   "execution_count": 359,
   "metadata": {
    "ExecuteTime": {
     "end_time": "2024-08-05T08:06:24.109021500Z",
     "start_time": "2024-08-05T08:06:24.107023100Z"
    },
    "collapsed": false,
    "jupyter": {
     "outputs_hidden": false
    }
   },
   "outputs": [
    {
     "data": {
      "text/plain": [
       "torch.Size([2, 50, 128])"
      ]
     },
     "execution_count": 359,
     "metadata": {},
     "output_type": "execute_result"
    }
   ],
   "source": [
    "#随机input，调用TransformerEmbedding\n",
    "config={\n",
    "    \"vocab_size\": 100,\n",
    "    \"d_model\": 128,\n",
    "    \"pad_idx\": 0,\n",
    "    \"max_length\": 64,\n",
    "    \"dropout\": 0.1,\n",
    "}\n",
    "input_ids = torch.randint(0, 100, (2, 50))\n",
    "embeds = TransformerEmbedding(config)(input_ids)\n",
    "embeds.shape"
   ]
  },
  {
   "cell_type": "markdown",
   "metadata": {
    "id": "wXavO0SNN4yD"
   },
   "source": [
    "### Transformer Block"
   ]
  },
  {
   "cell_type": "markdown",
   "metadata": {
    "id": "HZL4mu3pN4yD"
   },
   "source": [
    "#### scaled-dot-product-attention"
   ]
  },
  {
   "cell_type": "code",
   "execution_count": 360,
   "metadata": {
    "ExecuteTime": {
     "end_time": "2024-08-05T08:06:24.109021500Z",
     "start_time": "2024-08-05T08:06:24.108022500Z"
    },
    "colab": {
     "base_uri": "https://localhost:8080/",
     "height": 970
    },
    "id": "U9QwdVQYN4yD",
    "outputId": "b6ae9ac8-c71c-4a7b-fd4b-9c15e92dba2c"
   },
   "outputs": [
    {
     "name": "stdout",
     "output_type": "stream",
     "text": [
      "key_value.shape torch.Size([2, 4, 2])\n",
      "torch.Size([2, 3, 2])\n",
      "torch.Size([2, 2, 3, 4])\n"
     ]
    }
   ],
   "source": [
    "from dataclasses import dataclass\n",
    "from typing import Optional, Tuple\n",
    "\n",
    "Tensor = torch.Tensor\n",
    "\n",
    "@dataclass\n",
    "class AttentionOutput:\n",
    "    hidden_states: Tensor\n",
    "    attn_scores: Tensor\n",
    "\n",
    "class MultiHeadAttention(nn.Module):\n",
    "    def __init__(self, config):\n",
    "        super().__init__()\n",
    "        # hyper params\n",
    "        self.hidden_size = config[\"d_model\"] # 隐藏层大小\n",
    "        self.num_heads = config[\"num_heads\"] # 多头注意力的头数\n",
    "        assert (\n",
    "            self.hidden_size % self.num_heads == 0\n",
    "        ), \"Hidden size must be divisible by num_heads but got {} and {}\".format(\n",
    "            self.hidden_size, self.num_heads\n",
    "        )\n",
    "        self.head_dim = self.hidden_size // self.num_heads # 每个头的维度\n",
    "\n",
    "        # layers\n",
    "        self.Wq = nn.Linear(self.hidden_size, self.hidden_size, bias=False) #第二个self.hidden_size可以*系数\n",
    "        self.Wk = nn.Linear(self.hidden_size, self.hidden_size, bias=False)\n",
    "        self.Wv = nn.Linear(self.hidden_size, self.hidden_size, bias=False)\n",
    "        self.Wo = nn.Linear(self.hidden_size, self.hidden_size, bias=False) # 输出层\n",
    "\n",
    "    def _split_heads(self, x: Tensor) -> Tensor:\n",
    "        bs, seq_len, _ = x.shape #假设输入的维度是[batch_size, seq_len, hidden_size],hidden_size是512\n",
    "        x = x.view(bs, seq_len, self.num_heads, self.head_dim) #num_heads是8，head_dim是64\n",
    "        return x.permute(0, 2, 1, 3) #变换维度，[batch_size, num_heads, seq_len, head_dim]\n",
    "\n",
    "    def _merge_heads(self, x: Tensor) -> Tensor:#将多头注意力的输出合并为一个张量\n",
    "        bs, _, seq_len, _ = x.shape #假设输入的维度是[batch_size, num_heads, seq_len, head_dim]\n",
    "        return x.permute(0, 2, 1, 3).reshape(bs, seq_len, self.hidden_size) # 变换维度，变为[batch_size, seq_len, hidden_size]\n",
    "\n",
    "    def forward(self, querys, keys, values, attn_mask=None) -> AttentionOutput:\n",
    "        # split heads，将Q、K、V拆分为多个头\n",
    "        querys = self._split_heads(self.Wq(querys)) #(batch_size, seq_len,hidden_dim)-->[batch_size, num_heads, seq_len, head_dim]\n",
    "        keys = self._split_heads(self.Wk(keys))#[batch_size, num_heads, seq_len, head_dim]\n",
    "        values = self._split_heads(self.Wv(values))#[batch_size, num_heads, seq_len, head_dim]\n",
    "\n",
    "        # calculate attention scores：可以理解为[batch_size, num_heads]上对应位置的矩阵进行了点积\n",
    "        qk_logits = torch.matmul(querys, keys.mT) # 计算注意力分数，matmul是矩阵乘法，mT是矩阵转置,qk_logits是[batch_size, num_heads, seq_len, seq_len]\n",
    "        # print(querys.shape[-2], keys.shape[-2])  #3 4\n",
    "        if attn_mask is not None:\n",
    "            # 实际上attn_mask的维度是[batch_size, 1, 1, seq_len]，所以querys.shape[-2]的并没有什么卵用，截取到的维度还是1\n",
    "            # 最终得到的attn_mask的维度是[ batch_size, 1, 1, keys.shape[-2] ]\n",
    "            # 然后再跟qk_logits相加时，attn_mask的维度会自动广播到qk_logits的维度，所以这里不需要做任何处理\n",
    "            # print(f\"变换前：attn_mask.shape:{attn_mask.shape}\")\n",
    "            attn_mask = attn_mask[:, :, : querys.shape[-2], : keys.shape[-2]] \n",
    "            # print(f\"变换后：attn_mask.shape:{attn_mask.shape}\")\n",
    "            qk_logits += attn_mask * -1e9 # 给需要mask的地方设置一个负无穷\n",
    "        attn_scores = F.softmax(qk_logits / (self.head_dim**0.5), dim=-1) # 计算注意力分数\n",
    "\n",
    "        # apply attention scores\n",
    "        embeds = torch.matmul(attn_scores, values) # softmax后的结果与value相乘，得到新的表示\n",
    "        embeds = self.Wo(self._merge_heads(embeds)) # 输出层 [batch_size, seq_len, hidden_size]\n",
    "\n",
    "        return AttentionOutput(hidden_states=embeds, attn_scores=attn_scores)\n",
    "\n",
    "mha = MultiHeadAttention({\"num_heads\": 2, \"d_model\": 2})\n",
    "query = torch.randn(2, 3, 2) # [batch_size, seq_len, hidden_size]\n",
    "query /= query.norm(dim=-1, keepdim=True) # 归一化\n",
    "key_value = torch.randn(2, 4, 2)\n",
    "print(f'key_value.shape {key_value.shape}')\n",
    "outputs = mha(query, key_value, key_value) #最终输出shape和query的shape一样\n",
    "print(outputs.hidden_states.shape)\n",
    "print(outputs.attn_scores.shape)"
   ]
  },
  {
   "cell_type": "code",
   "execution_count": 361,
   "metadata": {
    "ExecuteTime": {
     "end_time": "2024-08-05T08:06:24.816743500Z",
     "start_time": "2024-08-05T08:06:24.108022500Z"
    },
    "collapsed": false,
    "jupyter": {
     "outputs_hidden": false
    }
   },
   "outputs": [
    {
     "data": {
      "image/png": "[encoded data removed]",
      "text/plain": [
       "<Figure size 640x480 with 4 Axes>"
      ]
     },
     "metadata": {},
     "output_type": "display_data"
    }
   ],
   "source": [
    "# plt.subplots() 用于创建子图网格，其维度基于 outputs.attn_scores.shape[:2]。子图的行数和列数似乎由 outputs.attn_scores 的前两个维度确定。\n",
    "fig, axis = plt.subplots(*outputs.attn_scores.shape[:2])\n",
    "for i in range(query.shape[0]):\n",
    "    for j in range(outputs.attn_scores.shape[1]):\n",
    "        # axis[i, j].matshow(outputs.attn_scores[i, j].detach().numpy())：此行使用 Matplotlib 的 matshow 绘制每个 i 和 j 的注意力分数热图。detach().numpy() 将 PyTorch 张量转换为 NumPy 数组以进行可视化。\n",
    "        axis[i, j].matshow(outputs.attn_scores[i, j].detach().numpy())\n",
    "        for x in range(outputs.attn_scores.shape[2]):\n",
    "            for y in range(outputs.attn_scores.shape[3]):\n",
    "                # axis[i, j].text(y, x, f\"{outputs.attn_scores[i, j, x, y]:.2f}\", ha=\"center\", va=\"center\", color=\"w\")：此代码在热图上叠加文本，显示 (x, y) 位置处的注意力分数。格式化部分 f\"{outputs.attn_scores[i, j, x, y]:.2f}\" 确保以两位小数显示注意力分数。文本以白色居中显示在 (y, x) 坐标处。\n",
    "                axis[i, j].text(y, x, f\"{outputs.attn_scores[i, j, x, y]:.2f}\", ha=\"center\", va=\"center\", color=\"w\")\n",
    "fig.suptitle(\"multi head attention without mask\")\n",
    "plt.show()"
   ]
  },
  {
   "cell_type": "code",
   "execution_count": 362,
   "metadata": {
    "ExecuteTime": {
     "end_time": "2024-08-05T08:06:25.525550800Z",
     "start_time": "2024-08-05T08:06:24.814755500Z"
    },
    "collapsed": false,
    "jupyter": {
     "outputs_hidden": false
    }
   },
   "outputs": [
    {
     "name": "stdout",
     "output_type": "stream",
     "text": [
      "--------------------------------------------------\n"
     ]
    },
    {
     "data": {
      "image/png": "[encoded data removed]",
      "text/plain": [
       "<Figure size 640x480 with 4 Axes>"
      ]
     },
     "metadata": {},
     "output_type": "display_data"
    }
   ],
   "source": [
    "print('-'*50)\n",
    "# mask\n",
    "mask = torch.Tensor([[0, 0, 1, 1], [0, 0, 0, 1], [0, 0, 0, 0]]).reshape(1, 1, 3, 4) #手工构造mask\n",
    "outputs_masked = mha(query, key_value, key_value, mask)\n",
    "\n",
    "fig, axis = plt.subplots(*outputs_masked.attn_scores.shape[:2])\n",
    "for i in range(query.shape[0]):\n",
    "    for j in range(outputs_masked.attn_scores.shape[1]):\n",
    "        axis[i, j].matshow(outputs_masked.attn_scores[i, j].detach().numpy())\n",
    "        for x in range(outputs_masked.attn_scores.shape[2]):\n",
    "            for y in range(outputs_masked.attn_scores.shape[3]):\n",
    "                axis[i, j].text(y, x, f\"{outputs_masked.attn_scores[i, j, x, y]:.2f}\", ha=\"center\", va=\"center\", color=\"w\")\n",
    "fig.suptitle(\"multi head attention with mask\")\n",
    "plt.show()"
   ]
  },
  {
   "cell_type": "markdown",
   "metadata": {
    "id": "GkzzrRWVN4yE"
   },
   "source": [
    "#### Transformer-Block"
   ]
  },
  {
   "cell_type": "code",
   "execution_count": 363,
   "metadata": {
    "ExecuteTime": {
     "end_time": "2024-08-05T08:06:25.527550400Z",
     "start_time": "2024-08-05T08:06:25.524551200Z"
    },
    "id": "b16xpL47N4yE"
   },
   "outputs": [],
   "source": [
    "# 通过使用 @dataclass 装饰器，Python 会自动为该类生成一些方法，如 __init__()、__repr__() 和 __eq__() 等，这些方法可以使类的使用更加方便。\n",
    "@dataclass\n",
    "class TransformerBlockOutput:\n",
    "# hidden_states: Tensor：用于存储某个块产生的隐藏状态。\n",
    "# self_attn_scores: Tensor：包含了自注意力机制（self-attention）所计算得到的注意力分数。\n",
    "# cross_attn_scores: Optional[Tensor] = None：是一个可选字段，存储了交叉注意力（cross-attention）计算得到的注意力分数。这里的 Optional 表示这个字段可以是 Tensor 类型，也可以是 None。\n",
    "    hidden_states: Tensor\n",
    "    self_attn_scores: Tensor\n",
    "    cross_attn_scores: Optional[Tensor] = None\n",
    "\n",
    "class TransformerBlock(nn.Module):\n",
    "    def __init__(self, config, add_cross_attention=False):\n",
    "        super().__init__()\n",
    "        # hyper params\n",
    "        self.hidden_size = config[\"d_model\"]\n",
    "        self.num_heads = config[\"num_heads\"]\n",
    "        dropout_rate = config[\"dropout\"]\n",
    "        ffn_dim = config[\"dim_feedforward\"]\n",
    "        eps = config[\"layer_norm_eps\"] # 层归一化的epsilon值\n",
    "\n",
    "        # self-attention\n",
    "        self.self_atten = MultiHeadAttention(config) # 多头注意力\n",
    "        self.self_ln = nn.LayerNorm(self.hidden_size, eps=eps) #层归一化(层标准化)\n",
    "        self.self_dropout = nn.Dropout(dropout_rate)\n",
    "\n",
    "        # cross-attention，交叉注意力，decoder中使用,因此额外做一个判断\n",
    "        if add_cross_attention:\n",
    "            self.cross_atten = MultiHeadAttention(config)\n",
    "            self.cross_ln = nn.LayerNorm(self.hidden_size, eps=eps)\n",
    "            self.cross_dropout = nn.Dropout(dropout_rate)\n",
    "        else:\n",
    "            self.cross_atten = None\n",
    "\n",
    "        # FFN,前馈神经网络\n",
    "        self.ffn = nn.Sequential(\n",
    "            nn.Linear(self.hidden_size, ffn_dim),\n",
    "            nn.ReLU(),\n",
    "            nn.Linear(ffn_dim, self.hidden_size),\n",
    "        )\n",
    "        self.ffn_ln = nn.LayerNorm(self.hidden_size, eps=eps)\n",
    "        self.ffn_dropout = nn.Dropout(dropout_rate)\n",
    "\n",
    "    def forward(\n",
    "        self,\n",
    "        hidden_states,\n",
    "        attn_mask=None,\n",
    "        encoder_outputs=None,\n",
    "        cross_attn_mask=None,\n",
    "    ):\n",
    "        # self-attention,自注意力， self_atten_output = [batch_size, seq_len, hidden_size]\n",
    "        self_atten_output = self.self_atten(\n",
    "            hidden_states, hidden_states, hidden_states, attn_mask\n",
    "        )\n",
    "        # self_embeds = [batch_size, seq_len, hidden_size]，层归一化中进行了残差连接\n",
    "        self_embeds = self.self_ln(\n",
    "            hidden_states + self.self_dropout(self_atten_output.hidden_states)\n",
    "        ) #多头注意力进行dropout，然后和原始输入进行残差连接，然后进行层归一化\n",
    "\n",
    "        # cross-attention，交叉注意力\n",
    "        if self.cross_atten is not None:\n",
    "            assert encoder_outputs is not None\n",
    "            cross_atten_output = self.cross_atten(\n",
    "                self_embeds, encoder_outputs, encoder_outputs, cross_attn_mask\n",
    "            ) #query是self_embeds，key和value都是encoder_outputs\n",
    "            cross_embeds = self.cross_ln(\n",
    "                self_embeds + self.cross_dropout(cross_atten_output.hidden_states)\n",
    "            ) # 交叉注意力进行dropout，然后和self_embeds进行残差连接，然后进行层归一化\n",
    "\n",
    "        # FFN\n",
    "        embeds = cross_embeds if self.cross_atten is not None else self_embeds # 如果有交叉注意力，则使用交叉注意力的输出作为FFN的输入；否则，使用self_embeds作为FFN的输入\n",
    "        ffn_output = self.ffn(embeds) # 前馈神经网络\n",
    "        embeds = self.ffn_ln(embeds + self.ffn_dropout(ffn_output)) # 前馈神经网络进行dropout，然后和原始输入进行残差连接，然后进行层归一化\n",
    "\n",
    "        return TransformerBlockOutput(\n",
    "            hidden_states=embeds,\n",
    "            self_attn_scores=self_atten_output.attn_scores,\n",
    "            cross_attn_scores=cross_atten_output.attn_scores\n",
    "            if self.cross_atten is not None\n",
    "            else None,\n",
    "        )"
   ]
  },
  {
   "cell_type": "markdown",
   "metadata": {
    "id": "tfJIGaohN4yE"
   },
   "source": [
    "#### Encoder"
   ]
  },
  {
   "cell_type": "code",
   "execution_count": 364,
   "metadata": {
    "ExecuteTime": {
     "end_time": "2024-08-05T08:06:25.527550400Z",
     "start_time": "2024-08-05T08:06:25.525550800Z"
    },
    "id": "sTLabHm7N4yE"
   },
   "outputs": [],
   "source": [
    "from typing import List\n",
    "\n",
    "@dataclass\n",
    "class TransformerEncoderOutput:\n",
    "    last_hidden_states: Tensor\n",
    "    attn_scores: List[Tensor]\n",
    "\n",
    "# https://pytorch.org/docs/stable/generated/torch.nn.Module.html#torch.nn.Module\n",
    "class TransformerEncoder(nn.Module):\n",
    "    def __init__(self, config):\n",
    "        super().__init__()\n",
    "        # hyper params\n",
    "        self.num_layers = config[\"num_encoder_layers\"]\n",
    "\n",
    "        # layers,仅仅是一个模块的列表，它本身没有定义前向传递（forward pass）过程。你需要在 forward 方法中明确地定义如何使用这些模块。\n",
    "        self.layers = nn.ModuleList(\n",
    "            [TransformerBlock(config) for _ in range(self.num_layers)]\n",
    "        )\n",
    "\n",
    "    def forward(\n",
    "        self, encoder_inputs_embeds, attn_mask=None\n",
    "    ) -> TransformerEncoderOutput:\n",
    "        attn_scores = [] # 存储每个层的注意力分数\n",
    "        embeds = encoder_inputs_embeds # 输入的嵌入向量作为第一层的输入(embedding+位置编码)\n",
    "        for layer in self.layers:\n",
    "            block_outputs = layer(embeds, attn_mask=attn_mask)\n",
    "            embeds = block_outputs.hidden_states #上一层的输出作为下一层的输入\n",
    "            # 在每个层的输出中，提取了隐藏状态 block_outputs.hidden_states，并将对应的注意力分数 block_outputs.self_attn_scores 添加到列表 attn_scores 中。\n",
    "            attn_scores.append(block_outputs.self_attn_scores) # 存储每个层的注意力分数,用于画图\n",
    "\n",
    "        return TransformerEncoderOutput(\n",
    "            last_hidden_states=embeds, attn_scores=attn_scores\n",
    "        )\n",
    "\n"
   ]
  },
  {
   "cell_type": "markdown",
   "metadata": {
    "id": "BEMNj6eBN4yE"
   },
   "source": [
    "#### Decoder"
   ]
  },
  {
   "cell_type": "code",
   "execution_count": 365,
   "metadata": {
    "ExecuteTime": {
     "end_time": "2024-08-05T08:06:25.527550400Z",
     "start_time": "2024-08-05T08:06:25.525550800Z"
    },
    "id": "wCHOur-QN4yE"
   },
   "outputs": [],
   "source": [
    "@dataclass\n",
    "class TransformerDecoderOutput:\n",
    "    last_hidden_states: Tensor\n",
    "    self_attn_scores: List[Tensor]\n",
    "    cross_attn_scores: List[Tensor]\n",
    "\n",
    "\n",
    "class TransformerDecoder(nn.Module):\n",
    "    def __init__(self, config):\n",
    "        super().__init__()\n",
    "        # hyper params\n",
    "        self.num_layers = config[\"num_decoder_layers\"]\n",
    "\n",
    "        # layers\n",
    "        self.layers = nn.ModuleList(\n",
    "            [\n",
    "                TransformerBlock(config, add_cross_attention=True)\n",
    "                for _ in range(self.num_layers)\n",
    "            ]\n",
    "        )\n",
    "\n",
    "    def forward(\n",
    "        self,\n",
    "        decoder_inputs_embeds,\n",
    "        encoder_outputs,\n",
    "        attn_mask=None,\n",
    "        cross_attn_mask=None,\n",
    "    ) -> TransformerDecoderOutput:\n",
    "        self_attn_scores = [] # 存储每个层的自注意力分数\n",
    "        cross_attn_scores = [] # 存储每个层的交叉注意力分数\n",
    "        embeds = decoder_inputs_embeds # 输入的嵌入向量作为第一层的输入(embedding+位置编码)\n",
    "        for layer in self.layers:\n",
    "            block_outputs = layer(\n",
    "                embeds,\n",
    "                attn_mask=attn_mask, # 自注意力的mask\n",
    "                encoder_outputs=encoder_outputs,\n",
    "                cross_attn_mask=cross_attn_mask, # 交叉注意力的mask\n",
    "            )\n",
    "            embeds = block_outputs.hidden_states # 上一层的输出作为下一层的输入\n",
    "            self_attn_scores.append(block_outputs.self_attn_scores) # 存储每个层的自注意力分数\n",
    "            cross_attn_scores.append(block_outputs.cross_attn_scores) # 存储每个层的交叉注意力分数\n",
    "\n",
    "        return TransformerDecoderOutput(\n",
    "            last_hidden_states=embeds,\n",
    "            self_attn_scores=self_attn_scores,\n",
    "            cross_attn_scores=cross_attn_scores,\n",
    "        )\n"
   ]
  },
  {
   "cell_type": "markdown",
   "metadata": {
    "id": "zPrvXAXtN4yF"
   },
   "source": [
    "#### mask\n",
    "\n",
    "- mask实际上大类上只有两种\n",
    "    1. `padding_mask`：mask掉`pad_idx`，不计算损失\n",
    "    2. `attention_mask`：mask掉`pad_idx`，不计算注意力分数\n",
    "- Decoder的`attention_mask`和Encoder有一定的区别：\n",
    "    - Encoder可以同时看见序列所有信息，故只mask掉`pad_idx`\n",
    "    - Decoder只能看到在自身之前的序列的信息，故要额外mask掉自身之后的序列"
   ]
  },
  {
   "cell_type": "code",
   "execution_count": 366,
   "metadata": {
    "ExecuteTime": {
     "end_time": "2024-08-05T08:06:25.527550400Z",
     "start_time": "2024-08-05T08:06:25.526551200Z"
    },
    "colab": {
     "base_uri": "https://localhost:8080/"
    },
    "execution": {
     "iopub.execute_input": "2025-02-07T01:56:07.812278Z",
     "iopub.status.busy": "2025-02-07T01:56:07.811975Z",
     "iopub.status.idle": "2025-02-07T01:56:07.818492Z",
     "shell.execute_reply": "2025-02-07T01:56:07.817993Z",
     "shell.execute_reply.started": "2025-02-07T01:56:07.812259Z"
    },
    "id": "D2N9VmcAWLn1",
    "outputId": "560b8af9-c854-4fd7-df3e-86e9eb9045cc"
   },
   "outputs": [
    {
     "data": {
      "text/plain": [
       "tensor([[False,  True,  True,  True,  True],\n",
       "        [False, False,  True,  True,  True],\n",
       "        [False, False, False,  True,  True],\n",
       "        [False, False, False, False,  True],\n",
       "        [False, False, False, False, False]])"
      ]
     },
     "execution_count": 366,
     "metadata": {},
     "output_type": "execute_result"
    }
   ],
   "source": [
    "(torch.triu(torch.ones(5, 5)) == 0).transpose(-1,-2)"
   ]
  },
  {
   "cell_type": "code",
   "execution_count": 367,
   "metadata": {
    "ExecuteTime": {
     "end_time": "2024-08-05T08:06:26.193720900Z",
     "start_time": "2024-08-05T08:06:25.526551200Z"
    },
    "colab": {
     "base_uri": "https://localhost:8080/",
     "height": 426
    },
    "id": "QxpSYOsaN4yF",
    "outputId": "1022d3c3-c72e-4798-b998-c71c6690b94e"
   },
   "outputs": [
    {
     "data": {
      "image/png": "[encoded data removed]",
      "text/plain": [
       "<Figure size 480x480 with 2 Axes>"
      ]
     },
     "metadata": {},
     "output_type": "display_data"
    }
   ],
   "source": [
    "\n",
    "def generate_square_subsequent_mask(sz: int) -> Tensor:\n",
    "    \"\"\"\n",
    "    Generate a square mask for the sequence. The masked positions are filled with True.\n",
    "        Unmasked positions are filled with False.\n",
    "    \"\"\"\n",
    "    # torch.ones(sz, sz): 创建一个全为 1 的 sz × sz 的矩阵。\n",
    "    # torch.triu(...): 使用 triu 函数取得矩阵的上三角部分，将主对角线以下部分置零。\n",
    "    mask = (torch.triu(torch.ones(sz, sz)) == 0).transpose(-1, -2).bool()\n",
    "    # mask = torch.triu(torch.ones(sz, sz))\n",
    "    return mask\n",
    "\n",
    "\n",
    "plt.matshow(generate_square_subsequent_mask(16))\n",
    "plt.colorbar()\n",
    "plt.xlabel(\"keys\")\n",
    "plt.ylabel(\"querys\")\n",
    "plt.title(\"1 means mask while 0 means unmask\")\n",
    "plt.show()"
   ]
  },
  {
   "cell_type": "code",
   "execution_count": 368,
   "metadata": {
    "ExecuteTime": {
     "end_time": "2024-08-05T08:06:27.178084Z",
     "start_time": "2024-08-05T08:06:25.538543600Z"
    },
    "colab": {
     "base_uri": "https://localhost:8080/",
     "height": 960
    },
    "id": "cPeMjXO1N4yF",
    "outputId": "e6922ce8-ba71-491f-d7a6-709a14a4b7d7"
   },
   "outputs": [
    {
     "name": "stdout",
     "output_type": "stream",
     "text": [
      "['[BOS]', '[UNK]', 'quick', 'brown', '[UNK]', 'jumps', 'over', 'the', '[UNK]', 'dog', '.', '[EOS]']\n"
     ]
    },
    {
     "data": {
      "image/png": "[encoded data removed]",
      "text/plain": [
       "<Figure size 1000x500 with 2 Axes>"
      ]
     },
     "metadata": {},
     "output_type": "display_data"
    },
    {
     "name": "stdout",
     "output_type": "stream",
     "text": [
      "--------------------------------------------------\n",
      "['[BOS]', '[UNK]', 'does', 'the', '[UNK]', 'say', '?', '[EOS]', '[PAD]', '[PAD]', '[PAD]', '[PAD]']\n"
     ]
    },
    {
     "data": {
      "image/png": "[encoded data removed]",
      "text/plain": [
       "<Figure size 1000x500 with 2 Axes>"
      ]
     },
     "metadata": {},
     "output_type": "display_data"
    },
    {
     "name": "stdout",
     "output_type": "stream",
     "text": [
      "--------------------------------------------------\n"
     ]
    }
   ],
   "source": [
    "#通过下面代码查看mask的效果\n",
    "inputs_words = [\"The quick brown fox jumps over the lazy dog .\", \"What does the fox say ?\"]\n",
    "\n",
    "inputs_ids, input_mask = tokenizer.encode([w.split() for w in inputs_words], return_mask=True)\n",
    "for i in range(len(inputs_words)):\n",
    "    decode_text = tokenizer.decode(inputs_ids[i: i+1].tolist(), remove_bos=False, remove_eos=False, remove_pad=False, split=True)[0]\n",
    "    print(decode_text)\n",
    "    self_attn_mask  = input_mask[i].reshape(1, -1).repeat_interleave(inputs_ids.shape[-1], dim=0)\n",
    "    look_ahead_mask = generate_square_subsequent_mask(inputs_ids.shape[-1])\n",
    "\n",
    "    fig, axs = plt.subplots(1, 2, figsize=(10, 5))\n",
    "    axs[0].matshow(self_attn_mask)\n",
    "    axs[0].set_title(\"self_attn_mask\")\n",
    "    axs[0].set_yticks(range(len(decode_text)), decode_text, fontsize=6)\n",
    "    axs[0].set_ylabel(\"querys\")\n",
    "    axs[0].set_xticks(range(len(decode_text)), decode_text, fontsize=6)\n",
    "    axs[0].set_xlabel(\"keys\")\n",
    "    axs[1].matshow(look_ahead_mask)\n",
    "    axs[1].set_title(\"look_ahead_mask\")\n",
    "    axs[1].set_yticks(range(len(decode_text)), decode_text, fontsize=6)\n",
    "    axs[1].set_ylabel(\"querys\")\n",
    "    axs[1].set_xticks(range(len(decode_text)), decode_text, fontsize=6)\n",
    "    axs[1].set_xlabel(\"keys\")\n",
    "    plt.show()\n",
    "    print('-'*50)"
   ]
  },
  {
   "cell_type": "code",
   "execution_count": 369,
   "metadata": {
    "ExecuteTime": {
     "end_time": "2024-08-05T08:06:27.179078300Z",
     "start_time": "2024-08-05T08:06:26.513547400Z"
    },
    "collapsed": false,
    "execution": {
     "iopub.execute_input": "2025-02-07T01:56:08.479082Z",
     "iopub.status.busy": "2025-02-07T01:56:08.478490Z",
     "iopub.status.idle": "2025-02-07T01:56:08.484889Z",
     "shell.execute_reply": "2025-02-07T01:56:08.484206Z",
     "shell.execute_reply.started": "2025-02-07T01:56:08.479047Z"
    },
    "jupyter": {
     "outputs_hidden": false
    }
   },
   "outputs": [
    {
     "data": {
      "text/plain": [
       "tensor([[False,  True,  True,  True,  True],\n",
       "        [False, False,  True,  True,  True],\n",
       "        [False, False, False,  True,  True],\n",
       "        [False, False, False, False,  True],\n",
       "        [False, False, False, False, False]])"
      ]
     },
     "execution_count": 369,
     "metadata": {},
     "output_type": "execute_result"
    }
   ],
   "source": [
    "(torch.triu(torch.ones(5, 5)) == 0).transpose(-1, -2).bool()"
   ]
  },
  {
   "cell_type": "code",
   "execution_count": 370,
   "metadata": {
    "ExecuteTime": {
     "end_time": "2024-08-05T08:06:27.234057200Z",
     "start_time": "2024-08-05T08:06:27.159090100Z"
    },
    "collapsed": false,
    "execution": {
     "iopub.execute_input": "2025-02-07T01:56:08.486013Z",
     "iopub.status.busy": "2025-02-07T01:56:08.485639Z",
     "iopub.status.idle": "2025-02-07T01:56:08.490977Z",
     "shell.execute_reply": "2025-02-07T01:56:08.490329Z",
     "shell.execute_reply.started": "2025-02-07T01:56:08.485984Z"
    },
    "jupyter": {
     "outputs_hidden": false
    }
   },
   "outputs": [
    {
     "data": {
      "text/plain": [
       "torch.Size([5, 1, 4, 4])"
      ]
     },
     "execution_count": 370,
     "metadata": {},
     "output_type": "execute_result"
    }
   ],
   "source": [
    "#帮我随机两个[5, 1, 1, 4]与[1, 1, 4, 4]尺寸的张量，并求和\n",
    "a = torch.randn(5, 1, 1, 4)\n",
    "b = torch.randn(1, 1, 4, 4)\n",
    "(a + b).shape"
   ]
  },
  {
   "cell_type": "markdown",
   "metadata": {
    "id": "TelCDOoEN4yF"
   },
   "source": [
    "#### Transformer Model"
   ]
  },
  {
   "cell_type": "code",
   "execution_count": 371,
   "metadata": {
    "ExecuteTime": {
     "end_time": "2024-08-05T08:06:27.234057200Z",
     "start_time": "2024-08-05T08:06:27.160089800Z"
    },
    "id": "oFGNt8FPN4yF"
   },
   "outputs": [],
   "source": [
    "@dataclass\n",
    "class TransformerOutput:\n",
    "    logits: Tensor\n",
    "    encoder_last_hidden_states: Tensor\n",
    "    encoder_attn_scores: List[Tensor] #画图\n",
    "    decoder_last_hidden_states: Tensor\n",
    "    decoder_self_attn_scores: List[Tensor] #画图\n",
    "    decoder_cross_attn_scores: List[Tensor] #画图\n",
    "    preds: Optional[Tensor] = None\n",
    "\n",
    "class TransformerModel(nn.Module):\n",
    "    def __init__(self, config):\n",
    "        super().__init__()\n",
    "        # hyper params\n",
    "        self.hidden_size = config[\"d_model\"]\n",
    "        self.num_encoder_layers = config[\"num_encoder_layers\"] # \n",
    "        self.num_decoder_layers = config[\"num_decoder_layers\"]\n",
    "        self.pad_idx = config[\"pad_idx\"]\n",
    "        self.bos_idx = config[\"bos_idx\"]\n",
    "        self.eos_idx = config[\"eos_idx\"]\n",
    "        self.vocab_size = config[\"vocab_size\"]\n",
    "        self.dropout_rate = config[\"dropout\"]\n",
    "        self.max_length = config[\"max_length\"]\n",
    "        self.share = config[\"share_embedding\"]\n",
    "\n",
    "        # layers\n",
    "        self.src_embedding = TransformerEmbedding(config) # 输入的嵌入层\n",
    "        if self.share:#如果共享词嵌入，则使用src_embedding作为trg_embedding\n",
    "            self.trg_embedding = self.src_embedding #源和目标的嵌入层相同，共享参数，节省内存\n",
    "            self.linear = lambda x: torch.matmul(\n",
    "                x, self.trg_embedding.get_word_embedding_weights().T\n",
    "            ) # 输出层，共享参数，直接拿原有embedding矩阵的转置，节省内存\n",
    "        else:\n",
    "            self.trg_embedding = TransformerEmbedding(config) #decoder模块的嵌入层\n",
    "            self.linear = nn.Linear(self.hidden_size, self.vocab_size) # 输出层\n",
    "\n",
    "        self.encoder = TransformerEncoder(config)\n",
    "        self.decoder = TransformerDecoder(config)\n",
    "\n",
    "        # init weights\n",
    "        self._init_weights()\n",
    "\n",
    "    def _init_weights(self):\n",
    "        \"\"\"使用 xavier 均匀分布来初始化权重\"\"\"\n",
    "        for p in self.parameters():\n",
    "            if p.dim() > 1:\n",
    "                nn.init.xavier_uniform_(p)\n",
    "\n",
    "    def generate_square_subsequent_mask(self, sz: int) -> Tensor:\n",
    "        \"\"\"\n",
    "        Generate a square mask for the sequence. The masked positions are filled with True.\n",
    "            Unmasked positions are filled with False.为了生成斜三角的mask\n",
    "        [[False,  True,  True,  True,  True],\n",
    "        [False, False,  True,  True,  True],\n",
    "        [False, False, False,  True,  True],\n",
    "        [False, False, False, False,  True],\n",
    "        [False, False, False, False, False]]\n",
    "        \"\"\"\n",
    "        mask = (torch.triu(torch.ones(sz, sz)) == 0).transpose(-1, -2).bool() # sz表示句子长度\n",
    "\n",
    "        return mask\n",
    "\n",
    "    def forward(\n",
    "        self, encoder_inputs, decoder_inputs, encoder_inputs_mask=None\n",
    "    ) -> TransformerOutput:\n",
    "        # encoder_inputs: [batch_size, src_len]\n",
    "        # decoder_inputs: [batch_size, trg_len]\n",
    "        # encoder_inputs_mask: [batch_size, src_len]\n",
    "        if encoder_inputs_mask is None:\n",
    "            encoder_inputs_mask = encoder_inputs.eq(self.pad_idx) # [batch_size, src_len]\n",
    "        encoder_inputs_mask = encoder_inputs_mask.unsqueeze(1).unsqueeze(2)  # [batch_size, 1, 1, src_len],用于encoder的自注意力\n",
    "\n",
    "        look_ahead_mask = self.generate_square_subsequent_mask(decoder_inputs.shape[1]) # look_ahead_mask = [trg_len, trg_len]\n",
    "        look_ahead_mask = (\n",
    "            look_ahead_mask.unsqueeze(0).unsqueeze(0).to(decoder_inputs.device)\n",
    "        )  #[trg_len, trg_len]--> [1, 1, trg_len, trg_len],用于decoder的自注意力\n",
    "\n",
    "        #增加decoder_inputs_mask和look_ahead_mask进行组合\n",
    "        decoder_inputs_mask = decoder_inputs.eq(self.pad_idx) # [batch_size, trg_len]，和上面encoder_inputs_mask一致\n",
    "        # print(decoder_inputs_mask.shape)\n",
    "\n",
    "        decoder_inputs_mask = decoder_inputs_mask.unsqueeze(1).unsqueeze(2)  # [batch_size, 1, 1, trg_len]\n",
    "        # print(decoder_inputs_mask.shape)\n",
    "\n",
    "        # look_ahead_mask会先进行维度扩展为[batch_size, 1, trg_len, trg_len]，最终decoder_inputs_mask的shape为[batch_size, 1, trg_len, trg_len]\n",
    "        decoder_inputs_mask = decoder_inputs_mask + look_ahead_mask # [batch_size, 1, 1, trg_len]与[1, 1, trg_len, trg_len]相加，得到decoder的自注意力mask\n",
    "\n",
    "        # encoding\n",
    "        encoder_inputs_embeds = self.src_embedding(encoder_inputs)\n",
    "        encoder_outputs = self.encoder(encoder_inputs_embeds, encoder_inputs_mask) #encoder_inputs_mask用于encoder的自注意力,广播去做计算\n",
    "\n",
    "        # decoding\n",
    "        decoder_inputs_embeds = self.trg_embedding(decoder_inputs)\n",
    "        decoder_outputs = self.decoder(\n",
    "            decoder_inputs_embeds=decoder_inputs_embeds,\n",
    "            encoder_outputs=encoder_outputs.last_hidden_states,\n",
    "            attn_mask=decoder_inputs_mask, #用于decoder的自注意力,广播去做计算\n",
    "            cross_attn_mask=encoder_inputs_mask,#用于decoder的交叉注意力,广播去做计算\n",
    "        )\n",
    "\n",
    "        logits = self.linear(decoder_outputs.last_hidden_states) # [batch_size, trg_len, vocab_size]\n",
    "\n",
    "        return TransformerOutput(\n",
    "            logits=logits,\n",
    "            encoder_last_hidden_states=encoder_outputs.last_hidden_states,\n",
    "            encoder_attn_scores=encoder_outputs.attn_scores,\n",
    "            decoder_last_hidden_states=decoder_outputs.last_hidden_states,\n",
    "            decoder_self_attn_scores=decoder_outputs.self_attn_scores,\n",
    "            decoder_cross_attn_scores=decoder_outputs.cross_attn_scores,\n",
    "        )\n",
    "\n",
    "    @torch.no_grad()\n",
    "    def infer(self, encoder_inputs, encoder_inputs_mask=None) -> Tensor:\n",
    "        # assert len(encoder_inputs.shape) == 2 and encoder_inputs.shape[0] == 1\n",
    "        if encoder_inputs_mask is None:#应对多个样本同时进行推理\n",
    "            encoder_inputs_mask = encoder_inputs.eq(self.pad_idx)\n",
    "        encoder_inputs_mask = encoder_inputs_mask.unsqueeze(1).unsqueeze(2)  # [batch_size, 1, 1, src_len],[1,src_len]相加时，会自动广播到[batch_size,1,src_len,src_len]\n",
    "        look_ahead_mask = self.generate_square_subsequent_mask(self.max_length)\n",
    "        look_ahead_mask = (\n",
    "            look_ahead_mask.unsqueeze(0).unsqueeze(0).to(encoder_inputs.device)\n",
    "        )  # [1, 1, trg_len, trg_len]\n",
    "\n",
    "        # encoding\n",
    "        encoder_inputs_embeds = self.src_embedding(encoder_inputs)\n",
    "        encoder_outputs = self.encoder(encoder_inputs_embeds) #因为只支持单样本预测，没有paddings，所以不需要mask\n",
    "\n",
    "        # decoding,多样本推理，先给decoder_inputs中补充[batch_size, 1]维度的bos_idx\n",
    "        decoder_inputs = torch.Tensor([self.bos_idx] * encoder_inputs.shape[0]).reshape(-1, 1).long().to(device=encoder_inputs.device)\n",
    "        for cur_len in tqdm(range(1, self.max_length + 1)):\n",
    "            decoder_inputs_embeds = self.trg_embedding(decoder_inputs) # decoder_inputs在每次推理完一个词后都会更新，更新位置在下面的torch.cat\n",
    "            decoder_outputs = self.decoder(\n",
    "                decoder_inputs_embeds=decoder_inputs_embeds,\n",
    "                encoder_outputs=encoder_outputs.last_hidden_states,\n",
    "                attn_mask=look_ahead_mask[:, :, :cur_len, :cur_len],#decoder的自注意力mask\n",
    "            )\n",
    "\n",
    "            logits = self.linear(decoder_outputs.last_hidden_states)\n",
    "            next_token = logits.argmax(dim=-1)[:, -1:] #通过最大下标确定类别，[:, -1:]表示取最后一个结果\n",
    "            decoder_inputs = torch.cat([decoder_inputs, next_token], dim=-1) #预测输出拼接到输入（decoder_inputs）中\n",
    "            #(decoder_inputs == self.eos_idx).sum(dim=-1)是判断样本中是否含有EOS标记\n",
    "            #all是每一个都为True，才会结束,即要求所有句子都推理到EOS才会结束\n",
    "            if all((decoder_inputs == self.eos_idx).sum(dim=-1) > 0):\n",
    "                break\n",
    "\n",
    "        return TransformerOutput(\n",
    "            preds=decoder_inputs[:, 1:],\n",
    "            logits=logits,\n",
    "            encoder_last_hidden_states=encoder_outputs.last_hidden_states,\n",
    "            encoder_attn_scores=encoder_outputs.attn_scores,\n",
    "            decoder_last_hidden_states=decoder_outputs.last_hidden_states,\n",
    "            decoder_self_attn_scores=decoder_outputs.self_attn_scores,\n",
    "            decoder_cross_attn_scores=decoder_outputs.cross_attn_scores,\n",
    "        )"
   ]
  },
  {
   "cell_type": "markdown",
   "metadata": {
    "id": "kXHQ3sGTN4yG"
   },
   "source": [
    "## 训练"
   ]
  },
  {
   "cell_type": "markdown",
   "metadata": {
    "id": "OxNA8DIzN4yG"
   },
   "source": [
    "### 损失函数"
   ]
  },
  {
   "cell_type": "code",
   "execution_count": 372,
   "metadata": {
    "ExecuteTime": {
     "end_time": "2024-08-05T08:06:27.234057200Z",
     "start_time": "2024-08-05T08:06:27.160089800Z"
    },
    "id": "1xzahHANN4yG"
   },
   "outputs": [],
   "source": [
    "class CrossEntropyWithPadding:\n",
    "    def __init__(self, config):\n",
    "        self.label_smoothing = config[\"label_smoothing\"]\n",
    "\n",
    "    def __call__(self, logits, labels, padding_mask=None):\n",
    "        # logits.shape = [batch size, sequence length, num of classes]\n",
    "        # labels.shape = [batch size, sequence length]\n",
    "        # padding_mask.shape = [batch size, sequence length]\n",
    "        bs, seq_len, nc = logits.shape\n",
    "        loss = F.cross_entropy(logits.reshape(bs * seq_len, nc), labels.reshape(-1), reduce=False, label_smoothing=self.label_smoothing) #label_smoothing表示随机将一个类别的概率设置为0.1，使得模型更加关注其他类别\n",
    "        if padding_mask is None:\n",
    "            loss = loss.mean()\n",
    "        else:\n",
    "            padding_mask = 1 - padding_mask.reshape(-1) #将padding_mask reshape成一维张量，mask部分为0，非mask部分为1\n",
    "            loss = torch.mul(loss, padding_mask).sum() / padding_mask.sum()\n",
    "\n",
    "        return loss\n"
   ]
  },
  {
   "cell_type": "markdown",
   "metadata": {
    "id": "zuBC9KqFN4yG"
   },
   "source": [
    "### 学习率衰减"
   ]
  },
  {
   "cell_type": "code",
   "execution_count": 373,
   "metadata": {
    "ExecuteTime": {
     "end_time": "2024-08-05T08:06:27.235056800Z",
     "start_time": "2024-08-05T08:06:27.160089800Z"
    },
    "collapsed": false,
    "jupyter": {
     "outputs_hidden": false
    }
   },
   "outputs": [
    {
     "data": {
      "text/plain": [
       "[<matplotlib.lines.Line2D at 0x7f7782691dc0>]"
      ]
     },
     "execution_count": 373,
     "metadata": {},
     "output_type": "execute_result"
    },
    {
     "data": {
      "image/png": "[encoded data removed]",
      "text/plain": [
       "<Figure size 640x480 with 1 Axes>"
      ]
     },
     "metadata": {},
     "output_type": "display_data"
    }
   ],
   "source": [
    "x=np.arange(1, 40000)\n",
    "plt.plot(x, x * (4000 ** (-1.5)))"
   ]
  },
  {
   "cell_type": "code",
   "execution_count": 374,
   "metadata": {
    "ExecuteTime": {
     "end_time": "2024-08-05T08:06:27.235056800Z",
     "start_time": "2024-08-05T08:06:27.161089200Z"
    },
    "collapsed": false,
    "execution": {
     "iopub.execute_input": "2025-02-07T01:56:08.773877Z",
     "iopub.status.busy": "2025-02-07T01:56:08.773362Z",
     "iopub.status.idle": "2025-02-07T01:56:08.778137Z",
     "shell.execute_reply": "2025-02-07T01:56:08.777595Z",
     "shell.execute_reply.started": "2025-02-07T01:56:08.773842Z"
    },
    "jupyter": {
     "outputs_hidden": false
    }
   },
   "outputs": [
    {
     "data": {
      "text/plain": [
       "np.float64(22.627416997969522)"
      ]
     },
     "execution_count": 374,
     "metadata": {},
     "output_type": "execute_result"
    }
   ],
   "source": [
    "np.sqrt(512)"
   ]
  },
  {
   "cell_type": "code",
   "execution_count": 375,
   "metadata": {
    "ExecuteTime": {
     "end_time": "2024-08-05T08:06:27.235056800Z",
     "start_time": "2024-08-05T08:06:27.161089200Z"
    },
    "colab": {
     "base_uri": "https://localhost:8080/",
     "height": 449
    },
    "id": "UQPiKK4nN4yG",
    "outputId": "63cfb132-ef75-4f94-f0c8-86a2f36e09c2"
   },
   "outputs": [
    {
     "data": {
      "image/png": "[encoded data removed]",
      "text/plain": [
       "<Figure size 640x480 with 1 Axes>"
      ]
     },
     "metadata": {},
     "output_type": "display_data"
    }
   ],
   "source": [
    "# NoamDecayScheduler 是一个自定义或外部定义的学习率衰减调度器类。它需要接收配置 config 作为参数，可能实现了特定的学习率衰减方案\n",
    "class NoamDecayScheduler:\n",
    "    def __init__(self, config):\n",
    "        self.d_model = config[\"d_model\"]\n",
    "        self.warmup_steps = config[\"warmup_steps\"]\n",
    "\n",
    "    def __call__(self, step):\n",
    "        step += 1\n",
    "        arg1 = step ** (-0.5) #4000步之后是arg1\n",
    "        arg2 = step * (self.warmup_steps ** (-1.5))  #4000步之前是arg2\n",
    "\n",
    "        arg3 = self.d_model ** (-0.5)\n",
    "\n",
    "        return arg3 * np.minimum(arg1, arg2)\n",
    "\n",
    "\n",
    "temp_learning_rate_schedule = NoamDecayScheduler({\"d_model\": 512, \"warmup_steps\": 5000})\n",
    "#下面是学习率的设计图\n",
    "plt.plot(temp_learning_rate_schedule(np.arange(0, 40000)))\n",
    "plt.ylabel(\"Leraning rate\")\n",
    "plt.xlabel(\"Train step\")\n",
    "plt.show()\n"
   ]
  },
  {
   "cell_type": "markdown",
   "metadata": {
    "id": "XHj_EjzlN4yW"
   },
   "source": [
    "### 优化器"
   ]
  },
  {
   "cell_type": "code",
   "execution_count": 376,
   "metadata": {
    "ExecuteTime": {
     "end_time": "2024-08-05T08:06:27.240054200Z",
     "start_time": "2024-08-05T08:06:27.161089200Z"
    },
    "id": "1EVLKx2rN4yW"
   },
   "outputs": [],
   "source": [
    "from torch.optim.lr_scheduler import LambdaLR\n",
    "from torch.optim import Adam\n",
    "\n",
    "def get_optimizer(model, config):\n",
    "    base_lr = 0.1\n",
    "    beta1 = config[\"beta1\"] # Adam 的 beta1\n",
    "    beta2 = config[\"beta2\"] # Adam 的 beta2\n",
    "    eps = config[\"eps\"]\n",
    "    optimizer = Adam(model.parameters(), lr=base_lr, betas=(beta1, beta2), eps=eps)\n",
    "    lr_scheduler = NoamDecayScheduler(config) #config是一个字典，包含了学习率衰减的参数\n",
    "    # 使用 LambdaLR 调度器，它可以根据给定的函数 lr_lambda 调整学习率。这里将 lr_scheduler 作为函数传递给 LambdaLR，它包含了特定于模型或任务的学习率调度规则\n",
    "    scheduler = LambdaLR(optimizer, lr_lambda=lr_scheduler)\n",
    "    return optimizer, scheduler"
   ]
  },
  {
   "cell_type": "markdown",
   "metadata": {
    "id": "JBhiO7O2N4yW"
   },
   "source": [
    "### Callback"
   ]
  },
  {
   "cell_type": "code",
   "execution_count": 377,
   "metadata": {
    "ExecuteTime": {
     "end_time": "2024-08-05T08:06:36.478359Z",
     "start_time": "2024-08-05T08:06:27.161089200Z"
    },
    "id": "rWFMJwBkN4yX"
   },
   "outputs": [],
   "source": [
    "from torch.utils.tensorboard import SummaryWriter\n",
    "\n",
    "\n",
    "class TensorBoardCallback:\n",
    "    def __init__(self, log_dir, flush_secs=10):\n",
    "        \"\"\"\n",
    "        Args:\n",
    "            log_dir (str): dir to write log.\n",
    "            flush_secs (int, optional): write to dsk each flush_secs seconds. Defaults to 10.\n",
    "        \"\"\"\n",
    "        self.writer = SummaryWriter(log_dir=log_dir, flush_secs=flush_secs)\n",
    "\n",
    "    def draw_model(self, model, input_shape):\n",
    "        self.writer.add_graph(model, input_to_model=torch.randn(input_shape))\n",
    "\n",
    "    def add_loss_scalars(self, step, loss, val_loss):\n",
    "        self.writer.add_scalars(\n",
    "            main_tag=\"training/loss\",\n",
    "            tag_scalar_dict={\"loss\": loss, \"val_loss\": val_loss},\n",
    "            global_step=step,\n",
    "            )\n",
    "\n",
    "    def add_acc_scalars(self, step, acc, val_acc):\n",
    "        self.writer.add_scalars(\n",
    "            main_tag=\"training/accuracy\",\n",
    "            tag_scalar_dict={\"accuracy\": acc, \"val_accuracy\": val_acc},\n",
    "            global_step=step,\n",
    "        )\n",
    "\n",
    "    def add_lr_scalars(self, step, learning_rate):\n",
    "        self.writer.add_scalars(\n",
    "            main_tag=\"training/learning_rate\",\n",
    "            tag_scalar_dict={\"learning_rate\": learning_rate},\n",
    "            global_step=step,\n",
    "\n",
    "        )\n",
    "\n",
    "    def __call__(self, step, **kwargs):\n",
    "        # add loss\n",
    "        loss = kwargs.pop(\"loss\", None)\n",
    "        val_loss = kwargs.pop(\"val_loss\", None)\n",
    "        if loss is not None and val_loss is not None:\n",
    "            self.add_loss_scalars(step, loss, val_loss)\n",
    "        # add acc\n",
    "        acc = kwargs.pop(\"acc\", None)\n",
    "        val_acc = kwargs.pop(\"val_acc\", None)\n",
    "        if acc is not None and val_acc is not None:\n",
    "            self.add_acc_scalars(step, acc, val_acc)\n",
    "        # add lr\n",
    "        learning_rate = kwargs.pop(\"lr\", None)\n",
    "        if learning_rate is not None:\n",
    "            self.add_lr_scalars(step, learning_rate)\n"
   ]
  },
  {
   "cell_type": "code",
   "execution_count": 378,
   "metadata": {
    "ExecuteTime": {
     "end_time": "2024-08-05T08:06:36.486389200Z",
     "start_time": "2024-08-05T08:06:36.483880700Z"
    },
    "id": "64y_NBHMN4yX"
   },
   "outputs": [],
   "source": [
    "class SaveCheckpointsCallback:\n",
    "    def __init__(self, save_dir, save_step=5000, save_best_only=True):\n",
    "        \"\"\"\n",
    "        Save checkpoints each save_epoch epoch.\n",
    "        We save checkpoint by epoch in this implementation.\n",
    "        Usually, training scripts with pytorch evaluating model and save checkpoint by step.\n",
    "\n",
    "        Args:\n",
    "            save_dir (str): dir to save checkpoint\n",
    "            save_epoch (int, optional): the frequency to save checkpoint. Defaults to 1.\n",
    "            save_best_only (bool, optional): If True, only save the best model or save each model at every epoch.\n",
    "        \"\"\"\n",
    "        self.save_dir = save_dir\n",
    "        self.save_step = save_step\n",
    "        self.save_best_only = save_best_only\n",
    "        self.best_metrics = - np.inf\n",
    "\n",
    "        # mkdir\n",
    "        if not os.path.exists(self.save_dir):\n",
    "            os.mkdir(self.save_dir)\n",
    "\n",
    "    def __call__(self, step, state_dict, metric=None):\n",
    "        if step % self.save_step > 0:\n",
    "            return\n",
    "\n",
    "        if self.save_best_only:\n",
    "            assert metric is not None\n",
    "            if metric >= self.best_metrics:\n",
    "                # save checkpoints\n",
    "                torch.save(state_dict, os.path.join(self.save_dir, \"best.ckpt\"))\n",
    "                # update best metrics\n",
    "                self.best_metrics = metric\n",
    "        else:\n",
    "            torch.save(state_dict, os.path.join(self.save_dir, f\"{step}.ckpt\"))\n",
    "\n"
   ]
  },
  {
   "cell_type": "code",
   "execution_count": 379,
   "metadata": {
    "ExecuteTime": {
     "end_time": "2024-08-05T08:06:36.523266500Z",
     "start_time": "2024-08-05T08:06:36.494383100Z"
    },
    "id": "Uk4PEb70N4yX"
   },
   "outputs": [],
   "source": [
    "class EarlyStopCallback:\n",
    "    def __init__(self, patience=5, min_delta=0.01):\n",
    "        \"\"\"\n",
    "\n",
    "        Args:\n",
    "            patience (int, optional): Number of epochs with no improvement after which training will be stopped.. Defaults to 5.\n",
    "            min_delta (float, optional): Minimum change in the monitored quantity to qualify as an improvement, i.e. an absolute\n",
    "                change of less than min_delta, will count as no improvement. Defaults to 0.01.\n",
    "        \"\"\"\n",
    "        self.patience = patience\n",
    "        self.min_delta = min_delta\n",
    "        self.best_metric = - np.inf\n",
    "        self.counter = 0\n",
    "\n",
    "    def __call__(self, metric):\n",
    "        if metric >= self.best_metric + self.min_delta:\n",
    "            # update best metric\n",
    "            self.best_metric = metric\n",
    "            # reset counter\n",
    "            self.counter = 0\n",
    "        else:\n",
    "            self.counter += 1\n",
    "\n",
    "    @property\n",
    "    def early_stop(self):\n",
    "        return self.counter >= self.patience\n"
   ]
  },
  {
   "cell_type": "markdown",
   "metadata": {
    "id": "_AB84Qx1N4yX"
   },
   "source": [
    "### training & valuating"
   ]
  },
  {
   "cell_type": "code",
   "execution_count": 380,
   "metadata": {
    "ExecuteTime": {
     "end_time": "2024-08-05T08:06:36.525265400Z",
     "start_time": "2024-08-05T08:06:36.503642Z"
    },
    "id": "1mKPSFkON4yX"
   },
   "outputs": [],
   "source": [
    "@torch.no_grad()\n",
    "def evaluating(model, dataloader, loss_fct):\n",
    "    loss_list = []\n",
    "    for batch in dataloader:\n",
    "        encoder_inputs = batch[\"encoder_inputs\"]\n",
    "        encoder_inputs_mask = batch[\"encoder_inputs_mask\"]\n",
    "        decoder_inputs = batch[\"decoder_inputs\"]\n",
    "        decoder_labels = batch[\"decoder_labels\"]\n",
    "        decoder_labels_mask = batch[\"decoder_labels_mask\"]\n",
    "\n",
    "        # 前向计算\n",
    "        outputs = model(\n",
    "            encoder_inputs=encoder_inputs,\n",
    "            decoder_inputs=decoder_inputs,\n",
    "            encoder_inputs_mask=encoder_inputs_mask\n",
    "            )\n",
    "        logits = outputs.logits\n",
    "        loss = loss_fct(logits, decoder_labels, padding_mask=decoder_labels_mask)         # 验证集损失\n",
    "        loss_list.append(loss.cpu().item())\n",
    "\n",
    "    return np.mean(loss_list)\n"
   ]
  },
  {
   "cell_type": "code",
   "execution_count": 381,
   "metadata": {
    "ExecuteTime": {
     "end_time": "2024-08-05T08:06:36.549252Z",
     "start_time": "2024-08-05T08:06:36.514271Z"
    },
    "id": "PClBmtgWN4yY"
   },
   "outputs": [],
   "source": [
    "# 训练\n",
    "def training(\n",
    "    model,\n",
    "    train_loader,\n",
    "    val_loader,\n",
    "    epoch,\n",
    "    loss_fct,\n",
    "    optimizer,\n",
    "    scheduler=None,\n",
    "    tensorboard_callback=None,\n",
    "    save_ckpt_callback=None,\n",
    "    early_stop_callback=None,\n",
    "    eval_step=500,\n",
    "    ):\n",
    "    record_dict = {\n",
    "        \"train\": [],\n",
    "        \"val\": []\n",
    "    }\n",
    "\n",
    "    global_step = 1\n",
    "    model.train()\n",
    "    with tqdm(total=epoch * len(train_loader)) as pbar:\n",
    "        for epoch_id in range(epoch):\n",
    "            # training\n",
    "            for batch in train_loader:\n",
    "                encoder_inputs = batch[\"encoder_inputs\"]\n",
    "                encoder_inputs_mask = batch[\"encoder_inputs_mask\"]\n",
    "                decoder_inputs = batch[\"decoder_inputs\"]\n",
    "                decoder_labels = batch[\"decoder_labels\"]\n",
    "                decoder_labels_mask = batch[\"decoder_labels_mask\"]\n",
    "                # 梯度清空\n",
    "                optimizer.zero_grad()\n",
    "\n",
    "                # 前向计算\n",
    "                outputs = model(\n",
    "                    encoder_inputs=encoder_inputs,\n",
    "                    decoder_inputs=decoder_inputs,\n",
    "                    encoder_inputs_mask=encoder_inputs_mask\n",
    "                    )\n",
    "                logits = outputs.logits\n",
    "                loss = loss_fct(logits, decoder_labels, padding_mask=decoder_labels_mask)\n",
    "\n",
    "                # 梯度回传\n",
    "                loss.backward()\n",
    "\n",
    "                # 调整优化器，包括学习率的变动等\n",
    "                optimizer.step()\n",
    "                if scheduler is not None:\n",
    "                    scheduler.step() # 更新学习率\n",
    "\n",
    "                loss = loss.cpu().item()\n",
    "                # record\n",
    "                record_dict[\"train\"].append({\n",
    "                    \"loss\": loss, \"step\": global_step\n",
    "                })\n",
    "\n",
    "                # evaluating\n",
    "                if global_step % eval_step == 0:\n",
    "                    model.eval()\n",
    "                    val_loss = evaluating(model, val_loader, loss_fct)\n",
    "                    record_dict[\"val\"].append({\n",
    "                        \"loss\": val_loss, \"step\": global_step\n",
    "                    })\n",
    "                    model.train()\n",
    "\n",
    "                    # 1. 使用 tensorboard 可视化\n",
    "                    cur_lr = optimizer.param_groups[0][\"lr\"] if scheduler is None else scheduler.get_last_lr()[0]\n",
    "                    if tensorboard_callback is not None:\n",
    "                        tensorboard_callback(\n",
    "                            global_step,\n",
    "                            loss=loss, val_loss=val_loss,\n",
    "                            lr=cur_lr,\n",
    "                            )\n",
    "\n",
    "                    # 2. 保存模型权重 save model checkpoint\n",
    "                    if save_ckpt_callback is not None:\n",
    "                        save_ckpt_callback(global_step, model.state_dict(), metric=-val_loss)\n",
    "\n",
    "                    # 3. 早停 Early Stop\n",
    "                    if early_stop_callback is not None:\n",
    "                        early_stop_callback(-val_loss)\n",
    "                        if early_stop_callback.early_stop:\n",
    "                            print(f\"Early stop at epoch {epoch_id} / global_step {global_step}\")\n",
    "                            return record_dict\n",
    "\n",
    "                # udate step\n",
    "                global_step += 1\n",
    "                pbar.update(1)\n",
    "            pbar.set_postfix({\"epoch\": epoch_id, \"loss\": loss, \"val_loss\": val_loss})\n",
    "\n",
    "    return record_dict\n"
   ]
  },
  {
   "cell_type": "code",
   "execution_count": 382,
   "metadata": {
    "ExecuteTime": {
     "end_time": "2024-08-05T08:06:36.628920Z",
     "start_time": "2024-08-05T08:06:36.541257800Z"
    },
    "colab": {
     "base_uri": "https://localhost:8080/"
    },
    "id": "khZqMS8pN4yY",
    "outputId": "2367a363-585b-4321-f7ea-cb11d9623008"
   },
   "outputs": [
    {
     "name": "stdout",
     "output_type": "stream",
     "text": [
      "load train dataset from wmt16/.cache/de2en_train_128.npy\n",
      "load val dataset from wmt16/.cache/de2en_val_128.npy\n"
     ]
    }
   ],
   "source": [
    "#模型的超参\n",
    "config = {\n",
    "    \"bos_idx\": 1,\n",
    "    \"eos_idx\": 3,\n",
    "    \"pad_idx\": 0,\n",
    "    \"vocab_size\": len(word2idx),\n",
    "    \"max_length\": 128,\n",
    "    \"d_model\": 512,\n",
    "    \"dim_feedforward\": 2048, # FFN 的隐藏层大小\n",
    "    \"dropout\": 0.1,\n",
    "    \"layer_norm_eps\": 1e-6, # 层归一化的 epsilon, 防止除零错误\n",
    "    \"num_heads\": 8,\n",
    "    \"num_decoder_layers\": 6,\n",
    "    \"num_encoder_layers\": 6,\n",
    "    \"label_smoothing\": 0.1,\n",
    "    \"beta1\": 0.9, # Adam 的 beta1\n",
    "    \"beta2\": 0.98,\n",
    "    \"eps\": 1e-9,\n",
    "    \"warmup_steps\": 5000,\n",
    "    \"share_embedding\": False, # 是否共享词向量\n",
    "    }\n",
    "\n",
    "\n",
    "def get_dl(dataset, batch_size, shuffle=True):\n",
    "    sampler = TransformerBatchSampler(dataset, batch_size=batch_size, shuffle_batch=shuffle)\n",
    "    sample_dl = DataLoader(dataset, batch_sampler=sampler, collate_fn=partial(collate_fct, tokenizer=tokenizer))\n",
    "    return sample_dl\n",
    "\n",
    "# dataset\n",
    "train_ds = LangPairDataset(\"train\", max_length=config[\"max_length\"])\n",
    "val_ds = LangPairDataset(\"val\", max_length=config[\"max_length\"])\n",
    "# tokenizer\n",
    "tokenizer = Tokenizer(word2idx=word2idx, idx2word=idx2word, max_length=config[\"max_length\"])\n",
    "batch_size = 1024\n",
    "# dataloader\n",
    "train_dl = get_dl(train_ds, batch_size=batch_size, shuffle=True)\n",
    "val_dl = get_dl(val_ds, batch_size=batch_size, shuffle=False)"
   ]
  },
  {
   "cell_type": "code",
   "execution_count": 383,
   "metadata": {
    "ExecuteTime": {
     "end_time": "2024-08-05T08:52:53.233851300Z",
     "start_time": "2024-08-05T08:52:51.458743700Z"
    },
    "collapsed": false,
    "jupyter": {
     "outputs_hidden": false
    }
   },
   "outputs": [
    {
     "name": "stdout",
     "output_type": "stream",
     "text": [
      "模型参数量: 71938239\n"
     ]
    }
   ],
   "source": [
    "#计算模型参数量\n",
    "model = TransformerModel(config)\n",
    "print(f\"模型参数量: {sum(p.numel() for p in model.parameters() if p.requires_grad)}\")"
   ]
  },
  {
   "cell_type": "code",
   "execution_count": 384,
   "metadata": {
    "ExecuteTime": {
     "end_time": "2024-05-07T08:52:38.372364400Z",
     "start_time": "2024-05-07T08:52:38.191467100Z"
    },
    "colab": {
     "base_uri": "https://localhost:8080/"
    },
    "execution": {
     "iopub.execute_input": "2025-02-07T01:56:14.202260Z",
     "iopub.status.busy": "2025-02-07T01:56:14.201709Z",
     "iopub.status.idle": "2025-02-07T01:56:14.206872Z",
     "shell.execute_reply": "2025-02-07T01:56:14.206216Z",
     "shell.execute_reply.started": "2025-02-07T01:56:14.202225Z"
    },
    "id": "63slV04gWLn8",
    "outputId": "5c5ede03-0f6f-48d5-a177-d961886ec340"
   },
   "outputs": [
    {
     "data": {
      "text/plain": [
       "{'bos_idx': 1,\n",
       " 'eos_idx': 3,\n",
       " 'pad_idx': 0,\n",
       " 'vocab_size': 18111,\n",
       " 'max_length': 128,\n",
       " 'd_model': 512,\n",
       " 'dim_feedforward': 2048,\n",
       " 'dropout': 0.1,\n",
       " 'layer_norm_eps': 1e-06,\n",
       " 'num_heads': 8,\n",
       " 'num_decoder_layers': 6,\n",
       " 'num_encoder_layers': 6,\n",
       " 'label_smoothing': 0.1,\n",
       " 'beta1': 0.9,\n",
       " 'beta2': 0.98,\n",
       " 'eps': 1e-09,\n",
       " 'warmup_steps': 5000,\n",
       " 'share_embedding': False}"
      ]
     },
     "execution_count": 384,
     "metadata": {},
     "output_type": "execute_result"
    }
   ],
   "source": [
    "config"
   ]
  },
  {
   "cell_type": "code",
   "execution_count": 385,
   "metadata": {
    "ExecutionIndicator": {
     "show": true
    },
    "colab": {
     "base_uri": "https://localhost:8080/",
     "height": 49,
     "referenced_widgets": [
      "55146ac7395840dca847e0f63aa80561",
      "abb9bc76c0ce4634bd340be20c074b8c",
      "a89d790df59245fcaf26335d4903c9b4",
      "f837255914194dc792cf1514dee03dc5",
      "46a51a1719d8444eb5877720253d3c37",
      "013d2a6b90144432bbfb15136235faba",
      "2b82e42c34804b13bc83be4c7009d4e2",
      "9233439bdd6746c28ad4a20ef47799f6",
      "0e10428326bc436e8dbc079e89570bde",
      "0fe4ed7283c04496affe727c235d31c4",
      "0c0c7229347b49ffbb9a0f7bd41199b9"
     ]
    },
    "id": "tVO2zJ04N4yY",
    "outputId": "7d4079f5-65d4-4da1-9001-91aa5525250e",
    "tags": []
   },
   "outputs": [],
   "source": [
    "epoch = 100\n",
    "\n",
    "# model\n",
    "model = TransformerModel(config)\n",
    "# 1. 定义损失函数 采用交叉熵损失\n",
    "loss_fct = CrossEntropyWithPadding(config)\n",
    "# 2. 定义优化器 采用 adam\n",
    "# Optimizers specified in the torch.optim package\n",
    "optimizer, scheduler = get_optimizer(model, config)\n",
    "\n",
    "# 1. tensorboard 可视化\n",
    "if not os.path.exists(\"runs\"):\n",
    "    os.mkdir(\"runs\")\n",
    "# exp_name = \"translate-transformer-{}\".format(\"share\" if config[\"share_embedding\"] else \"not-share\")\n",
    "exp_name = \"hidden_dim{}-dropout{}-label_smooth{}-warm{}\".format(config[\"d_model\"], config[\"dropout\"], config[\"label_smoothing\"], config[\"warmup_steps\"])\n",
    "tensorboard_callback = TensorBoardCallback(f\"runs/{exp_name}\")\n",
    "# tensorboard_callback.draw_model(model, [1, MAX_LENGTH])\n",
    "# 2. save best\n",
    "if not os.path.exists(\"checkpoints\"):\n",
    "    os.makedirs(\"checkpoints\")\n",
    "save_ckpt_callback = SaveCheckpointsCallback(\n",
    "    f\"checkpoints/{exp_name}\", save_step=500, save_best_only=True)\n",
    "# 3. early stop\n",
    "early_stop_callback = EarlyStopCallback(patience=10,min_delta=0.001)\n",
    "\n",
    "model = model.to(device)\n",
    "\n",
    "\n",
    "\n",
    "\n",
    "# We trained the base models for a total of 100,000 steps or 12 hours. For our big models,(described on the bottom line of table 3), step time was 1.0 seconds. The big models were trained for 300,000 steps (3.5 days)."
   ]
  },
  {
   "cell_type": "code",
   "execution_count": 386,
   "metadata": {
    "ExecutionIndicator": {
     "show": true
    },
    "tags": []
   },
   "outputs": [
    {
     "data": {
      "application/vnd.jupyter.widget-view+json": {
       "model_id": "af6b447fc973447aaa784d03bb1edea9",
       "version_major": 2,
       "version_minor": 0
      },
      "text/plain": [
       "  0%|          | 0/40900 [00:00<?, ?it/s]"
      ]
     },
     "metadata": {},
     "output_type": "display_data"
    },
    {
     "name": "stderr",
     "output_type": "stream",
     "text": [
      "/root/miniconda3/lib/python3.12/site-packages/torch/nn/_reduction.py:51: UserWarning: size_average and reduce args will be deprecated, please use reduction='none' instead.\n",
      "  warnings.warn(warning.format(ret))\n"
     ]
    },
    {
     "name": "stdout",
     "output_type": "stream",
     "text": [
      "Early stop at epoch 42 / global_step 17500\n"
     ]
    }
   ],
   "source": [
    "record = training(\n",
    "    model,\n",
    "    train_dl,\n",
    "    val_dl,\n",
    "    epoch,\n",
    "    loss_fct,\n",
    "    optimizer,\n",
    "    scheduler,\n",
    "    tensorboard_callback=None,\n",
    "    save_ckpt_callback=save_ckpt_callback,\n",
    "    early_stop_callback=early_stop_callback,\n",
    "    eval_step=250\n",
    "    )"
   ]
  },
  {
   "cell_type": "code",
   "execution_count": 387,
   "metadata": {
    "execution": {
     "iopub.execute_input": "2025-02-07T06:02:51.186708Z",
     "iopub.status.busy": "2025-02-07T06:02:51.186355Z",
     "iopub.status.idle": "2025-02-07T06:02:51.239182Z",
     "shell.execute_reply": "2025-02-07T06:02:51.238695Z",
     "shell.execute_reply.started": "2025-02-07T06:02:51.186685Z"
    },
    "tags": []
   },
   "outputs": [
    {
     "data": {
      "text/plain": [
       "{'train': [{'loss': 9.765290260314941, 'step': 1},\n",
       "  {'loss': 9.779386520385742, 'step': 2},\n",
       "  {'loss': 9.776204109191895, 'step': 3},\n",
       "  {'loss': 9.778050422668457, 'step': 4},\n",
       "  {'loss': 9.764275550842285, 'step': 5},\n",
       "  {'loss': 9.767654418945312, 'step': 6},\n",
       "  {'loss': 9.756997108459473, 'step': 7},\n",
       "  {'loss': 9.76789665222168, 'step': 8},\n",
       "  {'loss': 9.763075828552246, 'step': 9},\n",
       "  {'loss': 9.756604194641113, 'step': 10},\n",
       "  {'loss': 9.769500732421875, 'step': 11},\n",
       "  {'loss': 9.748363494873047, 'step': 12},\n",
       "  {'loss': 9.7499418258667, 'step': 13},\n",
       "  {'loss': 9.751800537109375, 'step': 14},\n",
       "  {'loss': 9.7716646194458, 'step': 15},\n",
       "  {'loss': 9.73425006866455, 'step': 16},\n",
       "  {'loss': 9.737265586853027, 'step': 17},\n",
       "  {'loss': 9.746801376342773, 'step': 18},\n",
       "  {'loss': 9.756816864013672, 'step': 19},\n",
       "  {'loss': 9.75678539276123, 'step': 20},\n",
       "  {'loss': 9.763312339782715, 'step': 21},\n",
       "  {'loss': 9.717364311218262, 'step': 22},\n",
       "  {'loss': 9.722515106201172, 'step': 23},\n",
       "  {'loss': 9.744140625, 'step': 24},\n",
       "  {'loss': 9.735087394714355, 'step': 25},\n",
       "  {'loss': 9.732336044311523, 'step': 26},\n",
       "  {'loss': 9.733377456665039, 'step': 27},\n",
       "  {'loss': 9.724140167236328, 'step': 28},\n",
       "  {'loss': 9.720479965209961, 'step': 29},\n",
       "  {'loss': 9.714810371398926, 'step': 30},\n",
       "  {'loss': 9.678132057189941, 'step': 31},\n",
       "  {'loss': 9.695517539978027, 'step': 32},\n",
       "  {'loss': 9.72180461883545, 'step': 33},\n",
       "  {'loss': 9.703036308288574, 'step': 34},\n",
       "  {'loss': 9.685019493103027, 'step': 35},\n",
       "  {'loss': 9.69453239440918, 'step': 36},\n",
       "  {'loss': 9.713597297668457, 'step': 37},\n",
       "  {'loss': 9.663056373596191, 'step': 38},\n",
       "  {'loss': 9.67518424987793, 'step': 39},\n",
       "  {'loss': 9.693216323852539, 'step': 40},\n",
       "  {'loss': 9.69018268585205, 'step': 41},\n",
       "  {'loss': 9.691414833068848, 'step': 42},\n",
       "  {'loss': 9.69068717956543, 'step': 43},\n",
       "  {'loss': 9.676484107971191, 'step': 44},\n",
       "  {'loss': 9.630878448486328, 'step': 45},\n",
       "  {'loss': 9.676544189453125, 'step': 46},\n",
       "  {'loss': 9.66055965423584, 'step': 47},\n",
       "  {'loss': 9.638200759887695, 'step': 48},\n",
       "  {'loss': 9.623343467712402, 'step': 49},\n",
       "  {'loss': 9.60986614227295, 'step': 50},\n",
       "  {'loss': 9.60136604309082, 'step': 51},\n",
       "  {'loss': 9.620111465454102, 'step': 52},\n",
       "  {'loss': 9.603118896484375, 'step': 53},\n",
       "  {'loss': 9.62864875793457, 'step': 54},\n",
       "  {'loss': 9.602132797241211, 'step': 55},\n",
       "  {'loss': 9.595996856689453, 'step': 56},\n",
       "  {'loss': 9.59247875213623, 'step': 57},\n",
       "  {'loss': 9.588133811950684, 'step': 58},\n",
       "  {'loss': 9.577560424804688, 'step': 59},\n",
       "  {'loss': 9.570096969604492, 'step': 60},\n",
       "  {'loss': 9.537566184997559, 'step': 61},\n",
       "  {'loss': 9.54737377166748, 'step': 62},\n",
       "  {'loss': 9.564251899719238, 'step': 63},\n",
       "  {'loss': 9.55319881439209, 'step': 64},\n",
       "  {'loss': 9.523540496826172, 'step': 65},\n",
       "  {'loss': 9.519097328186035, 'step': 66},\n",
       "  {'loss': 9.544808387756348, 'step': 67},\n",
       "  {'loss': 9.538297653198242, 'step': 68},\n",
       "  {'loss': 9.564566612243652, 'step': 69},\n",
       "  {'loss': 9.53536319732666, 'step': 70},\n",
       "  {'loss': 9.514784812927246, 'step': 71},\n",
       "  {'loss': 9.5149564743042, 'step': 72},\n",
       "  {'loss': 9.474804878234863, 'step': 73},\n",
       "  {'loss': 9.490943908691406, 'step': 74},\n",
       "  {'loss': 9.45484447479248, 'step': 75},\n",
       "  {'loss': 9.443941116333008, 'step': 76},\n",
       "  {'loss': 9.437414169311523, 'step': 77},\n",
       "  {'loss': 9.443763732910156, 'step': 78},\n",
       "  {'loss': 9.428394317626953, 'step': 79},\n",
       "  {'loss': 9.43531322479248, 'step': 80},\n",
       "  {'loss': 9.459633827209473, 'step': 81},\n",
       "  {'loss': 9.49813175201416, 'step': 82},\n",
       "  {'loss': 9.48775577545166, 'step': 83},\n",
       "  {'loss': 9.473721504211426, 'step': 84},\n",
       "  {'loss': 9.497444152832031, 'step': 85},\n",
       "  {'loss': 9.397248268127441, 'step': 86},\n",
       "  {'loss': 9.421255111694336, 'step': 87},\n",
       "  {'loss': 9.381928443908691, 'step': 88},\n",
       "  {'loss': 9.38982105255127, 'step': 89},\n",
       "  {'loss': 9.374534606933594, 'step': 90},\n",
       "  {'loss': 9.36745548248291, 'step': 91},\n",
       "  {'loss': 9.457067489624023, 'step': 92},\n",
       "  {'loss': 9.387696266174316, 'step': 93},\n",
       "  {'loss': 9.448179244995117, 'step': 94},\n",
       "  {'loss': 9.386542320251465, 'step': 95},\n",
       "  {'loss': 9.379561424255371, 'step': 96},\n",
       "  {'loss': 9.463118553161621, 'step': 97},\n",
       "  {'loss': 9.376434326171875, 'step': 98},\n",
       "  {'loss': 9.388899803161621, 'step': 99},\n",
       "  {'loss': 9.284707069396973, 'step': 100},\n",
       "  {'loss': 9.289661407470703, 'step': 101},\n",
       "  {'loss': 9.350770950317383, 'step': 102},\n",
       "  {'loss': 9.310627937316895, 'step': 103},\n",
       "  {'loss': 9.379476547241211, 'step': 104},\n",
       "  {'loss': 9.356955528259277, 'step': 105},\n",
       "  {'loss': 9.308773040771484, 'step': 106},\n",
       "  {'loss': 9.28857421875, 'step': 107},\n",
       "  {'loss': 9.269560813903809, 'step': 108},\n",
       "  {'loss': 9.35046672821045, 'step': 109},\n",
       "  {'loss': 9.311588287353516, 'step': 110},\n",
       "  {'loss': 9.311334609985352, 'step': 111},\n",
       "  {'loss': 9.328124046325684, 'step': 112},\n",
       "  {'loss': 9.292842864990234, 'step': 113},\n",
       "  {'loss': 9.297880172729492, 'step': 114},\n",
       "  {'loss': 9.244879722595215, 'step': 115},\n",
       "  {'loss': 9.253717422485352, 'step': 116},\n",
       "  {'loss': 9.340330123901367, 'step': 117},\n",
       "  {'loss': 9.228246688842773, 'step': 118},\n",
       "  {'loss': 9.266508102416992, 'step': 119},\n",
       "  {'loss': 9.239213943481445, 'step': 120},\n",
       "  {'loss': 9.313979148864746, 'step': 121},\n",
       "  {'loss': 9.199647903442383, 'step': 122},\n",
       "  {'loss': 9.246834754943848, 'step': 123},\n",
       "  {'loss': 9.20003890991211, 'step': 124},\n",
       "  {'loss': 9.313887596130371, 'step': 125},\n",
       "  {'loss': 9.233550071716309, 'step': 126},\n",
       "  {'loss': 9.239022254943848, 'step': 127},\n",
       "  {'loss': 9.201672554016113, 'step': 128},\n",
       "  {'loss': 9.20566463470459, 'step': 129},\n",
       "  {'loss': 9.334851264953613, 'step': 130},\n",
       "  {'loss': 9.221367835998535, 'step': 131},\n",
       "  {'loss': 9.194989204406738, 'step': 132},\n",
       "  {'loss': 9.18814468383789, 'step': 133},\n",
       "  {'loss': 9.277206420898438, 'step': 134},\n",
       "  {'loss': 9.162546157836914, 'step': 135},\n",
       "  {'loss': 9.20193099975586, 'step': 136},\n",
       "  {'loss': 9.230719566345215, 'step': 137},\n",
       "  {'loss': 9.22157096862793, 'step': 138},\n",
       "  {'loss': 9.153432846069336, 'step': 139},\n",
       "  {'loss': 9.258519172668457, 'step': 140},\n",
       "  {'loss': 9.195048332214355, 'step': 141},\n",
       "  {'loss': 9.14223861694336, 'step': 142},\n",
       "  {'loss': 9.196338653564453, 'step': 143},\n",
       "  {'loss': 9.180425643920898, 'step': 144},\n",
       "  {'loss': 9.164178848266602, 'step': 145},\n",
       "  {'loss': 9.223235130310059, 'step': 146},\n",
       "  {'loss': 9.137679100036621, 'step': 147},\n",
       "  {'loss': 9.101289749145508, 'step': 148},\n",
       "  {'loss': 9.22606372833252, 'step': 149},\n",
       "  {'loss': 9.150430679321289, 'step': 150},\n",
       "  {'loss': 9.1336669921875, 'step': 151},\n",
       "  {'loss': 9.15786361694336, 'step': 152},\n",
       "  {'loss': 9.129446983337402, 'step': 153},\n",
       "  {'loss': 9.048257827758789, 'step': 154},\n",
       "  {'loss': 9.2185697555542, 'step': 155},\n",
       "  {'loss': 9.087263107299805, 'step': 156},\n",
       "  {'loss': 9.09419059753418, 'step': 157},\n",
       "  {'loss': 9.065747261047363, 'step': 158},\n",
       "  {'loss': 9.099309921264648, 'step': 159},\n",
       "  {'loss': 9.072330474853516, 'step': 160},\n",
       "  {'loss': 9.17096996307373, 'step': 161},\n",
       "  {'loss': 9.056809425354004, 'step': 162},\n",
       "  {'loss': 9.113625526428223, 'step': 163},\n",
       "  {'loss': 9.13154125213623, 'step': 164},\n",
       "  {'loss': 9.14342975616455, 'step': 165},\n",
       "  {'loss': 9.051257133483887, 'step': 166},\n",
       "  {'loss': 9.041041374206543, 'step': 167},\n",
       "  {'loss': 9.154091835021973, 'step': 168},\n",
       "  {'loss': 9.06464672088623, 'step': 169},\n",
       "  {'loss': 9.101161003112793, 'step': 170},\n",
       "  {'loss': 9.066080093383789, 'step': 171},\n",
       "  {'loss': 9.06990909576416, 'step': 172},\n",
       "  {'loss': 9.016921997070312, 'step': 173},\n",
       "  {'loss': 9.026756286621094, 'step': 174},\n",
       "  {'loss': 9.010520935058594, 'step': 175},\n",
       "  {'loss': 9.050806045532227, 'step': 176},\n",
       "  {'loss': 8.988807678222656, 'step': 177},\n",
       "  {'loss': 8.990694046020508, 'step': 178},\n",
       "  {'loss': 9.109062194824219, 'step': 179},\n",
       "  {'loss': 9.017782211303711, 'step': 180},\n",
       "  {'loss': 9.06209945678711, 'step': 181},\n",
       "  {'loss': 8.991076469421387, 'step': 182},\n",
       "  {'loss': 9.126495361328125, 'step': 183},\n",
       "  {'loss': 8.9645357131958, 'step': 184},\n",
       "  {'loss': 9.071554183959961, 'step': 185},\n",
       "  {'loss': 8.98330020904541, 'step': 186},\n",
       "  {'loss': 9.007390022277832, 'step': 187},\n",
       "  {'loss': 8.921337127685547, 'step': 188},\n",
       "  {'loss': 8.993631362915039, 'step': 189},\n",
       "  {'loss': 9.049095153808594, 'step': 190},\n",
       "  {'loss': 8.969602584838867, 'step': 191},\n",
       "  {'loss': 9.02955436706543, 'step': 192},\n",
       "  {'loss': 8.944681167602539, 'step': 193},\n",
       "  {'loss': 9.012900352478027, 'step': 194},\n",
       "  {'loss': 9.007087707519531, 'step': 195},\n",
       "  {'loss': 8.997617721557617, 'step': 196},\n",
       "  {'loss': 8.918612480163574, 'step': 197},\n",
       "  {'loss': 9.017218589782715, 'step': 198},\n",
       "  {'loss': 9.063287734985352, 'step': 199},\n",
       "  {'loss': 8.937336921691895, 'step': 200},\n",
       "  {'loss': 8.873570442199707, 'step': 201},\n",
       "  {'loss': 8.961276054382324, 'step': 202},\n",
       "  {'loss': 8.916451454162598, 'step': 203},\n",
       "  {'loss': 9.024805068969727, 'step': 204},\n",
       "  {'loss': 9.028754234313965, 'step': 205},\n",
       "  {'loss': 8.933229446411133, 'step': 206},\n",
       "  {'loss': 8.933052062988281, 'step': 207},\n",
       "  {'loss': 8.913812637329102, 'step': 208},\n",
       "  {'loss': 8.960137367248535, 'step': 209},\n",
       "  {'loss': 8.94907283782959, 'step': 210},\n",
       "  {'loss': 8.988308906555176, 'step': 211},\n",
       "  {'loss': 8.985082626342773, 'step': 212},\n",
       "  {'loss': 8.962211608886719, 'step': 213},\n",
       "  {'loss': 8.932455062866211, 'step': 214},\n",
       "  {'loss': 8.898897171020508, 'step': 215},\n",
       "  {'loss': 8.90727710723877, 'step': 216},\n",
       "  {'loss': 8.86380386352539, 'step': 217},\n",
       "  {'loss': 8.862692832946777, 'step': 218},\n",
       "  {'loss': 8.877187728881836, 'step': 219},\n",
       "  {'loss': 8.964237213134766, 'step': 220},\n",
       "  {'loss': 8.988475799560547, 'step': 221},\n",
       "  {'loss': 8.831192970275879, 'step': 222},\n",
       "  {'loss': 8.953195571899414, 'step': 223},\n",
       "  {'loss': 8.962859153747559, 'step': 224},\n",
       "  {'loss': 8.907575607299805, 'step': 225},\n",
       "  {'loss': 8.86286735534668, 'step': 226},\n",
       "  {'loss': 8.842223167419434, 'step': 227},\n",
       "  {'loss': 8.893293380737305, 'step': 228},\n",
       "  {'loss': 8.933459281921387, 'step': 229},\n",
       "  {'loss': 8.975035667419434, 'step': 230},\n",
       "  {'loss': 8.9252290725708, 'step': 231},\n",
       "  {'loss': 8.778508186340332, 'step': 232},\n",
       "  {'loss': 8.887027740478516, 'step': 233},\n",
       "  {'loss': 8.944198608398438, 'step': 234},\n",
       "  {'loss': 8.787619590759277, 'step': 235},\n",
       "  {'loss': 8.9729585647583, 'step': 236},\n",
       "  {'loss': 8.925256729125977, 'step': 237},\n",
       "  {'loss': 8.811349868774414, 'step': 238},\n",
       "  {'loss': 8.841419219970703, 'step': 239},\n",
       "  {'loss': 8.882702827453613, 'step': 240},\n",
       "  {'loss': 8.854660034179688, 'step': 241},\n",
       "  {'loss': 8.903475761413574, 'step': 242},\n",
       "  {'loss': 8.928754806518555, 'step': 243},\n",
       "  {'loss': 8.84273910522461, 'step': 244},\n",
       "  {'loss': 8.750061988830566, 'step': 245},\n",
       "  {'loss': 8.86443042755127, 'step': 246},\n",
       "  {'loss': 8.829346656799316, 'step': 247},\n",
       "  {'loss': 8.771913528442383, 'step': 248},\n",
       "  {'loss': 8.793588638305664, 'step': 249},\n",
       "  {'loss': 9.006884574890137, 'step': 250},\n",
       "  {'loss': 8.742115020751953, 'step': 251},\n",
       "  {'loss': 8.859174728393555, 'step': 252},\n",
       "  {'loss': 8.799525260925293, 'step': 253},\n",
       "  {'loss': 8.807075500488281, 'step': 254},\n",
       "  {'loss': 8.86147403717041, 'step': 255},\n",
       "  {'loss': 8.812152862548828, 'step': 256},\n",
       "  {'loss': 8.743401527404785, 'step': 257},\n",
       "  {'loss': 8.756558418273926, 'step': 258},\n",
       "  {'loss': 8.789375305175781, 'step': 259},\n",
       "  {'loss': 8.825522422790527, 'step': 260},\n",
       "  {'loss': 8.762109756469727, 'step': 261},\n",
       "  {'loss': 8.912420272827148, 'step': 262},\n",
       "  {'loss': 8.804823875427246, 'step': 263},\n",
       "  {'loss': 8.781468391418457, 'step': 264},\n",
       "  {'loss': 8.76784896850586, 'step': 265},\n",
       "  {'loss': 8.86196231842041, 'step': 266},\n",
       "  {'loss': 8.75307559967041, 'step': 267},\n",
       "  {'loss': 8.826642036437988, 'step': 268},\n",
       "  {'loss': 8.679108619689941, 'step': 269},\n",
       "  {'loss': 8.782380104064941, 'step': 270},\n",
       "  {'loss': 8.86538314819336, 'step': 271},\n",
       "  {'loss': 8.822880744934082, 'step': 272},\n",
       "  {'loss': 8.686027526855469, 'step': 273},\n",
       "  {'loss': 8.79935359954834, 'step': 274},\n",
       "  {'loss': 8.675544738769531, 'step': 275},\n",
       "  {'loss': 8.653009414672852, 'step': 276},\n",
       "  {'loss': 8.8073091506958, 'step': 277},\n",
       "  {'loss': 8.822088241577148, 'step': 278},\n",
       "  {'loss': 8.871170997619629, 'step': 279},\n",
       "  {'loss': 8.671212196350098, 'step': 280},\n",
       "  {'loss': 8.836950302124023, 'step': 281},\n",
       "  {'loss': 8.834087371826172, 'step': 282},\n",
       "  {'loss': 8.751850128173828, 'step': 283},\n",
       "  {'loss': 8.583925247192383, 'step': 284},\n",
       "  {'loss': 8.74250602722168, 'step': 285},\n",
       "  {'loss': 8.641557693481445, 'step': 286},\n",
       "  {'loss': 8.738364219665527, 'step': 287},\n",
       "  {'loss': 8.63403034210205, 'step': 288},\n",
       "  {'loss': 8.714423179626465, 'step': 289},\n",
       "  {'loss': 8.711220741271973, 'step': 290},\n",
       "  {'loss': 8.789855003356934, 'step': 291},\n",
       "  {'loss': 8.635817527770996, 'step': 292},\n",
       "  {'loss': 8.636628150939941, 'step': 293},\n",
       "  {'loss': 8.65964126586914, 'step': 294},\n",
       "  {'loss': 8.562580108642578, 'step': 295},\n",
       "  {'loss': 8.693440437316895, 'step': 296},\n",
       "  {'loss': 8.708871841430664, 'step': 297},\n",
       "  {'loss': 8.734578132629395, 'step': 298},\n",
       "  {'loss': 8.788146018981934, 'step': 299},\n",
       "  {'loss': 8.599199295043945, 'step': 300},\n",
       "  {'loss': 8.69482421875, 'step': 301},\n",
       "  {'loss': 8.622294425964355, 'step': 302},\n",
       "  {'loss': 8.733081817626953, 'step': 303},\n",
       "  {'loss': 8.580565452575684, 'step': 304},\n",
       "  {'loss': 8.684157371520996, 'step': 305},\n",
       "  {'loss': 8.509598731994629, 'step': 306},\n",
       "  {'loss': 8.570483207702637, 'step': 307},\n",
       "  {'loss': 8.623741149902344, 'step': 308},\n",
       "  {'loss': 8.663787841796875, 'step': 309},\n",
       "  {'loss': 8.709168434143066, 'step': 310},\n",
       "  {'loss': 8.64780044555664, 'step': 311},\n",
       "  {'loss': 8.689045906066895, 'step': 312},\n",
       "  {'loss': 8.795071601867676, 'step': 313},\n",
       "  {'loss': 8.57588005065918, 'step': 314},\n",
       "  {'loss': 8.771965980529785, 'step': 315},\n",
       "  {'loss': 8.608672142028809, 'step': 316},\n",
       "  {'loss': 8.736589431762695, 'step': 317},\n",
       "  {'loss': 8.579845428466797, 'step': 318},\n",
       "  {'loss': 8.751152038574219, 'step': 319},\n",
       "  {'loss': 8.587321281433105, 'step': 320},\n",
       "  {'loss': 8.519315719604492, 'step': 321},\n",
       "  {'loss': 8.613166809082031, 'step': 322},\n",
       "  {'loss': 8.526297569274902, 'step': 323},\n",
       "  {'loss': 8.530580520629883, 'step': 324},\n",
       "  {'loss': 8.63705825805664, 'step': 325},\n",
       "  {'loss': 8.604665756225586, 'step': 326},\n",
       "  {'loss': 8.53087329864502, 'step': 327},\n",
       "  {'loss': 8.587251663208008, 'step': 328},\n",
       "  {'loss': 8.56600570678711, 'step': 329},\n",
       "  {'loss': 8.48939323425293, 'step': 330},\n",
       "  {'loss': 8.643280982971191, 'step': 331},\n",
       "  {'loss': 8.679455757141113, 'step': 332},\n",
       "  {'loss': 8.56159496307373, 'step': 333},\n",
       "  {'loss': 8.635832786560059, 'step': 334},\n",
       "  {'loss': 8.482110023498535, 'step': 335},\n",
       "  {'loss': 8.478471755981445, 'step': 336},\n",
       "  {'loss': 8.457315444946289, 'step': 337},\n",
       "  {'loss': 8.529251098632812, 'step': 338},\n",
       "  {'loss': 8.683313369750977, 'step': 339},\n",
       "  {'loss': 8.492696762084961, 'step': 340},\n",
       "  {'loss': 8.376052856445312, 'step': 341},\n",
       "  {'loss': 8.488329887390137, 'step': 342},\n",
       "  {'loss': 8.419777870178223, 'step': 343},\n",
       "  {'loss': 8.585220336914062, 'step': 344},\n",
       "  {'loss': 8.462355613708496, 'step': 345},\n",
       "  {'loss': 8.530588150024414, 'step': 346},\n",
       "  {'loss': 8.547253608703613, 'step': 347},\n",
       "  {'loss': 8.586502075195312, 'step': 348},\n",
       "  {'loss': 8.330455780029297, 'step': 349},\n",
       "  {'loss': 8.427694320678711, 'step': 350},\n",
       "  {'loss': 8.58507251739502, 'step': 351},\n",
       "  {'loss': 8.458036422729492, 'step': 352},\n",
       "  {'loss': 8.625208854675293, 'step': 353},\n",
       "  {'loss': 8.574230194091797, 'step': 354},\n",
       "  {'loss': 8.362899780273438, 'step': 355},\n",
       "  {'loss': 8.551645278930664, 'step': 356},\n",
       "  {'loss': 8.345170021057129, 'step': 357},\n",
       "  {'loss': 8.580340385437012, 'step': 358},\n",
       "  {'loss': 8.27802562713623, 'step': 359},\n",
       "  {'loss': 8.47858715057373, 'step': 360},\n",
       "  {'loss': 8.3787841796875, 'step': 361},\n",
       "  {'loss': 8.330010414123535, 'step': 362},\n",
       "  {'loss': 8.423977851867676, 'step': 363},\n",
       "  {'loss': 8.349559783935547, 'step': 364},\n",
       "  {'loss': 8.309782981872559, 'step': 365},\n",
       "  {'loss': 8.323416709899902, 'step': 366},\n",
       "  {'loss': 8.301251411437988, 'step': 367},\n",
       "  {'loss': 8.357101440429688, 'step': 368},\n",
       "  {'loss': 8.49808120727539, 'step': 369},\n",
       "  {'loss': 8.50711727142334, 'step': 370},\n",
       "  {'loss': 8.54242992401123, 'step': 371},\n",
       "  {'loss': 8.273935317993164, 'step': 372},\n",
       "  {'loss': 8.448065757751465, 'step': 373},\n",
       "  {'loss': 8.488385200500488, 'step': 374},\n",
       "  {'loss': 8.430842399597168, 'step': 375},\n",
       "  {'loss': 8.397719383239746, 'step': 376},\n",
       "  {'loss': 8.566694259643555, 'step': 377},\n",
       "  {'loss': 8.483428001403809, 'step': 378},\n",
       "  {'loss': 8.287837982177734, 'step': 379},\n",
       "  {'loss': 8.292242050170898, 'step': 380},\n",
       "  {'loss': 8.272628784179688, 'step': 381},\n",
       "  {'loss': 8.378332138061523, 'step': 382},\n",
       "  {'loss': 8.266536712646484, 'step': 383},\n",
       "  {'loss': 8.419057846069336, 'step': 384},\n",
       "  {'loss': 8.170927047729492, 'step': 385},\n",
       "  {'loss': 8.28726577758789, 'step': 386},\n",
       "  {'loss': 8.466512680053711, 'step': 387},\n",
       "  {'loss': 8.466483116149902, 'step': 388},\n",
       "  {'loss': 8.230030059814453, 'step': 389},\n",
       "  {'loss': 8.572032928466797, 'step': 390},\n",
       "  {'loss': 8.225313186645508, 'step': 391},\n",
       "  {'loss': 8.270209312438965, 'step': 392},\n",
       "  {'loss': 8.441056251525879, 'step': 393},\n",
       "  {'loss': 8.184185028076172, 'step': 394},\n",
       "  {'loss': 8.19973373413086, 'step': 395},\n",
       "  {'loss': 8.137192726135254, 'step': 396},\n",
       "  {'loss': 8.345725059509277, 'step': 397},\n",
       "  {'loss': 8.289485931396484, 'step': 398},\n",
       "  {'loss': 8.318143844604492, 'step': 399},\n",
       "  {'loss': 8.286551475524902, 'step': 400},\n",
       "  {'loss': 8.142133712768555, 'step': 401},\n",
       "  {'loss': 8.502306938171387, 'step': 402},\n",
       "  {'loss': 8.186677932739258, 'step': 403},\n",
       "  {'loss': 8.323545455932617, 'step': 404},\n",
       "  {'loss': 8.309745788574219, 'step': 405},\n",
       "  {'loss': 8.219532012939453, 'step': 406},\n",
       "  {'loss': 8.125558853149414, 'step': 407},\n",
       "  {'loss': 8.175963401794434, 'step': 408},\n",
       "  {'loss': 8.213293075561523, 'step': 409},\n",
       "  {'loss': 8.219451904296875, 'step': 410},\n",
       "  {'loss': 8.30965805053711, 'step': 411},\n",
       "  {'loss': 8.256868362426758, 'step': 412},\n",
       "  {'loss': 8.347718238830566, 'step': 413},\n",
       "  {'loss': 8.259881019592285, 'step': 414},\n",
       "  {'loss': 8.368480682373047, 'step': 415},\n",
       "  {'loss': 8.161903381347656, 'step': 416},\n",
       "  {'loss': 8.275357246398926, 'step': 417},\n",
       "  {'loss': 8.114784240722656, 'step': 418},\n",
       "  {'loss': 8.205711364746094, 'step': 419},\n",
       "  {'loss': 8.284326553344727, 'step': 420},\n",
       "  {'loss': 8.16576862335205, 'step': 421},\n",
       "  {'loss': 8.074676513671875, 'step': 422},\n",
       "  {'loss': 8.26616382598877, 'step': 423},\n",
       "  {'loss': 8.03842544555664, 'step': 424},\n",
       "  {'loss': 8.02665901184082, 'step': 425},\n",
       "  {'loss': 8.021798133850098, 'step': 426},\n",
       "  {'loss': 8.197534561157227, 'step': 427},\n",
       "  {'loss': 8.274510383605957, 'step': 428},\n",
       "  {'loss': 8.204072952270508, 'step': 429},\n",
       "  {'loss': 8.355402946472168, 'step': 430},\n",
       "  {'loss': 7.971126079559326, 'step': 431},\n",
       "  {'loss': 8.070340156555176, 'step': 432},\n",
       "  {'loss': 8.227153778076172, 'step': 433},\n",
       "  {'loss': 8.289999961853027, 'step': 434},\n",
       "  {'loss': 8.278417587280273, 'step': 435},\n",
       "  {'loss': 8.325979232788086, 'step': 436},\n",
       "  {'loss': 8.236977577209473, 'step': 437},\n",
       "  {'loss': 8.006397247314453, 'step': 438},\n",
       "  {'loss': 8.258310317993164, 'step': 439},\n",
       "  {'loss': 7.925000190734863, 'step': 440},\n",
       "  {'loss': 8.068437576293945, 'step': 441},\n",
       "  {'loss': 8.187785148620605, 'step': 442},\n",
       "  {'loss': 8.140384674072266, 'step': 443},\n",
       "  {'loss': 8.059191703796387, 'step': 444},\n",
       "  {'loss': 8.099575996398926, 'step': 445},\n",
       "  {'loss': 8.33664608001709, 'step': 446},\n",
       "  {'loss': 8.024053573608398, 'step': 447},\n",
       "  {'loss': 8.078963279724121, 'step': 448},\n",
       "  {'loss': 8.259651184082031, 'step': 449},\n",
       "  {'loss': 8.188724517822266, 'step': 450},\n",
       "  {'loss': 8.202876091003418, 'step': 451},\n",
       "  {'loss': 8.15482234954834, 'step': 452},\n",
       "  {'loss': 8.295949935913086, 'step': 453},\n",
       "  {'loss': 8.001898765563965, 'step': 454},\n",
       "  {'loss': 8.000085830688477, 'step': 455},\n",
       "  {'loss': 8.142293930053711, 'step': 456},\n",
       "  {'loss': 8.198354721069336, 'step': 457},\n",
       "  {'loss': 7.948265552520752, 'step': 458},\n",
       "  {'loss': 7.9850687980651855, 'step': 459},\n",
       "  {'loss': 7.93799352645874, 'step': 460},\n",
       "  {'loss': 8.100361824035645, 'step': 461},\n",
       "  {'loss': 8.024949073791504, 'step': 462},\n",
       "  {'loss': 8.162090301513672, 'step': 463},\n",
       "  {'loss': 7.976605415344238, 'step': 464},\n",
       "  {'loss': 8.041296005249023, 'step': 465},\n",
       "  {'loss': 8.017824172973633, 'step': 466},\n",
       "  {'loss': 8.036636352539062, 'step': 467},\n",
       "  {'loss': 7.98923397064209, 'step': 468},\n",
       "  {'loss': 7.99272346496582, 'step': 469},\n",
       "  {'loss': 7.868724346160889, 'step': 470},\n",
       "  {'loss': 7.933021068572998, 'step': 471},\n",
       "  {'loss': 7.9171600341796875, 'step': 472},\n",
       "  {'loss': 7.895435810089111, 'step': 473},\n",
       "  {'loss': 7.81476354598999, 'step': 474},\n",
       "  {'loss': 7.884523868560791, 'step': 475},\n",
       "  {'loss': 7.827278137207031, 'step': 476},\n",
       "  {'loss': 8.049531936645508, 'step': 477},\n",
       "  {'loss': 8.171745300292969, 'step': 478},\n",
       "  {'loss': 8.073107719421387, 'step': 479},\n",
       "  {'loss': 7.989126682281494, 'step': 480},\n",
       "  {'loss': 7.92690896987915, 'step': 481},\n",
       "  {'loss': 7.825825214385986, 'step': 482},\n",
       "  {'loss': 7.9315314292907715, 'step': 483},\n",
       "  {'loss': 7.890162944793701, 'step': 484},\n",
       "  {'loss': 7.666459083557129, 'step': 485},\n",
       "  {'loss': 7.720330715179443, 'step': 486},\n",
       "  {'loss': 7.790175914764404, 'step': 487},\n",
       "  {'loss': 7.683202743530273, 'step': 488},\n",
       "  {'loss': 7.833439350128174, 'step': 489},\n",
       "  {'loss': 7.7715744972229, 'step': 490},\n",
       "  {'loss': 8.085298538208008, 'step': 491},\n",
       "  {'loss': 8.01535701751709, 'step': 492},\n",
       "  {'loss': 8.023347854614258, 'step': 493},\n",
       "  {'loss': 8.064530372619629, 'step': 494},\n",
       "  {'loss': 7.721303462982178, 'step': 495},\n",
       "  {'loss': 7.882567405700684, 'step': 496},\n",
       "  {'loss': 7.700028896331787, 'step': 497},\n",
       "  {'loss': 7.798042297363281, 'step': 498},\n",
       "  {'loss': 7.745739459991455, 'step': 499},\n",
       "  {'loss': 7.752256393432617, 'step': 500},\n",
       "  {'loss': 8.031305313110352, 'step': 501},\n",
       "  {'loss': 7.842563152313232, 'step': 502},\n",
       "  {'loss': 8.017505645751953, 'step': 503},\n",
       "  {'loss': 7.860631465911865, 'step': 504},\n",
       "  {'loss': 7.838184833526611, 'step': 505},\n",
       "  {'loss': 8.070241928100586, 'step': 506},\n",
       "  {'loss': 7.891313076019287, 'step': 507},\n",
       "  {'loss': 7.860300064086914, 'step': 508},\n",
       "  {'loss': 7.565057277679443, 'step': 509},\n",
       "  {'loss': 7.674726486206055, 'step': 510},\n",
       "  {'loss': 7.769111633300781, 'step': 511},\n",
       "  {'loss': 7.691898822784424, 'step': 512},\n",
       "  {'loss': 7.86876106262207, 'step': 513},\n",
       "  {'loss': 7.9039177894592285, 'step': 514},\n",
       "  {'loss': 7.740102767944336, 'step': 515},\n",
       "  {'loss': 7.695594310760498, 'step': 516},\n",
       "  {'loss': 7.631618499755859, 'step': 517},\n",
       "  {'loss': 7.842502117156982, 'step': 518},\n",
       "  {'loss': 7.721302509307861, 'step': 519},\n",
       "  {'loss': 7.783942699432373, 'step': 520},\n",
       "  {'loss': 7.835646629333496, 'step': 521},\n",
       "  {'loss': 7.814133167266846, 'step': 522},\n",
       "  {'loss': 7.793994903564453, 'step': 523},\n",
       "  {'loss': 7.603564262390137, 'step': 524},\n",
       "  {'loss': 7.614474773406982, 'step': 525},\n",
       "  {'loss': 7.9298014640808105, 'step': 526},\n",
       "  {'loss': 7.602175235748291, 'step': 527},\n",
       "  {'loss': 7.691305637359619, 'step': 528},\n",
       "  {'loss': 7.630173206329346, 'step': 529},\n",
       "  {'loss': 7.851709842681885, 'step': 530},\n",
       "  {'loss': 7.533477783203125, 'step': 531},\n",
       "  {'loss': 7.740659713745117, 'step': 532},\n",
       "  {'loss': 7.6900248527526855, 'step': 533},\n",
       "  {'loss': 7.836917877197266, 'step': 534},\n",
       "  {'loss': 7.746986389160156, 'step': 535},\n",
       "  {'loss': 7.702500820159912, 'step': 536},\n",
       "  {'loss': 7.514297008514404, 'step': 537},\n",
       "  {'loss': 7.6790876388549805, 'step': 538},\n",
       "  {'loss': 7.881558418273926, 'step': 539},\n",
       "  {'loss': 7.67376184463501, 'step': 540},\n",
       "  {'loss': 7.683228492736816, 'step': 541},\n",
       "  {'loss': 7.707193851470947, 'step': 542},\n",
       "  {'loss': 7.985900402069092, 'step': 543},\n",
       "  {'loss': 7.592956066131592, 'step': 544},\n",
       "  {'loss': 7.75164270401001, 'step': 545},\n",
       "  {'loss': 7.725083827972412, 'step': 546},\n",
       "  {'loss': 7.736515998840332, 'step': 547},\n",
       "  {'loss': 7.534180641174316, 'step': 548},\n",
       "  {'loss': 7.8136396408081055, 'step': 549},\n",
       "  {'loss': 7.685042381286621, 'step': 550},\n",
       "  {'loss': 7.543633937835693, 'step': 551},\n",
       "  {'loss': 7.68109655380249, 'step': 552},\n",
       "  {'loss': 7.548937797546387, 'step': 553},\n",
       "  {'loss': 7.6117987632751465, 'step': 554},\n",
       "  {'loss': 7.7622151374816895, 'step': 555},\n",
       "  {'loss': 7.52206563949585, 'step': 556},\n",
       "  {'loss': 7.5041937828063965, 'step': 557},\n",
       "  {'loss': 7.778776168823242, 'step': 558},\n",
       "  {'loss': 7.659333229064941, 'step': 559},\n",
       "  {'loss': 7.550933361053467, 'step': 560},\n",
       "  {'loss': 7.642423629760742, 'step': 561},\n",
       "  {'loss': 7.53788423538208, 'step': 562},\n",
       "  {'loss': 7.385994911193848, 'step': 563},\n",
       "  {'loss': 7.74937105178833, 'step': 564},\n",
       "  {'loss': 7.437366962432861, 'step': 565},\n",
       "  {'loss': 7.468072891235352, 'step': 566},\n",
       "  {'loss': 7.4164886474609375, 'step': 567},\n",
       "  {'loss': 7.5244140625, 'step': 568},\n",
       "  {'loss': 7.487256050109863, 'step': 569},\n",
       "  {'loss': 7.709755897521973, 'step': 570},\n",
       "  {'loss': 7.393446445465088, 'step': 571},\n",
       "  {'loss': 7.541135311126709, 'step': 572},\n",
       "  {'loss': 7.610164642333984, 'step': 573},\n",
       "  {'loss': 7.630757808685303, 'step': 574},\n",
       "  {'loss': 7.36745023727417, 'step': 575},\n",
       "  {'loss': 7.369020462036133, 'step': 576},\n",
       "  {'loss': 7.661934852600098, 'step': 577},\n",
       "  {'loss': 7.3869428634643555, 'step': 578},\n",
       "  {'loss': 7.427119731903076, 'step': 579},\n",
       "  {'loss': 7.612209796905518, 'step': 580},\n",
       "  {'loss': 7.441349029541016, 'step': 581},\n",
       "  {'loss': 7.294149398803711, 'step': 582},\n",
       "  {'loss': 7.342461109161377, 'step': 583},\n",
       "  {'loss': 7.360282897949219, 'step': 584},\n",
       "  {'loss': 7.44068717956543, 'step': 585},\n",
       "  {'loss': 7.332250118255615, 'step': 586},\n",
       "  {'loss': 7.370676040649414, 'step': 587},\n",
       "  {'loss': 7.667712211608887, 'step': 588},\n",
       "  {'loss': 7.381311416625977, 'step': 589},\n",
       "  {'loss': 7.510195732116699, 'step': 590},\n",
       "  {'loss': 7.415395259857178, 'step': 591},\n",
       "  {'loss': 7.615304470062256, 'step': 592},\n",
       "  {'loss': 7.390730381011963, 'step': 593},\n",
       "  {'loss': 7.479166030883789, 'step': 594},\n",
       "  {'loss': 7.3249735832214355, 'step': 595},\n",
       "  {'loss': 7.395759582519531, 'step': 596},\n",
       "  {'loss': 7.263391017913818, 'step': 597},\n",
       "  {'loss': 7.3029913902282715, 'step': 598},\n",
       "  {'loss': 7.535648345947266, 'step': 599},\n",
       "  {'loss': 7.323287487030029, 'step': 600},\n",
       "  {'loss': 7.459798812866211, 'step': 601},\n",
       "  {'loss': 7.260477542877197, 'step': 602},\n",
       "  {'loss': 7.4548234939575195, 'step': 603},\n",
       "  {'loss': 7.388786792755127, 'step': 604},\n",
       "  {'loss': 7.380133628845215, 'step': 605},\n",
       "  {'loss': 7.164846420288086, 'step': 606},\n",
       "  {'loss': 7.481746196746826, 'step': 607},\n",
       "  {'loss': 7.506260871887207, 'step': 608},\n",
       "  {'loss': 7.2329230308532715, 'step': 609},\n",
       "  {'loss': 7.177616596221924, 'step': 610},\n",
       "  {'loss': 7.263645648956299, 'step': 611},\n",
       "  {'loss': 7.206231117248535, 'step': 612},\n",
       "  {'loss': 7.5480146408081055, 'step': 613},\n",
       "  {'loss': 7.514062404632568, 'step': 614},\n",
       "  {'loss': 7.245038032531738, 'step': 615},\n",
       "  {'loss': 7.29628849029541, 'step': 616},\n",
       "  {'loss': 7.1918511390686035, 'step': 617},\n",
       "  {'loss': 7.3640456199646, 'step': 618},\n",
       "  {'loss': 7.288930416107178, 'step': 619},\n",
       "  {'loss': 7.350322723388672, 'step': 620},\n",
       "  {'loss': 7.526374816894531, 'step': 621},\n",
       "  {'loss': 7.369124412536621, 'step': 622},\n",
       "  {'loss': 7.19091796875, 'step': 623},\n",
       "  {'loss': 7.195038318634033, 'step': 624},\n",
       "  {'loss': 7.229849815368652, 'step': 625},\n",
       "  {'loss': 7.144491672515869, 'step': 626},\n",
       "  {'loss': 7.2189459800720215, 'step': 627},\n",
       "  {'loss': 7.128323078155518, 'step': 628},\n",
       "  {'loss': 7.376311779022217, 'step': 629},\n",
       "  {'loss': 7.384062767028809, 'step': 630},\n",
       "  {'loss': 7.056923866271973, 'step': 631},\n",
       "  {'loss': 7.309351921081543, 'step': 632},\n",
       "  {'loss': 7.318121433258057, 'step': 633},\n",
       "  {'loss': 7.193737983703613, 'step': 634},\n",
       "  {'loss': 7.117722988128662, 'step': 635},\n",
       "  {'loss': 7.054699897766113, 'step': 636},\n",
       "  {'loss': 7.165998935699463, 'step': 637},\n",
       "  {'loss': 7.290207386016846, 'step': 638},\n",
       "  {'loss': 7.362070083618164, 'step': 639},\n",
       "  {'loss': 7.24297571182251, 'step': 640},\n",
       "  {'loss': 7.176025390625, 'step': 641},\n",
       "  {'loss': 7.2607879638671875, 'step': 642},\n",
       "  {'loss': 7.294280529022217, 'step': 643},\n",
       "  {'loss': 7.104759216308594, 'step': 644},\n",
       "  {'loss': 7.392867565155029, 'step': 645},\n",
       "  {'loss': 7.2841057777404785, 'step': 646},\n",
       "  {'loss': 7.06187105178833, 'step': 647},\n",
       "  {'loss': 7.037038803100586, 'step': 648},\n",
       "  {'loss': 7.234074115753174, 'step': 649},\n",
       "  {'loss': 7.195467948913574, 'step': 650},\n",
       "  {'loss': 7.300597667694092, 'step': 651},\n",
       "  {'loss': 7.29690408706665, 'step': 652},\n",
       "  {'loss': 7.143674850463867, 'step': 653},\n",
       "  {'loss': 6.9315619468688965, 'step': 654},\n",
       "  {'loss': 7.164236068725586, 'step': 655},\n",
       "  {'loss': 7.124350070953369, 'step': 656},\n",
       "  {'loss': 6.960233211517334, 'step': 657},\n",
       "  {'loss': 7.042481899261475, 'step': 658},\n",
       "  {'loss': 7.4292120933532715, 'step': 659},\n",
       "  {'loss': 6.913431167602539, 'step': 660},\n",
       "  {'loss': 7.185338973999023, 'step': 661},\n",
       "  {'loss': 7.081486701965332, 'step': 662},\n",
       "  {'loss': 7.075185298919678, 'step': 663},\n",
       "  {'loss': 7.177883148193359, 'step': 664},\n",
       "  {'loss': 7.10228967666626, 'step': 665},\n",
       "  {'loss': 6.94821310043335, 'step': 666},\n",
       "  {'loss': 6.9560956954956055, 'step': 667},\n",
       "  {'loss': 6.978217601776123, 'step': 668},\n",
       "  {'loss': 7.098851203918457, 'step': 669},\n",
       "  {'loss': 6.941906452178955, 'step': 670},\n",
       "  {'loss': 7.306744575500488, 'step': 671},\n",
       "  {'loss': 7.102690696716309, 'step': 672},\n",
       "  {'loss': 6.953904628753662, 'step': 673},\n",
       "  {'loss': 7.0708465576171875, 'step': 674},\n",
       "  {'loss': 7.152159690856934, 'step': 675},\n",
       "  {'loss': 7.017847537994385, 'step': 676},\n",
       "  {'loss': 7.161386013031006, 'step': 677},\n",
       "  {'loss': 6.964045524597168, 'step': 678},\n",
       "  {'loss': 7.058696269989014, 'step': 679},\n",
       "  {'loss': 7.158412456512451, 'step': 680},\n",
       "  {'loss': 7.166911602020264, 'step': 681},\n",
       "  {'loss': 6.755441665649414, 'step': 682},\n",
       "  {'loss': 7.162496566772461, 'step': 683},\n",
       "  {'loss': 6.890357971191406, 'step': 684},\n",
       "  {'loss': 6.818204402923584, 'step': 685},\n",
       "  {'loss': 7.0758185386657715, 'step': 686},\n",
       "  {'loss': 7.150006294250488, 'step': 687},\n",
       "  {'loss': 7.249223709106445, 'step': 688},\n",
       "  {'loss': 6.908133506774902, 'step': 689},\n",
       "  {'loss': 7.208120822906494, 'step': 690},\n",
       "  {'loss': 7.216119289398193, 'step': 691},\n",
       "  {'loss': 7.026418209075928, 'step': 692},\n",
       "  {'loss': 6.6692914962768555, 'step': 693},\n",
       "  {'loss': 7.073648452758789, 'step': 694},\n",
       "  {'loss': 6.764120578765869, 'step': 695},\n",
       "  {'loss': 6.950501918792725, 'step': 696},\n",
       "  {'loss': 6.739828586578369, 'step': 697},\n",
       "  {'loss': 6.894822120666504, 'step': 698},\n",
       "  {'loss': 6.896605968475342, 'step': 699},\n",
       "  {'loss': 7.1009840965271, 'step': 700},\n",
       "  {'loss': 6.771511077880859, 'step': 701},\n",
       "  {'loss': 6.8337812423706055, 'step': 702},\n",
       "  {'loss': 6.847138404846191, 'step': 703},\n",
       "  {'loss': 6.646843910217285, 'step': 704},\n",
       "  {'loss': 6.90508508682251, 'step': 705},\n",
       "  {'loss': 6.956333637237549, 'step': 706},\n",
       "  {'loss': 7.001620292663574, 'step': 707},\n",
       "  {'loss': 7.131264686584473, 'step': 708},\n",
       "  {'loss': 6.722470283508301, 'step': 709},\n",
       "  {'loss': 6.998489856719971, 'step': 710},\n",
       "  {'loss': 6.778670787811279, 'step': 711},\n",
       "  {'loss': 6.997768402099609, 'step': 712},\n",
       "  {'loss': 6.672021389007568, 'step': 713},\n",
       "  {'loss': 6.902315139770508, 'step': 714},\n",
       "  {'loss': 6.591322898864746, 'step': 715},\n",
       "  {'loss': 6.678576469421387, 'step': 716},\n",
       "  {'loss': 6.818155288696289, 'step': 717},\n",
       "  {'loss': 6.915678024291992, 'step': 718},\n",
       "  {'loss': 6.981989860534668, 'step': 719},\n",
       "  {'loss': 6.930153846740723, 'step': 720},\n",
       "  {'loss': 6.935618877410889, 'step': 721},\n",
       "  {'loss': 7.132222652435303, 'step': 722},\n",
       "  {'loss': 6.793107032775879, 'step': 723},\n",
       "  {'loss': 7.1793622970581055, 'step': 724},\n",
       "  {'loss': 6.829934120178223, 'step': 725},\n",
       "  {'loss': 7.032703876495361, 'step': 726},\n",
       "  {'loss': 6.6947126388549805, 'step': 727},\n",
       "  {'loss': 7.111688137054443, 'step': 728},\n",
       "  {'loss': 6.772738933563232, 'step': 729},\n",
       "  {'loss': 6.676788330078125, 'step': 730},\n",
       "  {'loss': 6.812124252319336, 'step': 731},\n",
       "  {'loss': 6.630715847015381, 'step': 732},\n",
       "  {'loss': 6.653645992279053, 'step': 733},\n",
       "  {'loss': 6.88917350769043, 'step': 734},\n",
       "  {'loss': 6.848690032958984, 'step': 735},\n",
       "  {'loss': 6.673974514007568, 'step': 736},\n",
       "  {'loss': 6.858992099761963, 'step': 737},\n",
       "  {'loss': 6.807353496551514, 'step': 738},\n",
       "  {'loss': 6.663293361663818, 'step': 739},\n",
       "  {'loss': 6.944544315338135, 'step': 740},\n",
       "  {'loss': 6.995883941650391, 'step': 741},\n",
       "  {'loss': 6.765715599060059, 'step': 742},\n",
       "  {'loss': 6.907531261444092, 'step': 743},\n",
       "  {'loss': 6.601240634918213, 'step': 744},\n",
       "  {'loss': 6.582559585571289, 'step': 745},\n",
       "  {'loss': 6.569709777832031, 'step': 746},\n",
       "  {'loss': 6.666450023651123, 'step': 747},\n",
       "  {'loss': 7.0334553718566895, 'step': 748},\n",
       "  {'loss': 6.581526756286621, 'step': 749},\n",
       "  {'loss': 6.387975692749023, 'step': 750},\n",
       "  {'loss': 6.653116703033447, 'step': 751},\n",
       "  {'loss': 6.625396728515625, 'step': 752},\n",
       "  {'loss': 6.90941858291626, 'step': 753},\n",
       "  {'loss': 6.569037437438965, 'step': 754},\n",
       "  {'loss': 6.717387676239014, 'step': 755},\n",
       "  {'loss': 6.8563923835754395, 'step': 756},\n",
       "  {'loss': 6.842007160186768, 'step': 757},\n",
       "  {'loss': 6.436248302459717, 'step': 758},\n",
       "  {'loss': 6.579719543457031, 'step': 759},\n",
       "  {'loss': 6.908158779144287, 'step': 760},\n",
       "  {'loss': 6.669997215270996, 'step': 761},\n",
       "  {'loss': 6.972342014312744, 'step': 762},\n",
       "  {'loss': 6.853329658508301, 'step': 763},\n",
       "  {'loss': 6.447993755340576, 'step': 764},\n",
       "  {'loss': 6.85708475112915, 'step': 765},\n",
       "  {'loss': 6.5075459480285645, 'step': 766},\n",
       "  {'loss': 6.871105670928955, 'step': 767},\n",
       "  {'loss': 6.301000595092773, 'step': 768},\n",
       "  {'loss': 6.799920082092285, 'step': 769},\n",
       "  {'loss': 6.471307754516602, 'step': 770},\n",
       "  {'loss': 6.44651460647583, 'step': 771},\n",
       "  {'loss': 6.550629615783691, 'step': 772},\n",
       "  {'loss': 6.462114334106445, 'step': 773},\n",
       "  {'loss': 6.37314510345459, 'step': 774},\n",
       "  {'loss': 6.390990734100342, 'step': 775},\n",
       "  {'loss': 6.4010396003723145, 'step': 776},\n",
       "  {'loss': 6.594603061676025, 'step': 777},\n",
       "  {'loss': 6.740756034851074, 'step': 778},\n",
       "  {'loss': 6.849034786224365, 'step': 779},\n",
       "  {'loss': 6.790022373199463, 'step': 780},\n",
       "  {'loss': 6.4185895919799805, 'step': 781},\n",
       "  {'loss': 6.658527374267578, 'step': 782},\n",
       "  {'loss': 6.7239861488342285, 'step': 783},\n",
       "  {'loss': 6.656084060668945, 'step': 784},\n",
       "  {'loss': 6.549798011779785, 'step': 785},\n",
       "  {'loss': 6.862466812133789, 'step': 786},\n",
       "  {'loss': 6.742612361907959, 'step': 787},\n",
       "  {'loss': 6.398942470550537, 'step': 788},\n",
       "  {'loss': 6.37243127822876, 'step': 789},\n",
       "  {'loss': 6.393083095550537, 'step': 790},\n",
       "  {'loss': 6.606634616851807, 'step': 791},\n",
       "  {'loss': 6.469971656799316, 'step': 792},\n",
       "  {'loss': 6.58990478515625, 'step': 793},\n",
       "  {'loss': 6.215520858764648, 'step': 794},\n",
       "  {'loss': 6.377246856689453, 'step': 795},\n",
       "  {'loss': 6.58693265914917, 'step': 796},\n",
       "  {'loss': 6.627108573913574, 'step': 797},\n",
       "  {'loss': 6.278439521789551, 'step': 798},\n",
       "  {'loss': 6.7450666427612305, 'step': 799},\n",
       "  {'loss': 6.460102081298828, 'step': 800},\n",
       "  {'loss': 6.430548667907715, 'step': 801},\n",
       "  {'loss': 6.6676249504089355, 'step': 802},\n",
       "  {'loss': 6.338358402252197, 'step': 803},\n",
       "  {'loss': 6.37332820892334, 'step': 804},\n",
       "  {'loss': 6.251008033752441, 'step': 805},\n",
       "  {'loss': 6.652750015258789, 'step': 806},\n",
       "  {'loss': 6.47305965423584, 'step': 807},\n",
       "  {'loss': 6.482268810272217, 'step': 808},\n",
       "  {'loss': 6.441157817840576, 'step': 809},\n",
       "  {'loss': 6.118856906890869, 'step': 810},\n",
       "  {'loss': 6.824183464050293, 'step': 811},\n",
       "  {'loss': 6.320333480834961, 'step': 812},\n",
       "  {'loss': 6.50452995300293, 'step': 813},\n",
       "  {'loss': 6.4993977546691895, 'step': 814},\n",
       "  {'loss': 6.425696849822998, 'step': 815},\n",
       "  {'loss': 6.237799644470215, 'step': 816},\n",
       "  {'loss': 6.317088603973389, 'step': 817},\n",
       "  {'loss': 6.398521423339844, 'step': 818},\n",
       "  {'loss': 6.367226600646973, 'step': 819},\n",
       "  {'loss': 6.571157932281494, 'step': 820},\n",
       "  {'loss': 6.4137372970581055, 'step': 821},\n",
       "  {'loss': 6.615948677062988, 'step': 822},\n",
       "  {'loss': 6.592867374420166, 'step': 823},\n",
       "  {'loss': 6.712244510650635, 'step': 824},\n",
       "  {'loss': 6.329651355743408, 'step': 825},\n",
       "  {'loss': 6.498228549957275, 'step': 826},\n",
       "  {'loss': 6.3211188316345215, 'step': 827},\n",
       "  {'loss': 6.413971424102783, 'step': 828},\n",
       "  {'loss': 6.476888656616211, 'step': 829},\n",
       "  {'loss': 6.446524620056152, 'step': 830},\n",
       "  {'loss': 6.231109619140625, 'step': 831},\n",
       "  {'loss': 6.488276481628418, 'step': 832},\n",
       "  {'loss': 6.068331718444824, 'step': 833},\n",
       "  {'loss': 6.181548595428467, 'step': 834},\n",
       "  {'loss': 6.142823219299316, 'step': 835},\n",
       "  {'loss': 6.372966766357422, 'step': 836},\n",
       "  {'loss': 6.510331153869629, 'step': 837},\n",
       "  {'loss': 6.386418342590332, 'step': 838},\n",
       "  {'loss': 6.730072975158691, 'step': 839},\n",
       "  {'loss': 6.06067419052124, 'step': 840},\n",
       "  {'loss': 6.294529914855957, 'step': 841},\n",
       "  {'loss': 6.454806804656982, 'step': 842},\n",
       "  {'loss': 6.718257427215576, 'step': 843},\n",
       "  {'loss': 6.543576240539551, 'step': 844},\n",
       "  {'loss': 6.710669040679932, 'step': 845},\n",
       "  {'loss': 6.432746410369873, 'step': 846},\n",
       "  {'loss': 6.140335559844971, 'step': 847},\n",
       "  {'loss': 6.50709867477417, 'step': 848},\n",
       "  {'loss': 6.070317268371582, 'step': 849},\n",
       "  {'loss': 6.3086934089660645, 'step': 850},\n",
       "  {'loss': 6.510053634643555, 'step': 851},\n",
       "  {'loss': 6.335402965545654, 'step': 852},\n",
       "  {'loss': 6.258254528045654, 'step': 853},\n",
       "  {'loss': 6.3018479347229, 'step': 854},\n",
       "  {'loss': 6.715172290802002, 'step': 855},\n",
       "  {'loss': 6.181466579437256, 'step': 856},\n",
       "  {'loss': 6.249983787536621, 'step': 857},\n",
       "  {'loss': 6.643591403961182, 'step': 858},\n",
       "  {'loss': 6.446697235107422, 'step': 859},\n",
       "  {'loss': 6.4899582862854, 'step': 860},\n",
       "  {'loss': 6.422967433929443, 'step': 861},\n",
       "  {'loss': 6.648104667663574, 'step': 862},\n",
       "  {'loss': 6.412947654724121, 'step': 863},\n",
       "  {'loss': 6.26530647277832, 'step': 864},\n",
       "  {'loss': 6.4340620040893555, 'step': 865},\n",
       "  {'loss': 6.464141845703125, 'step': 866},\n",
       "  {'loss': 6.074393272399902, 'step': 867},\n",
       "  {'loss': 6.188655376434326, 'step': 868},\n",
       "  {'loss': 6.173683166503906, 'step': 869},\n",
       "  {'loss': 6.325428485870361, 'step': 870},\n",
       "  {'loss': 6.223242282867432, 'step': 871},\n",
       "  {'loss': 6.420673847198486, 'step': 872},\n",
       "  {'loss': 6.162032604217529, 'step': 873},\n",
       "  {'loss': 6.2989959716796875, 'step': 874},\n",
       "  {'loss': 6.387711524963379, 'step': 875},\n",
       "  {'loss': 6.266323089599609, 'step': 876},\n",
       "  {'loss': 6.181400775909424, 'step': 877},\n",
       "  {'loss': 6.265040874481201, 'step': 878},\n",
       "  {'loss': 6.004358768463135, 'step': 879},\n",
       "  {'loss': 6.099111557006836, 'step': 880},\n",
       "  {'loss': 5.975170135498047, 'step': 881},\n",
       "  {'loss': 6.031167030334473, 'step': 882},\n",
       "  {'loss': 5.926733016967773, 'step': 883},\n",
       "  {'loss': 6.153921127319336, 'step': 884},\n",
       "  {'loss': 6.002625465393066, 'step': 885},\n",
       "  {'loss': 6.368162155151367, 'step': 886},\n",
       "  {'loss': 6.543221473693848, 'step': 887},\n",
       "  {'loss': 6.403575420379639, 'step': 888},\n",
       "  {'loss': 6.268657684326172, 'step': 889},\n",
       "  {'loss': 6.223312854766846, 'step': 890},\n",
       "  {'loss': 5.9401679039001465, 'step': 891},\n",
       "  {'loss': 6.157434463500977, 'step': 892},\n",
       "  {'loss': 6.072704315185547, 'step': 893},\n",
       "  {'loss': 5.988788604736328, 'step': 894},\n",
       "  {'loss': 6.038410663604736, 'step': 895},\n",
       "  {'loss': 6.121126174926758, 'step': 896},\n",
       "  {'loss': 5.89119815826416, 'step': 897},\n",
       "  {'loss': 6.189284801483154, 'step': 898},\n",
       "  {'loss': 5.9934773445129395, 'step': 899},\n",
       "  {'loss': 6.536890506744385, 'step': 900},\n",
       "  {'loss': 6.453759670257568, 'step': 901},\n",
       "  {'loss': 6.3925065994262695, 'step': 902},\n",
       "  {'loss': 6.486241340637207, 'step': 903},\n",
       "  {'loss': 5.99643087387085, 'step': 904},\n",
       "  {'loss': 6.23991060256958, 'step': 905},\n",
       "  {'loss': 5.993942737579346, 'step': 906},\n",
       "  {'loss': 6.127782344818115, 'step': 907},\n",
       "  {'loss': 6.018176555633545, 'step': 908},\n",
       "  {'loss': 5.9583234786987305, 'step': 909},\n",
       "  {'loss': 6.480339050292969, 'step': 910},\n",
       "  {'loss': 6.200915813446045, 'step': 911},\n",
       "  {'loss': 6.4540276527404785, 'step': 912},\n",
       "  {'loss': 6.240301609039307, 'step': 913},\n",
       "  {'loss': 6.222168445587158, 'step': 914},\n",
       "  {'loss': 6.574581623077393, 'step': 915},\n",
       "  {'loss': 6.17443323135376, 'step': 916},\n",
       "  {'loss': 6.156716346740723, 'step': 917},\n",
       "  {'loss': 5.744748592376709, 'step': 918},\n",
       "  {'loss': 5.910060882568359, 'step': 919},\n",
       "  {'loss': 6.053949356079102, 'step': 920},\n",
       "  {'loss': 6.053554058074951, 'step': 921},\n",
       "  {'loss': 6.301692962646484, 'step': 922},\n",
       "  {'loss': 6.260303020477295, 'step': 923},\n",
       "  {'loss': 6.039859771728516, 'step': 924},\n",
       "  {'loss': 5.997189044952393, 'step': 925},\n",
       "  {'loss': 5.969935417175293, 'step': 926},\n",
       "  {'loss': 6.251958847045898, 'step': 927},\n",
       "  {'loss': 6.0605621337890625, 'step': 928},\n",
       "  {'loss': 6.197513103485107, 'step': 929},\n",
       "  {'loss': 6.282291889190674, 'step': 930},\n",
       "  {'loss': 6.2968058586120605, 'step': 931},\n",
       "  {'loss': 6.2258524894714355, 'step': 932},\n",
       "  {'loss': 5.878642559051514, 'step': 933},\n",
       "  {'loss': 6.060837745666504, 'step': 934},\n",
       "  {'loss': 6.372837543487549, 'step': 935},\n",
       "  {'loss': 5.886678695678711, 'step': 936},\n",
       "  {'loss': 6.036623001098633, 'step': 937},\n",
       "  {'loss': 5.931624889373779, 'step': 938},\n",
       "  {'loss': 6.299050807952881, 'step': 939},\n",
       "  {'loss': 5.811100959777832, 'step': 940},\n",
       "  {'loss': 6.127668380737305, 'step': 941},\n",
       "  {'loss': 5.863623142242432, 'step': 942},\n",
       "  {'loss': 6.248945236206055, 'step': 943},\n",
       "  {'loss': 6.2510151863098145, 'step': 944},\n",
       "  {'loss': 6.13492488861084, 'step': 945},\n",
       "  {'loss': 5.845643997192383, 'step': 946},\n",
       "  {'loss': 6.0733442306518555, 'step': 947},\n",
       "  {'loss': 6.448824882507324, 'step': 948},\n",
       "  {'loss': 6.073590278625488, 'step': 949},\n",
       "  {'loss': 6.160523414611816, 'step': 950},\n",
       "  {'loss': 6.112412929534912, 'step': 951},\n",
       "  {'loss': 6.627734661102295, 'step': 952},\n",
       "  {'loss': 6.00933313369751, 'step': 953},\n",
       "  {'loss': 6.225615501403809, 'step': 954},\n",
       "  {'loss': 6.254170894622803, 'step': 955},\n",
       "  {'loss': 6.188377857208252, 'step': 956},\n",
       "  {'loss': 5.873444080352783, 'step': 957},\n",
       "  {'loss': 6.342796325683594, 'step': 958},\n",
       "  {'loss': 6.231200218200684, 'step': 959},\n",
       "  {'loss': 5.961642742156982, 'step': 960},\n",
       "  {'loss': 6.166463375091553, 'step': 961},\n",
       "  {'loss': 5.966644287109375, 'step': 962},\n",
       "  {'loss': 6.067046642303467, 'step': 963},\n",
       "  {'loss': 6.260916233062744, 'step': 964},\n",
       "  {'loss': 5.868622779846191, 'step': 965},\n",
       "  {'loss': 5.9518656730651855, 'step': 966},\n",
       "  {'loss': 6.413278102874756, 'step': 967},\n",
       "  {'loss': 6.250774383544922, 'step': 968},\n",
       "  {'loss': 6.104240894317627, 'step': 969},\n",
       "  {'loss': 6.07393741607666, 'step': 970},\n",
       "  {'loss': 6.039888858795166, 'step': 971},\n",
       "  {'loss': 5.831710338592529, 'step': 972},\n",
       "  {'loss': 6.451788425445557, 'step': 973},\n",
       "  {'loss': 5.847139358520508, 'step': 974},\n",
       "  {'loss': 5.9387593269348145, 'step': 975},\n",
       "  {'loss': 5.884951591491699, 'step': 976},\n",
       "  {'loss': 6.112174987792969, 'step': 977},\n",
       "  {'loss': 5.9319891929626465, 'step': 978},\n",
       "  {'loss': 6.318567276000977, 'step': 979},\n",
       "  {'loss': 5.825744152069092, 'step': 980},\n",
       "  {'loss': 6.101171016693115, 'step': 981},\n",
       "  {'loss': 6.1910719871521, 'step': 982},\n",
       "  {'loss': 6.300240993499756, 'step': 983},\n",
       "  {'loss': 5.777811050415039, 'step': 984},\n",
       "  {'loss': 5.794876575469971, 'step': 985},\n",
       "  {'loss': 6.387032508850098, 'step': 986},\n",
       "  {'loss': 5.822834491729736, 'step': 987},\n",
       "  {'loss': 5.87846040725708, 'step': 988},\n",
       "  {'loss': 6.4643707275390625, 'step': 989},\n",
       "  {'loss': 5.922299385070801, 'step': 990},\n",
       "  {'loss': 5.768665790557861, 'step': 991},\n",
       "  {'loss': 5.774280071258545, 'step': 992},\n",
       "  {'loss': 5.809025764465332, 'step': 993},\n",
       "  {'loss': 5.919500827789307, 'step': 994},\n",
       "  {'loss': 5.801454067230225, 'step': 995},\n",
       "  {'loss': 5.869457244873047, 'step': 996},\n",
       "  {'loss': 6.347289085388184, 'step': 997},\n",
       "  {'loss': 5.898894309997559, 'step': 998},\n",
       "  {'loss': 6.120122909545898, 'step': 999},\n",
       "  {'loss': 6.104327201843262, 'step': 1000},\n",
       "  ...],\n",
       " 'val': [{'loss': np.float64(8.783779991997612), 'step': 250},\n",
       "  {'loss': np.float64(7.803324831856622), 'step': 500},\n",
       "  {'loss': np.float64(6.681870619455974), 'step': 750},\n",
       "  {'loss': np.float64(6.0480785899692115), 'step': 1000},\n",
       "  {'loss': np.float64(5.732951853010389), 'step': 1250},\n",
       "  {'loss': np.float64(5.61478755209181), 'step': 1500},\n",
       "  {'loss': np.float64(5.4025717576344805), 'step': 1750},\n",
       "  {'loss': np.float64(5.175962607065837), 'step': 2000},\n",
       "  {'loss': np.float64(5.017962164349026), 'step': 2250},\n",
       "  {'loss': np.float64(4.890425602595012), 'step': 2500},\n",
       "  {'loss': np.float64(4.756354226006402), 'step': 2750},\n",
       "  {'loss': np.float64(4.685232321421306), 'step': 3000},\n",
       "  {'loss': np.float64(4.581953816943699), 'step': 3250},\n",
       "  {'loss': np.float64(4.461138778262669), 'step': 3500},\n",
       "  {'loss': np.float64(4.391180700725979), 'step': 3750},\n",
       "  {'loss': np.float64(4.316124333275689), 'step': 4000},\n",
       "  {'loss': np.float64(4.243810865614149), 'step': 4250},\n",
       "  {'loss': np.float64(4.168547471364339), 'step': 4500},\n",
       "  {'loss': np.float64(4.17272334628635), 'step': 4750},\n",
       "  {'loss': np.float64(4.078438348240322), 'step': 5000},\n",
       "  {'loss': np.float64(4.011521286434597), 'step': 5250},\n",
       "  {'loss': np.float64(4.007666058010525), 'step': 5500},\n",
       "  {'loss': np.float64(3.926269213358561), 'step': 5750},\n",
       "  {'loss': np.float64(3.927572978867425), 'step': 6000},\n",
       "  {'loss': np.float64(3.85636666085985), 'step': 6250},\n",
       "  {'loss': np.float64(3.8105834987428455), 'step': 6500},\n",
       "  {'loss': np.float64(3.7704415718714395), 'step': 6750},\n",
       "  {'loss': np.float64(3.765108002556695), 'step': 7000},\n",
       "  {'loss': np.float64(3.7241218752331204), 'step': 7250},\n",
       "  {'loss': np.float64(3.7608007987340293), 'step': 7500},\n",
       "  {'loss': np.float64(3.6871865590413413), 'step': 7750},\n",
       "  {'loss': np.float64(3.659960879219903), 'step': 8000},\n",
       "  {'loss': np.float64(3.631349311934577), 'step': 8250},\n",
       "  {'loss': np.float64(3.649755252732171), 'step': 8500},\n",
       "  {'loss': np.float64(3.6063869529300265), 'step': 8750},\n",
       "  {'loss': np.float64(3.591354184680515), 'step': 9000},\n",
       "  {'loss': np.float64(3.582517902056376), 'step': 9250},\n",
       "  {'loss': np.float64(3.5992819203270807), 'step': 9500},\n",
       "  {'loss': np.float64(3.545520623524984), 'step': 9750},\n",
       "  {'loss': np.float64(3.5694921016693115), 'step': 10000},\n",
       "  {'loss': np.float64(3.5405439270867243), 'step': 10250},\n",
       "  {'loss': np.float64(3.586784746911791), 'step': 10500},\n",
       "  {'loss': np.float64(3.5511299636628895), 'step': 10750},\n",
       "  {'loss': np.float64(3.5295998785230847), 'step': 11000},\n",
       "  {'loss': np.float64(3.5217208994759455), 'step': 11250},\n",
       "  {'loss': np.float64(3.539326482348972), 'step': 11500},\n",
       "  {'loss': np.float64(3.5207031038072376), 'step': 11750},\n",
       "  {'loss': np.float64(3.495848059654236), 'step': 12000},\n",
       "  {'loss': np.float64(3.4736558463838367), 'step': 12250},\n",
       "  {'loss': np.float64(3.4978795448939004), 'step': 12500},\n",
       "  {'loss': np.float64(3.483185794618395), 'step': 12750},\n",
       "  {'loss': np.float64(3.4973618586858115), 'step': 13000},\n",
       "  {'loss': np.float64(3.4700982835557728), 'step': 13250},\n",
       "  {'loss': np.float64(3.4565800428390503), 'step': 13500},\n",
       "  {'loss': np.float64(3.4554374615351358), 'step': 13750},\n",
       "  {'loss': np.float64(3.454951935344272), 'step': 14000},\n",
       "  {'loss': np.float64(3.4473003678851657), 'step': 14250},\n",
       "  {'loss': np.float64(3.4459641377131143), 'step': 14500},\n",
       "  {'loss': np.float64(3.4624520540237427), 'step': 14750},\n",
       "  {'loss': np.float64(3.4330598380830555), 'step': 15000},\n",
       "  {'loss': np.float64(3.453432652685377), 'step': 15250},\n",
       "  {'loss': np.float64(3.4526713689168296), 'step': 15500},\n",
       "  {'loss': np.float64(3.4409415324529014), 'step': 15750},\n",
       "  {'loss': np.float64(3.4555993212593927), 'step': 16000},\n",
       "  {'loss': np.float64(3.457920538054572), 'step': 16250},\n",
       "  {'loss': np.float64(3.4484403795666165), 'step': 16500},\n",
       "  {'loss': np.float64(3.453820334540473), 'step': 16750},\n",
       "  {'loss': np.float64(3.4521420266893177), 'step': 17000},\n",
       "  {'loss': np.float64(3.47804594039917), 'step': 17250},\n",
       "  {'loss': np.float64(3.4649501509136624), 'step': 17500}]}"
      ]
     },
     "execution_count": 387,
     "metadata": {},
     "output_type": "execute_result"
    }
   ],
   "source": [
    "record"
   ]
  },
  {
   "cell_type": "markdown",
   "metadata": {
    "id": "rTjbeFlIN4yZ"
   },
   "source": [
    "## 推理\n",
    "\n",
    "- 翻译项目的评估指标一般是BLEU4，感兴趣的同学自行了解并实现\n",
    "- 接下来进行翻译推理，并作出注意力的热度图"
   ]
  },
  {
   "cell_type": "code",
   "execution_count": 388,
   "metadata": {
    "ExecutionIndicator": {
     "show": true
    },
    "colab": {
     "base_uri": "https://localhost:8080/"
    },
    "execution": {
     "iopub.execute_input": "2025-02-07T02:03:41.720740Z",
     "iopub.status.busy": "2025-02-07T02:03:41.720413Z",
     "iopub.status.idle": "2025-02-07T02:03:50.822395Z",
     "shell.execute_reply": "2025-02-07T02:03:50.821742Z",
     "shell.execute_reply.started": "2025-02-07T02:03:41.720715Z"
    },
    "id": "WxsjkyQgN4yZ",
    "outputId": "5ce160c2-ce7e-4bc3-d2b6-a332c7fcf6a1",
    "tags": []
   },
   "outputs": [],
   "source": [
    "# !pip install Cython  # if failed to install fastBPE, try this line\n",
    "# !pip install fastBPE #分词使用\n",
    "# # 在 Windows 系统上并没有 sys/mman.h 文件"
   ]
  },
  {
   "cell_type": "code",
   "execution_count": 389,
   "metadata": {
    "colab": {
     "base_uri": "https://localhost:8080/",
     "height": 35
    },
    "execution": {
     "iopub.execute_input": "2025-01-22T08:58:14.440256Z",
     "iopub.status.busy": "2025-01-22T08:58:14.440059Z",
     "iopub.status.idle": "2025-01-22T08:58:14.443992Z",
     "shell.execute_reply": "2025-01-22T08:58:14.443607Z",
     "shell.execute_reply.started": "2025-01-22T08:58:14.440225Z"
    },
    "id": "f6Ry1PcAn4k1",
    "outputId": "6393524e-e5c3-4f93-dd9d-f249ca52bc05"
   },
   "outputs": [
    {
     "data": {
      "text/plain": [
       "'hidden_dim512-dropout0.1-label_smooth0.1-warm5000'"
      ]
     },
     "execution_count": 389,
     "metadata": {},
     "output_type": "execute_result"
    }
   ],
   "source": [
    "exp_name"
   ]
  },
  {
   "cell_type": "code",
   "execution_count": 390,
   "metadata": {
    "ExecutionIndicator": {
     "show": true
    },
    "execution": {
     "iopub.execute_input": "2025-02-07T02:03:58.107901Z",
     "iopub.status.busy": "2025-02-07T02:03:58.107512Z",
     "iopub.status.idle": "2025-02-07T02:03:58.232712Z",
     "shell.execute_reply": "2025-02-07T02:03:58.232076Z",
     "shell.execute_reply.started": "2025-02-07T02:03:58.107875Z"
    },
    "tags": []
   },
   "outputs": [
    {
     "name": "stdout",
     "output_type": "stream",
     "text": [
      "total 281580\n",
      "-rw-r--r-- 1 root root 288336196 Mar  9 11:54 best.ckpt\n"
     ]
    }
   ],
   "source": [
    "!ls checkpoints/translate-transformer-not-share -l"
   ]
  },
  {
   "cell_type": "code",
   "execution_count": 391,
   "metadata": {
    "ExecuteTime": {
     "end_time": "2024-08-05T03:10:32.326542400Z",
     "start_time": "2024-08-05T03:10:31.006376300Z"
    },
    "ExecutionIndicator": {
     "show": true
    },
    "execution": {
     "iopub.execute_input": "2025-02-07T02:26:24.023923Z",
     "iopub.status.busy": "2025-02-07T02:26:24.023567Z",
     "iopub.status.idle": "2025-02-07T02:26:24.195951Z",
     "shell.execute_reply": "2025-02-07T02:26:24.195219Z",
     "shell.execute_reply.started": "2025-02-07T02:26:24.023899Z"
    },
    "id": "jT1Mqiq3N4yZ",
    "tags": []
   },
   "outputs": [
    {
     "name": "stderr",
     "output_type": "stream",
     "text": [
      "/tmp/ipykernel_1858/1572731030.py:3: FutureWarning: You are using `torch.load` with `weights_only=False` (the current default value), which uses the default pickle module implicitly. It is possible to construct malicious pickle data which will execute arbitrary code during unpickling (See https://github.com/pytorch/pytorch/blob/main/SECURITY.md#untrusted-models for more details). In a future release, the default value for `weights_only` will be flipped to `True`. This limits the functions that could be executed during unpickling. Arbitrary objects will no longer be allowed to be loaded via this mode unless they are explicitly allowlisted by the user via `torch.serialization.add_safe_globals`. We recommend you start setting `weights_only=True` for any use case where you don't have full control of the loaded file. Please open an issue on GitHub for any issues related to this experimental feature.\n",
      "  state_dict = torch.load(f\"checkpoints/{exp_name}/best.ckpt\", map_location=device)\n"
     ]
    }
   ],
   "source": [
    "import torch\n",
    "\n",
    "state_dict = torch.load(f\"checkpoints/{exp_name}/best.ckpt\", map_location=device)\n",
    "# state_dict = torch.load(f\"checkpoints/dropout0.1-label_smooth0.1-warm5000/best.ckpt\", map_location=device)\n",
    "\n",
    "# state_dict1 = torch.load(\"epoch125-step132426.ckpt\", map_location=\"cpu\")\n",
    "# state_dict = state_dict1[\"state_dict\"]\n",
    "\n",
    "# update keys by dropping `model`\n",
    "# for key in list(state_dict):\n",
    "#     state_dict[key.replace(\"model.\", \"\")] = state_dict.pop(key)\n"
   ]
  },
  {
   "cell_type": "code",
   "execution_count": 392,
   "metadata": {
    "ExecuteTime": {
     "end_time": "2024-08-05T03:10:46.720508800Z",
     "start_time": "2024-08-05T03:10:36.179313900Z"
    },
    "colab": {
     "base_uri": "https://localhost:8080/"
    },
    "execution": {
     "iopub.status.busy": "2025-01-22T08:58:14.581445Z",
     "iopub.status.idle": "2025-01-22T08:58:14.581630Z",
     "shell.execute_reply": "2025-01-22T08:58:14.581547Z",
     "shell.execute_reply.started": "2025-01-22T08:58:14.581539Z"
    },
    "id": "eKwIDdjgvTlO",
    "outputId": "35979ff2-a16d-4aa4-881a-8496e39e2469"
   },
   "outputs": [],
   "source": [
    "# !pip install nltk"
   ]
  },
  {
   "cell_type": "code",
   "execution_count": 393,
   "metadata": {
    "execution": {
     "iopub.status.busy": "2025-01-22T08:58:14.582226Z",
     "iopub.status.idle": "2025-01-22T08:58:14.582510Z",
     "shell.execute_reply": "2025-01-22T08:58:14.582426Z",
     "shell.execute_reply.started": "2025-01-22T08:58:14.582417Z"
    },
    "id": "WVksjIhL_pt9"
   },
   "outputs": [],
   "source": [
    "# !rm -r wmt16/.cache"
   ]
  },
  {
   "cell_type": "code",
   "execution_count": 394,
   "metadata": {
    "colab": {
     "base_uri": "https://localhost:8080/"
    },
    "execution": {
     "iopub.status.busy": "2025-01-22T08:58:14.583127Z",
     "iopub.status.idle": "2025-01-22T08:58:14.583307Z",
     "shell.execute_reply": "2025-01-22T08:58:14.583221Z",
     "shell.execute_reply.started": "2025-01-22T08:58:14.583213Z"
    },
    "id": "2MY69-6WWSjp",
    "outputId": "911d9066-7917-4917-b5cc-d679a1c63865"
   },
   "outputs": [],
   "source": [
    "# tokenizer.decode([[   5,   16,    6,   23,  150,   80, 8248,   35,  232,    4,    3]])"
   ]
  },
  {
   "cell_type": "code",
   "execution_count": 395,
   "metadata": {
    "colab": {
     "base_uri": "https://localhost:8080/",
     "height": 101,
     "referenced_widgets": [
      "c9db4cd83b7b4f53a0fa93b8c365debd",
      "a972aba7913b48c6973ae27bff5b9d1d",
      "22aa774ab39e4fd78b0ff08d430d2b5d",
      "9a01f02fb99b4b81ac487d23bc5daf4a",
      "19f846338f6b48c9930b58575641e5b8",
      "7d293204dc1b4d97bb5ee670787c7b7d",
      "ea8fa440f320435aa75c9bef75bc3f08",
      "4e64bcb87e584beda0408a0aa5a659ae",
      "b077d7562d814df5b6d839464dd4122f",
      "5a28babf4e2e4393bdc1a093034885ab",
      "be07d518c21149d196c610fd57b1eaec"
     ]
    },
    "execution": {
     "iopub.execute_input": "2025-02-07T02:45:30.305427Z",
     "iopub.status.busy": "2025-02-07T02:45:30.305070Z",
     "iopub.status.idle": "2025-02-07T02:45:41.959985Z",
     "shell.execute_reply": "2025-02-07T02:45:41.959493Z",
     "shell.execute_reply.started": "2025-02-07T02:45:30.305398Z"
    },
    "id": "5QgodlOJfgKj",
    "outputId": "2907bad2-7cb1-4295-c8b0-77ac0dabf398",
    "tags": []
   },
   "outputs": [
    {
     "name": "stdout",
     "output_type": "stream",
     "text": [
      "load test dataset from wmt16/.cache/de2en_test_128.npy\n"
     ]
    },
    {
     "data": {
      "application/vnd.jupyter.widget-view+json": {
       "model_id": "1c705e2a4eae42eebb37c7ac79b65218",
       "version_major": 2,
       "version_minor": 0
      },
      "text/plain": [
       "0it [00:00, ?it/s]"
      ]
     },
     "metadata": {},
     "output_type": "display_data"
    },
    {
     "name": "stderr",
     "output_type": "stream",
     "text": [
      "/root/miniconda3/lib/python3.12/site-packages/nltk/translate/bleu_score.py:577: UserWarning: \n",
      "The hypothesis contains 0 counts of 4-gram overlaps.\n",
      "Therefore the BLEU score evaluates to 0, independently of\n",
      "how many N-gram overlaps of lower order it contains.\n",
      "Consider using lower n-gram order or use SmoothingFunction()\n",
      "  warnings.warn(_msg)\n",
      "/root/miniconda3/lib/python3.12/site-packages/nltk/translate/bleu_score.py:577: UserWarning: \n",
      "The hypothesis contains 0 counts of 2-gram overlaps.\n",
      "Therefore the BLEU score evaluates to 0, independently of\n",
      "how many N-gram overlaps of lower order it contains.\n",
      "Consider using lower n-gram order or use SmoothingFunction()\n",
      "  warnings.warn(_msg)\n",
      "/root/miniconda3/lib/python3.12/site-packages/nltk/translate/bleu_score.py:577: UserWarning: \n",
      "The hypothesis contains 0 counts of 3-gram overlaps.\n",
      "Therefore the BLEU score evaluates to 0, independently of\n",
      "how many N-gram overlaps of lower order it contains.\n",
      "Consider using lower n-gram order or use SmoothingFunction()\n",
      "  warnings.warn(_msg)\n"
     ]
    },
    {
     "name": "stdout",
     "output_type": "stream",
     "text": [
      "testing loss: 3.267088212581895\n"
     ]
    },
    {
     "data": {
      "text/plain": [
       "0.5998790058017991"
      ]
     },
     "execution_count": 395,
     "metadata": {},
     "output_type": "execute_result"
    }
   ],
   "source": [
    "from nltk.translate.bleu_score import sentence_bleu\n",
    "# load checkpoints\n",
    "model = TransformerModel(config)\n",
    "model.load_state_dict(state_dict)\n",
    "\n",
    "loss_fct = CrossEntropyWithPadding(config)\n",
    "# from dataset import LangPairDataset\n",
    "test_ds = LangPairDataset(\"test\", max_length=128, data_dir=\"./wmt16\")\n",
    "test_dl = DataLoader(test_ds, batch_size=1, collate_fn=partial(collate_fct, tokenizer=tokenizer))\n",
    "\n",
    "model = model.to(device)\n",
    "model.eval()\n",
    "collect = {}\n",
    "loss_collect = []\n",
    "\n",
    "predictions = []\n",
    "answers = []\n",
    "# 初始化BLEU分数列表\n",
    "bleu_scores = []\n",
    "for idx, batch in tqdm(enumerate(test_dl)):\n",
    "    encoder_inputs = batch[\"encoder_inputs\"]\n",
    "    encoder_inputs_mask = batch[\"encoder_inputs_mask\"]\n",
    "    decoder_inputs = batch[\"decoder_inputs\"]\n",
    "    decoder_labels = batch[\"decoder_labels\"]\n",
    "    # print(decoder_labels.cpu())\n",
    "    # decoder_labels1=tokenizer.decode(decoder_labels.cpu().numpy())\n",
    "    # print(decoder_labels1)\n",
    "    # 前向计算\n",
    "    outputs = model(\n",
    "        encoder_inputs=encoder_inputs,\n",
    "        decoder_inputs=decoder_inputs,\n",
    "        encoder_inputs_mask=encoder_inputs_mask\n",
    "        )\n",
    "    loss = loss_fct(outputs.logits, decoder_labels)         # 验证集损失\n",
    "\n",
    "    # print(outputs.logits.shape, decoder_labels.shape)\n",
    "\n",
    "    # loss = loss_fct(outputs.logits[:, :decoder_labels.shape[1]], decoder_labels)         # 验证集损失\n",
    "    # outputs = model.infer(encoder_inputs=encoder_inputs)\n",
    "    # print(outputs.logits.shape)\n",
    "    preds = outputs.logits.argmax(dim=-1) # 预测结果，[1,seq_len]\n",
    "    # print(preds.shape)\n",
    "    #把preds转为英文单词\n",
    "    preds = tokenizer.decode(preds.cpu().numpy()) #['预测句子']\n",
    "    # predictions.append(preds)\n",
    "    # print(preds)\n",
    "    #把decoder_labels转为英文单词\n",
    "    decoder_labels = tokenizer.decode(decoder_labels.cpu().numpy()) #['标签句子']\n",
    "    # answers.append(decoder_labels)\n",
    "    # print(decoder_labels)\n",
    "    belu=sentence_bleu([decoder_labels[0].split()],preds[0].split(),weights=(1, 0, 0, 0))\n",
    "    bleu_scores.append(belu)\n",
    "    collect[idx] = {\"loss\": loss.item(), \"src_inputs\": encoder_inputs, \"trg_inputs\": decoder_inputs, \"mask\": encoder_inputs_mask, \"trg_labels\": decoder_labels, \"preds\": preds}\n",
    "    loss_collect.append(loss.item())\n",
    "    # break\n",
    "\n",
    "# sort collect by value\n",
    "collect = sorted(collect.items(), key=lambda x: x[1][\"loss\"])\n",
    "print(f\"testing loss: {np.array(loss_collect).mean()}\")\n",
    "sum(bleu_scores) / len(bleu_scores)"
   ]
  },
  {
   "cell_type": "code",
   "execution_count": 396,
   "metadata": {
    "ExecuteTime": {
     "end_time": "2024-05-06T13:16:14.099749Z",
     "start_time": "2024-05-06T13:16:13.991811900Z"
    },
    "ExecutionIndicator": {
     "show": true
    },
    "colab": {
     "base_uri": "https://localhost:8080/",
     "height": 535,
     "referenced_widgets": [
      "40f7e3754ad44b33acfe0a80b3648a3a",
      "b1e51beac50f4947a9dd235d8aa87603",
      "8cd9e9702e114ebc856f56975544ede8",
      "b7c7a718a8654956947108969557ca83",
      "20a27d1ec76f4d85b1ffe99401fbb5b7",
      "e0ddf3970b3e4248bc87d4649fa9c448",
      "d7bdde54e2534c49a207540bd258d3ae",
      "22484000400842f0b6e245dc610acbba",
      "a66a5b4ff37d4dafa4ba3081aa1359f4",
      "0b7866c29e5f4afe9b92de15f1b88c3e",
      "333e84a304184c57af1821620ae80f6a"
     ]
    },
    "execution": {
     "iopub.execute_input": "2025-02-07T02:43:16.322887Z",
     "iopub.status.busy": "2025-02-07T02:43:16.322365Z",
     "iopub.status.idle": "2025-02-07T02:43:18.513140Z",
     "shell.execute_reply": "2025-02-07T02:43:18.512590Z",
     "shell.execute_reply.started": "2025-02-07T02:43:16.322862Z"
    },
    "id": "KGSym4CbN4ya",
    "outputId": "f5e9c4c2-c92e-44e6-c83a-5cb720305428",
    "tags": []
   },
   "outputs": [
    {
     "name": "stderr",
     "output_type": "stream",
     "text": [
      "Loading vocabulary from ./wmt16/vocab ...\n",
      "Read 2286777 words (18107 unique) from vocabulary file.\n",
      "Loading codes from ./wmt16/bpe.20000 ...\n",
      "Read 20001 codes from the codes file.\n"
     ]
    },
    {
     "data": {
      "application/vnd.jupyter.widget-view+json": {
       "model_id": "862eed690ded4dd4b06e75cec210eac7",
       "version_major": 2,
       "version_minor": 0
      },
      "text/plain": [
       "  0%|          | 0/128 [00:00<?, ?it/s]"
      ]
     },
     "metadata": {},
     "output_type": "display_data"
    },
    {
     "name": "stderr",
     "output_type": "stream",
     "text": [
      "/root/miniconda3/lib/python3.12/site-packages/IPython/core/pylabtools.py:170: UserWarning: There are no gridspecs with layoutgrids. Possibly did not call parent GridSpec with the \"figure\" keyword\n",
      "  fig.canvas.print_figure(bytes_io, **kw)\n"
     ]
    },
    {
     "data": {
      "image/png": "[encoded data removed]",
      "text/plain": [
       "<Figure size 1000x500 with 2 Axes>"
      ]
     },
     "metadata": {},
     "output_type": "display_data"
    },
    {
     "name": "stderr",
     "output_type": "stream",
     "text": [
      "/root/miniconda3/lib/python3.12/site-packages/IPython/core/pylabtools.py:170: UserWarning: There are no gridspecs with layoutgrids. Possibly did not call parent GridSpec with the \"figure\" keyword\n",
      "  fig.canvas.print_figure(bytes_io, **kw)\n"
     ]
    },
    {
     "data": {
      "image/png": "[encoded data removed]",
      "text/plain": [
       "<Figure size 1000x500 with 2 Axes>"
      ]
     },
     "metadata": {},
     "output_type": "display_data"
    },
    {
     "name": "stderr",
     "output_type": "stream",
     "text": [
      "/root/miniconda3/lib/python3.12/site-packages/IPython/core/pylabtools.py:170: UserWarning: There are no gridspecs with layoutgrids. Possibly did not call parent GridSpec with the \"figure\" keyword\n",
      "  fig.canvas.print_figure(bytes_io, **kw)\n"
     ]
    },
    {
     "data": {
      "image/png": "[encoded data removed]",
      "text/plain": [
       "<Figure size 1000x500 with 2 Axes>"
      ]
     },
     "metadata": {},
     "output_type": "display_data"
    },
    {
     "name": "stderr",
     "output_type": "stream",
     "text": [
      "/root/miniconda3/lib/python3.12/site-packages/IPython/core/pylabtools.py:170: UserWarning: There are no gridspecs with layoutgrids. Possibly did not call parent GridSpec with the \"figure\" keyword\n",
      "  fig.canvas.print_figure(bytes_io, **kw)\n"
     ]
    },
    {
     "data": {
      "image/png": "[encoded data removed]",
      "text/plain": [
       "<Figure size 1000x500 with 2 Axes>"
      ]
     },
     "metadata": {},
     "output_type": "display_data"
    },
    {
     "data": {
      "text/plain": [
       "['man in white shirt on a small boat in a river surrounded by beautiful water.',\n",
       " 'a man with a backpack and a girl with a backpack on the beach.',\n",
       " 'three men on horses are in a race race while the third speed sets.',\n",
       " 'a man and woman are preparing a meal in the distance.']"
      ]
     },
     "execution_count": 396,
     "metadata": {},
     "output_type": "execute_result"
    }
   ],
   "source": [
    "import re\n",
    "from fastBPE import fastBPE\n",
    "from sacremoses import MosesDetokenizer, MosesTokenizer\n",
    "\n",
    "# `MosesTokenizer` 和 `MosesDetokenizer` 是来自 `sacremoses` 库的工具，用于自然语言处理中的分词（Tokenization）和去标记化（Detokenization）。这些工具主要用于对文本进行预处理和后处理，通常在处理自然语言处理任务时会用到。\n",
    "#\n",
    "# ### MosesTokenizer：\n",
    "# - **作用**：将原始文本分割成单词和标点符号。\n",
    "# - **特点**：基于 Moses 翻译工具中使用的分词方法。\n",
    "# - **功能**：\n",
    "#   - 将句子分割成单词和标点符号。\n",
    "#   - 处理缩写、连字符、标点等特殊情况。\n",
    "#   - 对文本进行标记化，方便后续处理。\n",
    "#\n",
    "# ### MosesDetokenizer：\n",
    "# - **作用**：将分词后的文本重新组合成原始的句子。\n",
    "# - **特点**：用于对分词后的文本进行还原，使其恢复为可读的句子形式。\n",
    "# - **功能**：\n",
    "#   - 将分词后的单词和标点符号重新组合成句子。\n",
    "#   - 处理分词后的标点、缩写等情况，使得结果更加自然和可读。\n",
    "#\n",
    "# 这些工具通常在文本预处理和后处理过程中使用，对输入的文本进行标记化和去标记化，是一种常用的处理方式。在自然语言处理任务中，对文本进行正确的分词和还原是很重要的，而 `MosesTokenizer` 和 `MosesDetokenizer` 提供了方便、高效的工具来处理这些任务。\n",
    "\n",
    "class Translator:\n",
    "    def __init__(self, model, src_tokenizer, trg_tokenizer):\n",
    "        self.bpe = fastBPE(\"./wmt16/bpe.20000\", \"./wmt16/vocab\")\n",
    "        self.mose_tokenizer = MosesTokenizer(lang=\"de\")\n",
    "        self.mose_detokenizer = MosesDetokenizer(lang=\"en\")\n",
    "        self.model = model\n",
    "        self.model.eval()\n",
    "        self.src_tokenizer = src_tokenizer\n",
    "        self.trg_tokenizer = trg_tokenizer\n",
    "        # $表示前面的字符出现在字符串的末尾才能匹配成功\n",
    "        self.pattern = re.compile(r'(@@ )|(@@ ?$)') # compile的作用是将正则表达式编译成Pattern对象，以便后续复用\n",
    "\n",
    "    def draw_attention_map(self, attn_scores, cross_attn_scores, src_words_list, trg_words_list):\n",
    "        \"\"\"绘制注意力热力图\n",
    "        attn_scores (numpy.ndarray): 表示自注意力机制（self-attention）分数。\n",
    "        cross_attn_scores (numpy.ndarray): 表示交叉注意力机制的注意力分数。\n",
    "        src_words_list (list): 源语言句子的单词列表。\n",
    "        trg_words_list (list): 目标语言句子的单词列表。\n",
    "        \"\"\"\n",
    "        assert len(attn_scores.shape) == 3, \"attn_scores shape should be \" \\\n",
    "            f\"[num heads, target sequence length, target sequence length], but got {attn_scores.shape}\"\n",
    "        attn_scores = attn_scores[:, :len(trg_words_list), :len(trg_words_list)]\n",
    "\n",
    "        assert len(cross_attn_scores.shape) == 3, \"attn_scores shape should be \" \\\n",
    "            f\"[num heads, target sequence length, source sequence length], but got {cross_attn_scores.shape}\"\n",
    "        cross_attn_scores = cross_attn_scores[:, :len(trg_words_list), :len(src_words_list)]\n",
    "\n",
    "        num_heads, trg_len, src_len = cross_attn_scores.shape\n",
    "\n",
    "        fig = plt.figure(figsize=(10, 5), constrained_layout=True) # constrained_layout=True 自动调整子图参数，使之填充整个图像区域\n",
    "        grid = plt.GridSpec(trg_len, trg_len + src_len, wspace=0.1, hspace=0.1)# wspace,hspace 控制子图之间的间距\n",
    "        #下面是attn_scores的热力图\n",
    "        self_map = fig.add_subplot(grid[:,:trg_len]) #  添加子图\n",
    "        self_map.matshow(attn_scores.mean(dim=0), cmap='viridis') # 绘制热力图，cmap表示颜色,dim=0表示对第0维求均值\n",
    "        self_map.set_yticks(range(trg_len), trg_words_list, fontsize=10)\n",
    "        self_map.set_xticks(range(trg_len), [\"[BOS]\"] + trg_words_list[:-1], rotation=90)\n",
    "        #下面是cross_attn_scores的热力图\n",
    "        cross_map = fig.add_subplot(grid[:, trg_len:])\n",
    "        cross_map.matshow(cross_attn_scores.mean(dim=0), cmap='viridis')\n",
    "        cross_map.set_yticks(range(trg_len), [], fontsize=6)\n",
    "        cross_map.set_xticks(range(src_len), src_words_list, rotation=90)\n",
    "\n",
    "        plt.show()\n",
    "\n",
    "    def draw_attention_maps(self, attn_scores, cross_attn_scores, src_words_list, trg_words_list, heads_list):\n",
    "        \"\"\"绘制注意力热力图\n",
    "\n",
    "        Args:\n",
    "            - scores (numpy.ndarray): shape = [source sequence length, target sequence length]\n",
    "        \"\"\"\n",
    "        assert len(attn_scores.shape) == 3, \"attn_scores shape should be \" \\\n",
    "            f\"[num heads, target sequence length, target sequence length], but got {attn_scores.shape}\"\n",
    "        attn_scores = attn_scores[:, :len(trg_words_list), :len(trg_words_list)]\n",
    "\n",
    "        assert len(cross_attn_scores.shape) == 3, \"attn_scores shape should be \" \\\n",
    "            f\"[num heads, target sequence length, source sequence length], but got {cross_attn_scores.shape}\"\n",
    "        cross_attn_scores = cross_attn_scores[:, :len(trg_words_list), :len(src_words_list)]\n",
    "        # cross_attn_scores = cross_attn_scores[:, :len(src_words_list), :len(src_words_list)]\n",
    "\n",
    "        num_heads, trg_len, src_len = cross_attn_scores.shape\n",
    "        fig, axes = plt.subplots(2, len(heads_list), figsize=(5 * len(heads_list), 10))\n",
    "        for i, heads_idx in enumerate(heads_list):\n",
    "            axes[0, i].matshow(attn_scores[heads_idx], cmap='viridis')\n",
    "            axes[0, i].set_yticks(range(trg_len), trg_words_list)\n",
    "            axes[0, i].set_xticks(range(trg_len), [\"[BOS]\"] + trg_words_list[:-1], rotation=90)\n",
    "            axes[0, i].set_title(f\"head {heads_idx}\")\n",
    "            axes[1, i].matshow(cross_attn_scores[heads_idx], cmap='viridis')\n",
    "            axes[1, i].set_yticks(range(trg_len), trg_words_list)\n",
    "            axes[1, i].set_xticks(range(src_len), src_words_list, rotation=90)\n",
    "            axes[1, i].set_title(f\"head {heads_idx}\")\n",
    "\n",
    "        plt.show()\n",
    "\n",
    "\n",
    "    def __call__(self, sentence_list, heads_list=None, layer_idx=-1):\n",
    "        # 将输入句子列表转换为小写，并使用 MosesTokenizer 进行分词处理。\n",
    "        sentence_list = [\" \".join(self.mose_tokenizer.tokenize(s.lower())) for s in sentence_list]\n",
    "        # 将分词后的结果进行 BPE 编码，得到 tokens_list。\n",
    "        tokens_list = [s.split() for s in self.bpe.apply(sentence_list)]\n",
    "        # 使用 src_tokenizer 对 tokens_list 进行编码，同时添加起始标记 ([BOS]) 和结束标记 ([EOS])。\n",
    "        encoder_input, attn_mask = self.src_tokenizer.encode(\n",
    "            tokens_list,\n",
    "            add_bos=True,\n",
    "            add_eos=True,\n",
    "            return_mask=True,\n",
    "            )\n",
    "        encoder_input = torch.Tensor(encoder_input).to(dtype=torch.int64)\n",
    "        # 使用模型的 infer 方法对编码器输入进行推理，得到输出结果 outputs\n",
    "        outputs = model.infer(encoder_inputs=encoder_input, encoder_inputs_mask=attn_mask)\n",
    "\n",
    "        preds = outputs.preds.numpy()\n",
    "        # 使用目标语言的 trg_tokenizer 对预测序列进行解码，得到解码后的目标语言句子列表 trg_decoded。\n",
    "        trg_decoded = self.trg_tokenizer.decode(preds, split=True, remove_eos=False, remove_bos=False, remove_pad=False)\n",
    "        # 使用源语言的 src_tokenizer 对编码器输入进行解码，得到解码后的源语言句子列表 src_decoded。为下面绘制热力图做准备。\n",
    "        src_decoded = self.src_tokenizer.decode(\n",
    "            encoder_input.numpy(),\n",
    "            split=True,\n",
    "            remove_bos=False,\n",
    "            remove_eos=False\n",
    "            )\n",
    "\n",
    "        # post processed attn scores\n",
    "        # outputs.decoder_attentions[-1]  # the last layer of self-attention scores\n",
    "\n",
    "        # draw the attention map of the last decoder block\n",
    "        for attn_score, cross_attn_score, src, trg in zip(\n",
    "            outputs.decoder_self_attn_scores[layer_idx], outputs.decoder_cross_attn_scores[layer_idx], src_decoded, trg_decoded):\n",
    "            if heads_list is None:# 如果没有指定heads_list，就画单个热力图\n",
    "                self.draw_attention_map(\n",
    "                    attn_score,\n",
    "                    cross_attn_score,\n",
    "                    src,\n",
    "                    trg,\n",
    "                )\n",
    "            else:# 如果指定了heads_list，就画多个热力图\n",
    "                self.draw_attention_maps(\n",
    "                    attn_score,\n",
    "                    cross_attn_score,\n",
    "                    src,\n",
    "                    trg,\n",
    "                    heads_list=heads_list,\n",
    "                    )\n",
    "        \n",
    "        #将解码后的目标语言句子列表返回，并使用 mose_detokenizer 进行去标记化，最终得到翻译后的结果。\n",
    "        return [self.mose_detokenizer.tokenize(self.pattern.sub(\"\", s).split()) for s in self.trg_tokenizer.decode(preds)] \n",
    "\n",
    "\n",
    "# sentence_list = [\n",
    "#     \"Mann in einem kleinen weißen Boot auf einem See.\",  # Man in a small white boat on a lake.\n",
    "#     \"Ein Mann mit einem Eimer und ein Mädchen mit einem Hut am Strand.\", # A man with a bucket and a girl in a hat on the beach.\n",
    "#     \"Drei Männer auf Pferden während eines Rennens.\",  # Three men on horses during a race.\n",
    "#     \"Ein Mann und eine Frau essen zu Abend\",  # 一个男人和一个女人在吃晚餐\n",
    "# ]\n",
    "sentence_list = [\n",
    "    \"Mann in einem kleinen weißen Boot auf einem See.\",  # Man in a small white boat on a lake.\n",
    "    \"Ein Mann mit einem Eimer und ein Mädchen mit einem Hut am Strand.\", # A man with a bucket and a girl in a hat on the beach.\n",
    "    \"Drei Männer auf Pferden während eines Rennens.\",  # Three men on horses during a race.\n",
    "    \"Ein Mann und eine Frau essen zu Abend\",  # A man and a woman eating dinner\n",
    "]\n",
    "\n",
    "# load checkpoints\n",
    "model = TransformerModel(config)\n",
    "model.load_state_dict(state_dict)\n",
    "translator = Translator(model.cpu(), tokenizer, tokenizer)\n",
    "translator(\n",
    "    sentence_list,\n",
    "    layer_idx=-1,\n",
    "    # heads_list=[0, 1, 2, 3, 4, 5, 6, 7]\n",
    "    )\n"
   ]
  },
  {
   "cell_type": "code",
   "execution_count": 397,
   "metadata": {
    "colab": {
     "base_uri": "https://localhost:8080/"
    },
    "execution": {
     "iopub.status.busy": "2025-01-22T08:58:14.585829Z",
     "iopub.status.idle": "2025-01-22T08:58:14.585997Z",
     "shell.execute_reply": "2025-01-22T08:58:14.585919Z",
     "shell.execute_reply.started": "2025-01-22T08:58:14.585911Z"
    },
    "id": "e0WkUQuUe-Cy",
    "outputId": "433e3d70-4f34-4376-e4a3-1b8834e71f88"
   },
   "outputs": [],
   "source": [
    "# !ls checkpoints"
   ]
  },
  {
   "cell_type": "code",
   "execution_count": 398,
   "metadata": {
    "execution": {
     "iopub.status.busy": "2025-01-22T08:58:14.586647Z",
     "iopub.status.idle": "2025-01-22T08:58:14.586812Z",
     "shell.execute_reply": "2025-01-22T08:58:14.586739Z",
     "shell.execute_reply.started": "2025-01-22T08:58:14.586731Z"
    },
    "id": "_1ZLtdahywWf",
    "tags": []
   },
   "outputs": [],
   "source": [
    "# prompt: 把best.ckpt复制到云盘内\n",
    "\n",
    "# !cp -r checkpoints/translate-transformer-not-share/best.ckpt /content/drive/MyDrive/transformer-de-en\n"
   ]
  }
 ],
 "metadata": {
  "accelerator": "GPU",
  "colab": {
   "gpuType": "T4",
   "provenance": []
  },
  "kernelspec": {
   "display_name": "Python 3 (ipykernel)",
   "language": "python",
   "name": "python3"
  },
  "language_info": {
   "codemirror_mode": {
    "name": "ipython",
    "version": 3
   },
   "file_extension": ".py",
   "mimetype": "text/x-python",
   "name": "python",
   "nbconvert_exporter": "python",
   "pygments_lexer": "ipython3",
   "version": "3.12.3"
  },
  "vscode": {
   "interpreter": {
    "hash": "2f394aca7ca06fed1e6064aef884364492d7cdda3614a461e02e6407fc40ba69"
   }
  },
  "widgets": {
   "application/vnd.jupyter.widget-state+json": {
    "00fe6a550df547cea5b1e0d84c1a3f5f": {
     "model_module": "@jupyter-widgets/controls",
     "model_module_version": "1.5.0",
     "model_name": "FloatProgressModel",
     "state": {
      "_dom_classes": [],
      "_model_module": "@jupyter-widgets/controls",
      "_model_module_version": "1.5.0",
      "_model_name": "FloatProgressModel",
      "_view_count": null,
      "_view_module": "@jupyter-widgets/controls",
      "_view_module_version": "1.5.0",
      "_view_name": "ProgressView",
      "bar_style": "success",
      "description": "",
      "description_tooltip": null,
      "layout": "IPY_MODEL_83f345f7424c43929d7a304cbfb6d0fe",
      "max": 9714,
      "min": 0,
      "orientation": "horizontal",
      "style": "IPY_MODEL_58d69d086f644e89937347e1f9261d6f",
      "value": 9714
     }
    },
    "013d2a6b90144432bbfb15136235faba": {
     "model_module": "@jupyter-widgets/base",
     "model_module_version": "1.2.0",
     "model_name": "LayoutModel",
     "state": {
      "_model_module": "@jupyter-widgets/base",
      "_model_module_version": "1.2.0",
      "_model_name": "LayoutModel",
      "_view_count": null,
      "_view_module": "@jupyter-widgets/base",
      "_view_module_version": "1.2.0",
      "_view_name": "LayoutView",
      "align_content": null,
      "align_items": null,
      "align_self": null,
      "border": null,
      "bottom": null,
      "display": null,
      "flex": null,
      "flex_flow": null,
      "grid_area": null,
      "grid_auto_columns": null,
      "grid_auto_flow": null,
      "grid_auto_rows": null,
      "grid_column": null,
      "grid_gap": null,
      "grid_row": null,
      "grid_template_areas": null,
      "grid_template_columns": null,
      "grid_template_rows": null,
      "height": null,
      "justify_content": null,
      "justify_items": null,
      "left": null,
      "margin": null,
      "max_height": null,
      "max_width": null,
      "min_height": null,
      "min_width": null,
      "object_fit": null,
      "object_position": null,
      "order": null,
      "overflow": null,
      "overflow_x": null,
      "overflow_y": null,
      "padding": null,
      "right": null,
      "top": null,
      "visibility": null,
      "width": null
     }
    },
    "0b7866c29e5f4afe9b92de15f1b88c3e": {
     "model_module": "@jupyter-widgets/base",
     "model_module_version": "1.2.0",
     "model_name": "LayoutModel",
     "state": {
      "_model_module": "@jupyter-widgets/base",
      "_model_module_version": "1.2.0",
      "_model_name": "LayoutModel",
      "_view_count": null,
      "_view_module": "@jupyter-widgets/base",
      "_view_module_version": "1.2.0",
      "_view_name": "LayoutView",
      "align_content": null,
      "align_items": null,
      "align_self": null,
      "border": null,
      "bottom": null,
      "display": null,
      "flex": null,
      "flex_flow": null,
      "grid_area": null,
      "grid_auto_columns": null,
      "grid_auto_flow": null,
      "grid_auto_rows": null,
      "grid_column": null,
      "grid_gap": null,
      "grid_row": null,
      "grid_template_areas": null,
      "grid_template_columns": null,
      "grid_template_rows": null,
      "height": null,
      "justify_content": null,
      "justify_items": null,
      "left": null,
      "margin": null,
      "max_height": null,
      "max_width": null,
      "min_height": null,
      "min_width": null,
      "object_fit": null,
      "object_position": null,
      "order": null,
      "overflow": null,
      "overflow_x": null,
      "overflow_y": null,
      "padding": null,
      "right": null,
      "top": null,
      "visibility": null,
      "width": null
     }
    },
    "0c0c7229347b49ffbb9a0f7bd41199b9": {
     "model_module": "@jupyter-widgets/controls",
     "model_module_version": "1.5.0",
     "model_name": "DescriptionStyleModel",
     "state": {
      "_model_module": "@jupyter-widgets/controls",
      "_model_module_version": "1.5.0",
      "_model_name": "DescriptionStyleModel",
      "_view_count": null,
      "_view_module": "@jupyter-widgets/base",
      "_view_module_version": "1.2.0",
      "_view_name": "StyleView",
      "description_width": ""
     }
    },
    "0e10428326bc436e8dbc079e89570bde": {
     "model_module": "@jupyter-widgets/controls",
     "model_module_version": "1.5.0",
     "model_name": "ProgressStyleModel",
     "state": {
      "_model_module": "@jupyter-widgets/controls",
      "_model_module_version": "1.5.0",
      "_model_name": "ProgressStyleModel",
      "_view_count": null,
      "_view_module": "@jupyter-widgets/base",
      "_view_module_version": "1.2.0",
      "_view_name": "StyleView",
      "bar_color": null,
      "description_width": ""
     }
    },
    "0fe4ed7283c04496affe727c235d31c4": {
     "model_module": "@jupyter-widgets/base",
     "model_module_version": "1.2.0",
     "model_name": "LayoutModel",
     "state": {
      "_model_module": "@jupyter-widgets/base",
      "_model_module_version": "1.2.0",
      "_model_name": "LayoutModel",
      "_view_count": null,
      "_view_module": "@jupyter-widgets/base",
      "_view_module_version": "1.2.0",
      "_view_name": "LayoutView",
      "align_content": null,
      "align_items": null,
      "align_self": null,
      "border": null,
      "bottom": null,
      "display": null,
      "flex": null,
      "flex_flow": null,
      "grid_area": null,
      "grid_auto_columns": null,
      "grid_auto_flow": null,
      "grid_auto_rows": null,
      "grid_column": null,
      "grid_gap": null,
      "grid_row": null,
      "grid_template_areas": null,
      "grid_template_columns": null,
      "grid_template_rows": null,
      "height": null,
      "justify_content": null,
      "justify_items": null,
      "left": null,
      "margin": null,
      "max_height": null,
      "max_width": null,
      "min_height": null,
      "min_width": null,
      "object_fit": null,
      "object_position": null,
      "order": null,
      "overflow": null,
      "overflow_x": null,
      "overflow_y": null,
      "padding": null,
      "right": null,
      "top": null,
      "visibility": null,
      "width": null
     }
    },
    "19f846338f6b48c9930b58575641e5b8": {
     "model_module": "@jupyter-widgets/base",
     "model_module_version": "1.2.0",
     "model_name": "LayoutModel",
     "state": {
      "_model_module": "@jupyter-widgets/base",
      "_model_module_version": "1.2.0",
      "_model_name": "LayoutModel",
      "_view_count": null,
      "_view_module": "@jupyter-widgets/base",
      "_view_module_version": "1.2.0",
      "_view_name": "LayoutView",
      "align_content": null,
      "align_items": null,
      "align_self": null,
      "border": null,
      "bottom": null,
      "display": null,
      "flex": null,
      "flex_flow": null,
      "grid_area": null,
      "grid_auto_columns": null,
      "grid_auto_flow": null,
      "grid_auto_rows": null,
      "grid_column": null,
      "grid_gap": null,
      "grid_row": null,
      "grid_template_areas": null,
      "grid_template_columns": null,
      "grid_template_rows": null,
      "height": null,
      "justify_content": null,
      "justify_items": null,
      "left": null,
      "margin": null,
      "max_height": null,
      "max_width": null,
      "min_height": null,
      "min_width": null,
      "object_fit": null,
      "object_position": null,
      "order": null,
      "overflow": null,
      "overflow_x": null,
      "overflow_y": null,
      "padding": null,
      "right": null,
      "top": null,
      "visibility": null,
      "width": null
     }
    },
    "20a27d1ec76f4d85b1ffe99401fbb5b7": {
     "model_module": "@jupyter-widgets/base",
     "model_module_version": "1.2.0",
     "model_name": "LayoutModel",
     "state": {
      "_model_module": "@jupyter-widgets/base",
      "_model_module_version": "1.2.0",
      "_model_name": "LayoutModel",
      "_view_count": null,
      "_view_module": "@jupyter-widgets/base",
      "_view_module_version": "1.2.0",
      "_view_name": "LayoutView",
      "align_content": null,
      "align_items": null,
      "align_self": null,
      "border": null,
      "bottom": null,
      "display": null,
      "flex": null,
      "flex_flow": null,
      "grid_area": null,
      "grid_auto_columns": null,
      "grid_auto_flow": null,
      "grid_auto_rows": null,
      "grid_column": null,
      "grid_gap": null,
      "grid_row": null,
      "grid_template_areas": null,
      "grid_template_columns": null,
      "grid_template_rows": null,
      "height": null,
      "justify_content": null,
      "justify_items": null,
      "left": null,
      "margin": null,
      "max_height": null,
      "max_width": null,
      "min_height": null,
      "min_width": null,
      "object_fit": null,
      "object_position": null,
      "order": null,
      "overflow": null,
      "overflow_x": null,
      "overflow_y": null,
      "padding": null,
      "right": null,
      "top": null,
      "visibility": null,
      "width": null
     }
    },
    "22484000400842f0b6e245dc610acbba": {
     "model_module": "@jupyter-widgets/base",
     "model_module_version": "1.2.0",
     "model_name": "LayoutModel",
     "state": {
      "_model_module": "@jupyter-widgets/base",
      "_model_module_version": "1.2.0",
      "_model_name": "LayoutModel",
      "_view_count": null,
      "_view_module": "@jupyter-widgets/base",
      "_view_module_version": "1.2.0",
      "_view_name": "LayoutView",
      "align_content": null,
      "align_items": null,
      "align_self": null,
      "border": null,
      "bottom": null,
      "display": null,
      "flex": null,
      "flex_flow": null,
      "grid_area": null,
      "grid_auto_columns": null,
      "grid_auto_flow": null,
      "grid_auto_rows": null,
      "grid_column": null,
      "grid_gap": null,
      "grid_row": null,
      "grid_template_areas": null,
      "grid_template_columns": null,
      "grid_template_rows": null,
      "height": null,
      "justify_content": null,
      "justify_items": null,
      "left": null,
      "margin": null,
      "max_height": null,
      "max_width": null,
      "min_height": null,
      "min_width": null,
      "object_fit": null,
      "object_position": null,
      "order": null,
      "overflow": null,
      "overflow_x": null,
      "overflow_y": null,
      "padding": null,
      "right": null,
      "top": null,
      "visibility": null,
      "width": null
     }
    },
    "22aa774ab39e4fd78b0ff08d430d2b5d": {
     "model_module": "@jupyter-widgets/controls",
     "model_module_version": "1.5.0",
     "model_name": "FloatProgressModel",
     "state": {
      "_dom_classes": [],
      "_model_module": "@jupyter-widgets/controls",
      "_model_module_version": "1.5.0",
      "_model_name": "FloatProgressModel",
      "_view_count": null,
      "_view_module": "@jupyter-widgets/controls",
      "_view_module_version": "1.5.0",
      "_view_name": "ProgressView",
      "bar_style": "success",
      "description": "",
      "description_tooltip": null,
      "layout": "IPY_MODEL_4e64bcb87e584beda0408a0aa5a659ae",
      "max": 1,
      "min": 0,
      "orientation": "horizontal",
      "style": "IPY_MODEL_b077d7562d814df5b6d839464dd4122f",
      "value": 1
     }
    },
    "2b82e42c34804b13bc83be4c7009d4e2": {
     "model_module": "@jupyter-widgets/controls",
     "model_module_version": "1.5.0",
     "model_name": "DescriptionStyleModel",
     "state": {
      "_model_module": "@jupyter-widgets/controls",
      "_model_module_version": "1.5.0",
      "_model_name": "DescriptionStyleModel",
      "_view_count": null,
      "_view_module": "@jupyter-widgets/base",
      "_view_module_version": "1.2.0",
      "_view_name": "StyleView",
      "description_width": ""
     }
    },
    "333e84a304184c57af1821620ae80f6a": {
     "model_module": "@jupyter-widgets/controls",
     "model_module_version": "1.5.0",
     "model_name": "DescriptionStyleModel",
     "state": {
      "_model_module": "@jupyter-widgets/controls",
      "_model_module_version": "1.5.0",
      "_model_name": "DescriptionStyleModel",
      "_view_count": null,
      "_view_module": "@jupyter-widgets/base",
      "_view_module_version": "1.2.0",
      "_view_name": "StyleView",
      "description_width": ""
     }
    },
    "40f7e3754ad44b33acfe0a80b3648a3a": {
     "model_module": "@jupyter-widgets/controls",
     "model_module_version": "1.5.0",
     "model_name": "HBoxModel",
     "state": {
      "_dom_classes": [],
      "_model_module": "@jupyter-widgets/controls",
      "_model_module_version": "1.5.0",
      "_model_name": "HBoxModel",
      "_view_count": null,
      "_view_module": "@jupyter-widgets/controls",
      "_view_module_version": "1.5.0",
      "_view_name": "HBoxView",
      "box_style": "",
      "children": [
       "IPY_MODEL_b1e51beac50f4947a9dd235d8aa87603",
       "IPY_MODEL_8cd9e9702e114ebc856f56975544ede8",
       "IPY_MODEL_b7c7a718a8654956947108969557ca83"
      ],
      "layout": "IPY_MODEL_20a27d1ec76f4d85b1ffe99401fbb5b7"
     }
    },
    "434ac4c51db74681942d2d3bd869b1df": {
     "model_module": "@jupyter-widgets/controls",
     "model_module_version": "1.5.0",
     "model_name": "DescriptionStyleModel",
     "state": {
      "_model_module": "@jupyter-widgets/controls",
      "_model_module_version": "1.5.0",
      "_model_name": "DescriptionStyleModel",
      "_view_count": null,
      "_view_module": "@jupyter-widgets/base",
      "_view_module_version": "1.2.0",
      "_view_name": "StyleView",
      "description_width": ""
     }
    },
    "46a51a1719d8444eb5877720253d3c37": {
     "model_module": "@jupyter-widgets/base",
     "model_module_version": "1.2.0",
     "model_name": "LayoutModel",
     "state": {
      "_model_module": "@jupyter-widgets/base",
      "_model_module_version": "1.2.0",
      "_model_name": "LayoutModel",
      "_view_count": null,
      "_view_module": "@jupyter-widgets/base",
      "_view_module_version": "1.2.0",
      "_view_name": "LayoutView",
      "align_content": null,
      "align_items": null,
      "align_self": null,
      "border": null,
      "bottom": null,
      "display": null,
      "flex": null,
      "flex_flow": null,
      "grid_area": null,
      "grid_auto_columns": null,
      "grid_auto_flow": null,
      "grid_auto_rows": null,
      "grid_column": null,
      "grid_gap": null,
      "grid_row": null,
      "grid_template_areas": null,
      "grid_template_columns": null,
      "grid_template_rows": null,
      "height": null,
      "justify_content": null,
      "justify_items": null,
      "left": null,
      "margin": null,
      "max_height": null,
      "max_width": null,
      "min_height": null,
      "min_width": null,
      "object_fit": null,
      "object_position": null,
      "order": null,
      "overflow": null,
      "overflow_x": null,
      "overflow_y": null,
      "padding": null,
      "right": null,
      "top": null,
      "visibility": null,
      "width": null
     }
    },
    "4e64bcb87e584beda0408a0aa5a659ae": {
     "model_module": "@jupyter-widgets/base",
     "model_module_version": "1.2.0",
     "model_name": "LayoutModel",
     "state": {
      "_model_module": "@jupyter-widgets/base",
      "_model_module_version": "1.2.0",
      "_model_name": "LayoutModel",
      "_view_count": null,
      "_view_module": "@jupyter-widgets/base",
      "_view_module_version": "1.2.0",
      "_view_name": "LayoutView",
      "align_content": null,
      "align_items": null,
      "align_self": null,
      "border": null,
      "bottom": null,
      "display": null,
      "flex": null,
      "flex_flow": null,
      "grid_area": null,
      "grid_auto_columns": null,
      "grid_auto_flow": null,
      "grid_auto_rows": null,
      "grid_column": null,
      "grid_gap": null,
      "grid_row": null,
      "grid_template_areas": null,
      "grid_template_columns": null,
      "grid_template_rows": null,
      "height": null,
      "justify_content": null,
      "justify_items": null,
      "left": null,
      "margin": null,
      "max_height": null,
      "max_width": null,
      "min_height": null,
      "min_width": null,
      "object_fit": null,
      "object_position": null,
      "order": null,
      "overflow": null,
      "overflow_x": null,
      "overflow_y": null,
      "padding": null,
      "right": null,
      "top": null,
      "visibility": null,
      "width": "20px"
     }
    },
    "55146ac7395840dca847e0f63aa80561": {
     "model_module": "@jupyter-widgets/controls",
     "model_module_version": "1.5.0",
     "model_name": "HBoxModel",
     "state": {
      "_dom_classes": [],
      "_model_module": "@jupyter-widgets/controls",
      "_model_module_version": "1.5.0",
      "_model_name": "HBoxModel",
      "_view_count": null,
      "_view_module": "@jupyter-widgets/controls",
      "_view_module_version": "1.5.0",
      "_view_name": "HBoxView",
      "box_style": "",
      "children": [
       "IPY_MODEL_abb9bc76c0ce4634bd340be20c074b8c",
       "IPY_MODEL_a89d790df59245fcaf26335d4903c9b4",
       "IPY_MODEL_f837255914194dc792cf1514dee03dc5"
      ],
      "layout": "IPY_MODEL_46a51a1719d8444eb5877720253d3c37"
     }
    },
    "58d69d086f644e89937347e1f9261d6f": {
     "model_module": "@jupyter-widgets/controls",
     "model_module_version": "1.5.0",
     "model_name": "ProgressStyleModel",
     "state": {
      "_model_module": "@jupyter-widgets/controls",
      "_model_module_version": "1.5.0",
      "_model_name": "ProgressStyleModel",
      "_view_count": null,
      "_view_module": "@jupyter-widgets/base",
      "_view_module_version": "1.2.0",
      "_view_name": "StyleView",
      "bar_color": null,
      "description_width": ""
     }
    },
    "5a28babf4e2e4393bdc1a093034885ab": {
     "model_module": "@jupyter-widgets/base",
     "model_module_version": "1.2.0",
     "model_name": "LayoutModel",
     "state": {
      "_model_module": "@jupyter-widgets/base",
      "_model_module_version": "1.2.0",
      "_model_name": "LayoutModel",
      "_view_count": null,
      "_view_module": "@jupyter-widgets/base",
      "_view_module_version": "1.2.0",
      "_view_name": "LayoutView",
      "align_content": null,
      "align_items": null,
      "align_self": null,
      "border": null,
      "bottom": null,
      "display": null,
      "flex": null,
      "flex_flow": null,
      "grid_area": null,
      "grid_auto_columns": null,
      "grid_auto_flow": null,
      "grid_auto_rows": null,
      "grid_column": null,
      "grid_gap": null,
      "grid_row": null,
      "grid_template_areas": null,
      "grid_template_columns": null,
      "grid_template_rows": null,
      "height": null,
      "justify_content": null,
      "justify_items": null,
      "left": null,
      "margin": null,
      "max_height": null,
      "max_width": null,
      "min_height": null,
      "min_width": null,
      "object_fit": null,
      "object_position": null,
      "order": null,
      "overflow": null,
      "overflow_x": null,
      "overflow_y": null,
      "padding": null,
      "right": null,
      "top": null,
      "visibility": null,
      "width": null
     }
    },
    "673bd3773a374261a01cfc48081c27f3": {
     "model_module": "@jupyter-widgets/controls",
     "model_module_version": "1.5.0",
     "model_name": "DescriptionStyleModel",
     "state": {
      "_model_module": "@jupyter-widgets/controls",
      "_model_module_version": "1.5.0",
      "_model_name": "DescriptionStyleModel",
      "_view_count": null,
      "_view_module": "@jupyter-widgets/base",
      "_view_module_version": "1.2.0",
      "_view_name": "StyleView",
      "description_width": ""
     }
    },
    "7190c928edb040c3a523cdd2e3f45572": {
     "model_module": "@jupyter-widgets/controls",
     "model_module_version": "1.5.0",
     "model_name": "HBoxModel",
     "state": {
      "_dom_classes": [],
      "_model_module": "@jupyter-widgets/controls",
      "_model_module_version": "1.5.0",
      "_model_name": "HBoxModel",
      "_view_count": null,
      "_view_module": "@jupyter-widgets/controls",
      "_view_module_version": "1.5.0",
      "_view_name": "HBoxView",
      "box_style": "",
      "children": [
       "IPY_MODEL_990741ff083d457587665d8f620b69c3",
       "IPY_MODEL_00fe6a550df547cea5b1e0d84c1a3f5f",
       "IPY_MODEL_fab8b1e3187841ee894b92859fa4821b"
      ],
      "layout": "IPY_MODEL_f9b0d916e1a64c2a9f384e42f3d5dcab"
     }
    },
    "7d293204dc1b4d97bb5ee670787c7b7d": {
     "model_module": "@jupyter-widgets/base",
     "model_module_version": "1.2.0",
     "model_name": "LayoutModel",
     "state": {
      "_model_module": "@jupyter-widgets/base",
      "_model_module_version": "1.2.0",
      "_model_name": "LayoutModel",
      "_view_count": null,
      "_view_module": "@jupyter-widgets/base",
      "_view_module_version": "1.2.0",
      "_view_name": "LayoutView",
      "align_content": null,
      "align_items": null,
      "align_self": null,
      "border": null,
      "bottom": null,
      "display": null,
      "flex": null,
      "flex_flow": null,
      "grid_area": null,
      "grid_auto_columns": null,
      "grid_auto_flow": null,
      "grid_auto_rows": null,
      "grid_column": null,
      "grid_gap": null,
      "grid_row": null,
      "grid_template_areas": null,
      "grid_template_columns": null,
      "grid_template_rows": null,
      "height": null,
      "justify_content": null,
      "justify_items": null,
      "left": null,
      "margin": null,
      "max_height": null,
      "max_width": null,
      "min_height": null,
      "min_width": null,
      "object_fit": null,
      "object_position": null,
      "order": null,
      "overflow": null,
      "overflow_x": null,
      "overflow_y": null,
      "padding": null,
      "right": null,
      "top": null,
      "visibility": null,
      "width": null
     }
    },
    "83f345f7424c43929d7a304cbfb6d0fe": {
     "model_module": "@jupyter-widgets/base",
     "model_module_version": "1.2.0",
     "model_name": "LayoutModel",
     "state": {
      "_model_module": "@jupyter-widgets/base",
      "_model_module_version": "1.2.0",
      "_model_name": "LayoutModel",
      "_view_count": null,
      "_view_module": "@jupyter-widgets/base",
      "_view_module_version": "1.2.0",
      "_view_name": "LayoutView",
      "align_content": null,
      "align_items": null,
      "align_self": null,
      "border": null,
      "bottom": null,
      "display": null,
      "flex": null,
      "flex_flow": null,
      "grid_area": null,
      "grid_auto_columns": null,
      "grid_auto_flow": null,
      "grid_auto_rows": null,
      "grid_column": null,
      "grid_gap": null,
      "grid_row": null,
      "grid_template_areas": null,
      "grid_template_columns": null,
      "grid_template_rows": null,
      "height": null,
      "justify_content": null,
      "justify_items": null,
      "left": null,
      "margin": null,
      "max_height": null,
      "max_width": null,
      "min_height": null,
      "min_width": null,
      "object_fit": null,
      "object_position": null,
      "order": null,
      "overflow": null,
      "overflow_x": null,
      "overflow_y": null,
      "padding": null,
      "right": null,
      "top": null,
      "visibility": null,
      "width": null
     }
    },
    "8cd9e9702e114ebc856f56975544ede8": {
     "model_module": "@jupyter-widgets/controls",
     "model_module_version": "1.5.0",
     "model_name": "FloatProgressModel",
     "state": {
      "_dom_classes": [],
      "_model_module": "@jupyter-widgets/controls",
      "_model_module_version": "1.5.0",
      "_model_name": "FloatProgressModel",
      "_view_count": null,
      "_view_module": "@jupyter-widgets/controls",
      "_view_module_version": "1.5.0",
      "_view_name": "ProgressView",
      "bar_style": "danger",
      "description": "",
      "description_tooltip": null,
      "layout": "IPY_MODEL_22484000400842f0b6e245dc610acbba",
      "max": 128,
      "min": 0,
      "orientation": "horizontal",
      "style": "IPY_MODEL_a66a5b4ff37d4dafa4ba3081aa1359f4",
      "value": 12
     }
    },
    "8cf462fa996c41b18fb4571e0a757363": {
     "model_module": "@jupyter-widgets/base",
     "model_module_version": "1.2.0",
     "model_name": "LayoutModel",
     "state": {
      "_model_module": "@jupyter-widgets/base",
      "_model_module_version": "1.2.0",
      "_model_name": "LayoutModel",
      "_view_count": null,
      "_view_module": "@jupyter-widgets/base",
      "_view_module_version": "1.2.0",
      "_view_name": "LayoutView",
      "align_content": null,
      "align_items": null,
      "align_self": null,
      "border": null,
      "bottom": null,
      "display": null,
      "flex": null,
      "flex_flow": null,
      "grid_area": null,
      "grid_auto_columns": null,
      "grid_auto_flow": null,
      "grid_auto_rows": null,
      "grid_column": null,
      "grid_gap": null,
      "grid_row": null,
      "grid_template_areas": null,
      "grid_template_columns": null,
      "grid_template_rows": null,
      "height": null,
      "justify_content": null,
      "justify_items": null,
      "left": null,
      "margin": null,
      "max_height": null,
      "max_width": null,
      "min_height": null,
      "min_width": null,
      "object_fit": null,
      "object_position": null,
      "order": null,
      "overflow": null,
      "overflow_x": null,
      "overflow_y": null,
      "padding": null,
      "right": null,
      "top": null,
      "visibility": null,
      "width": null
     }
    },
    "9233439bdd6746c28ad4a20ef47799f6": {
     "model_module": "@jupyter-widgets/base",
     "model_module_version": "1.2.0",
     "model_name": "LayoutModel",
     "state": {
      "_model_module": "@jupyter-widgets/base",
      "_model_module_version": "1.2.0",
      "_model_name": "LayoutModel",
      "_view_count": null,
      "_view_module": "@jupyter-widgets/base",
      "_view_module_version": "1.2.0",
      "_view_name": "LayoutView",
      "align_content": null,
      "align_items": null,
      "align_self": null,
      "border": null,
      "bottom": null,
      "display": null,
      "flex": null,
      "flex_flow": null,
      "grid_area": null,
      "grid_auto_columns": null,
      "grid_auto_flow": null,
      "grid_auto_rows": null,
      "grid_column": null,
      "grid_gap": null,
      "grid_row": null,
      "grid_template_areas": null,
      "grid_template_columns": null,
      "grid_template_rows": null,
      "height": null,
      "justify_content": null,
      "justify_items": null,
      "left": null,
      "margin": null,
      "max_height": null,
      "max_width": null,
      "min_height": null,
      "min_width": null,
      "object_fit": null,
      "object_position": null,
      "order": null,
      "overflow": null,
      "overflow_x": null,
      "overflow_y": null,
      "padding": null,
      "right": null,
      "top": null,
      "visibility": null,
      "width": null
     }
    },
    "990741ff083d457587665d8f620b69c3": {
     "model_module": "@jupyter-widgets/controls",
     "model_module_version": "1.5.0",
     "model_name": "HTMLModel",
     "state": {
      "_dom_classes": [],
      "_model_module": "@jupyter-widgets/controls",
      "_model_module_version": "1.5.0",
      "_model_name": "HTMLModel",
      "_view_count": null,
      "_view_module": "@jupyter-widgets/controls",
      "_view_module_version": "1.5.0",
      "_view_name": "HTMLView",
      "description": "",
      "description_tooltip": null,
      "layout": "IPY_MODEL_a78199650ecc47bd81f482a2671b563a",
      "placeholder": "​",
      "style": "IPY_MODEL_673bd3773a374261a01cfc48081c27f3",
      "value": "100%"
     }
    },
    "9a01f02fb99b4b81ac487d23bc5daf4a": {
     "model_module": "@jupyter-widgets/controls",
     "model_module_version": "1.5.0",
     "model_name": "HTMLModel",
     "state": {
      "_dom_classes": [],
      "_model_module": "@jupyter-widgets/controls",
      "_model_module_version": "1.5.0",
      "_model_name": "HTMLModel",
      "_view_count": null,
      "_view_module": "@jupyter-widgets/controls",
      "_view_module_version": "1.5.0",
      "_view_name": "HTMLView",
      "description": "",
      "description_tooltip": null,
      "layout": "IPY_MODEL_5a28babf4e2e4393bdc1a093034885ab",
      "placeholder": "​",
      "style": "IPY_MODEL_be07d518c21149d196c610fd57b1eaec",
      "value": " 957/? [00:18&lt;00:00, 51.31it/s]"
     }
    },
    "a66a5b4ff37d4dafa4ba3081aa1359f4": {
     "model_module": "@jupyter-widgets/controls",
     "model_module_version": "1.5.0",
     "model_name": "ProgressStyleModel",
     "state": {
      "_model_module": "@jupyter-widgets/controls",
      "_model_module_version": "1.5.0",
      "_model_name": "ProgressStyleModel",
      "_view_count": null,
      "_view_module": "@jupyter-widgets/base",
      "_view_module_version": "1.2.0",
      "_view_name": "StyleView",
      "bar_color": null,
      "description_width": ""
     }
    },
    "a78199650ecc47bd81f482a2671b563a": {
     "model_module": "@jupyter-widgets/base",
     "model_module_version": "1.2.0",
     "model_name": "LayoutModel",
     "state": {
      "_model_module": "@jupyter-widgets/base",
      "_model_module_version": "1.2.0",
      "_model_name": "LayoutModel",
      "_view_count": null,
      "_view_module": "@jupyter-widgets/base",
      "_view_module_version": "1.2.0",
      "_view_name": "LayoutView",
      "align_content": null,
      "align_items": null,
      "align_self": null,
      "border": null,
      "bottom": null,
      "display": null,
      "flex": null,
      "flex_flow": null,
      "grid_area": null,
      "grid_auto_columns": null,
      "grid_auto_flow": null,
      "grid_auto_rows": null,
      "grid_column": null,
      "grid_gap": null,
      "grid_row": null,
      "grid_template_areas": null,
      "grid_template_columns": null,
      "grid_template_rows": null,
      "height": null,
      "justify_content": null,
      "justify_items": null,
      "left": null,
      "margin": null,
      "max_height": null,
      "max_width": null,
      "min_height": null,
      "min_width": null,
      "object_fit": null,
      "object_position": null,
      "order": null,
      "overflow": null,
      "overflow_x": null,
      "overflow_y": null,
      "padding": null,
      "right": null,
      "top": null,
      "visibility": null,
      "width": null
     }
    },
    "a89d790df59245fcaf26335d4903c9b4": {
     "model_module": "@jupyter-widgets/controls",
     "model_module_version": "1.5.0",
     "model_name": "FloatProgressModel",
     "state": {
      "_dom_classes": [],
      "_model_module": "@jupyter-widgets/controls",
      "_model_module_version": "1.5.0",
      "_model_name": "FloatProgressModel",
      "_view_count": null,
      "_view_module": "@jupyter-widgets/controls",
      "_view_module_version": "1.5.0",
      "_view_name": "ProgressView",
      "bar_style": "success",
      "description": "",
      "description_tooltip": null,
      "layout": "IPY_MODEL_9233439bdd6746c28ad4a20ef47799f6",
      "max": 280,
      "min": 0,
      "orientation": "horizontal",
      "style": "IPY_MODEL_0e10428326bc436e8dbc079e89570bde",
      "value": 280
     }
    },
    "a972aba7913b48c6973ae27bff5b9d1d": {
     "model_module": "@jupyter-widgets/controls",
     "model_module_version": "1.5.0",
     "model_name": "HTMLModel",
     "state": {
      "_dom_classes": [],
      "_model_module": "@jupyter-widgets/controls",
      "_model_module_version": "1.5.0",
      "_model_name": "HTMLModel",
      "_view_count": null,
      "_view_module": "@jupyter-widgets/controls",
      "_view_module_version": "1.5.0",
      "_view_name": "HTMLView",
      "description": "",
      "description_tooltip": null,
      "layout": "IPY_MODEL_7d293204dc1b4d97bb5ee670787c7b7d",
      "placeholder": "​",
      "style": "IPY_MODEL_ea8fa440f320435aa75c9bef75bc3f08",
      "value": ""
     }
    },
    "abb9bc76c0ce4634bd340be20c074b8c": {
     "model_module": "@jupyter-widgets/controls",
     "model_module_version": "1.5.0",
     "model_name": "HTMLModel",
     "state": {
      "_dom_classes": [],
      "_model_module": "@jupyter-widgets/controls",
      "_model_module_version": "1.5.0",
      "_model_name": "HTMLModel",
      "_view_count": null,
      "_view_module": "@jupyter-widgets/controls",
      "_view_module_version": "1.5.0",
      "_view_name": "HTMLView",
      "description": "",
      "description_tooltip": null,
      "layout": "IPY_MODEL_013d2a6b90144432bbfb15136235faba",
      "placeholder": "​",
      "style": "IPY_MODEL_2b82e42c34804b13bc83be4c7009d4e2",
      "value": ""
     }
    },
    "b077d7562d814df5b6d839464dd4122f": {
     "model_module": "@jupyter-widgets/controls",
     "model_module_version": "1.5.0",
     "model_name": "ProgressStyleModel",
     "state": {
      "_model_module": "@jupyter-widgets/controls",
      "_model_module_version": "1.5.0",
      "_model_name": "ProgressStyleModel",
      "_view_count": null,
      "_view_module": "@jupyter-widgets/base",
      "_view_module_version": "1.2.0",
      "_view_name": "StyleView",
      "bar_color": null,
      "description_width": ""
     }
    },
    "b1e51beac50f4947a9dd235d8aa87603": {
     "model_module": "@jupyter-widgets/controls",
     "model_module_version": "1.5.0",
     "model_name": "HTMLModel",
     "state": {
      "_dom_classes": [],
      "_model_module": "@jupyter-widgets/controls",
      "_model_module_version": "1.5.0",
      "_model_name": "HTMLModel",
      "_view_count": null,
      "_view_module": "@jupyter-widgets/controls",
      "_view_module_version": "1.5.0",
      "_view_name": "HTMLView",
      "description": "",
      "description_tooltip": null,
      "layout": "IPY_MODEL_e0ddf3970b3e4248bc87d4649fa9c448",
      "placeholder": "​",
      "style": "IPY_MODEL_d7bdde54e2534c49a207540bd258d3ae",
      "value": "  9%"
     }
    },
    "b7c7a718a8654956947108969557ca83": {
     "model_module": "@jupyter-widgets/controls",
     "model_module_version": "1.5.0",
     "model_name": "HTMLModel",
     "state": {
      "_dom_classes": [],
      "_model_module": "@jupyter-widgets/controls",
      "_model_module_version": "1.5.0",
      "_model_name": "HTMLModel",
      "_view_count": null,
      "_view_module": "@jupyter-widgets/controls",
      "_view_module_version": "1.5.0",
      "_view_name": "HTMLView",
      "description": "",
      "description_tooltip": null,
      "layout": "IPY_MODEL_0b7866c29e5f4afe9b92de15f1b88c3e",
      "placeholder": "​",
      "style": "IPY_MODEL_333e84a304184c57af1821620ae80f6a",
      "value": " 12/128 [00:00&lt;00:01, 73.96it/s]"
     }
    },
    "be07d518c21149d196c610fd57b1eaec": {
     "model_module": "@jupyter-widgets/controls",
     "model_module_version": "1.5.0",
     "model_name": "DescriptionStyleModel",
     "state": {
      "_model_module": "@jupyter-widgets/controls",
      "_model_module_version": "1.5.0",
      "_model_name": "DescriptionStyleModel",
      "_view_count": null,
      "_view_module": "@jupyter-widgets/base",
      "_view_module_version": "1.2.0",
      "_view_name": "StyleView",
      "description_width": ""
     }
    },
    "c9db4cd83b7b4f53a0fa93b8c365debd": {
     "model_module": "@jupyter-widgets/controls",
     "model_module_version": "1.5.0",
     "model_name": "HBoxModel",
     "state": {
      "_dom_classes": [],
      "_model_module": "@jupyter-widgets/controls",
      "_model_module_version": "1.5.0",
      "_model_name": "HBoxModel",
      "_view_count": null,
      "_view_module": "@jupyter-widgets/controls",
      "_view_module_version": "1.5.0",
      "_view_name": "HBoxView",
      "box_style": "",
      "children": [
       "IPY_MODEL_a972aba7913b48c6973ae27bff5b9d1d",
       "IPY_MODEL_22aa774ab39e4fd78b0ff08d430d2b5d",
       "IPY_MODEL_9a01f02fb99b4b81ac487d23bc5daf4a"
      ],
      "layout": "IPY_MODEL_19f846338f6b48c9930b58575641e5b8"
     }
    },
    "d7bdde54e2534c49a207540bd258d3ae": {
     "model_module": "@jupyter-widgets/controls",
     "model_module_version": "1.5.0",
     "model_name": "DescriptionStyleModel",
     "state": {
      "_model_module": "@jupyter-widgets/controls",
      "_model_module_version": "1.5.0",
      "_model_name": "DescriptionStyleModel",
      "_view_count": null,
      "_view_module": "@jupyter-widgets/base",
      "_view_module_version": "1.2.0",
      "_view_name": "StyleView",
      "description_width": ""
     }
    },
    "e0ddf3970b3e4248bc87d4649fa9c448": {
     "model_module": "@jupyter-widgets/base",
     "model_module_version": "1.2.0",
     "model_name": "LayoutModel",
     "state": {
      "_model_module": "@jupyter-widgets/base",
      "_model_module_version": "1.2.0",
      "_model_name": "LayoutModel",
      "_view_count": null,
      "_view_module": "@jupyter-widgets/base",
      "_view_module_version": "1.2.0",
      "_view_name": "LayoutView",
      "align_content": null,
      "align_items": null,
      "align_self": null,
      "border": null,
      "bottom": null,
      "display": null,
      "flex": null,
      "flex_flow": null,
      "grid_area": null,
      "grid_auto_columns": null,
      "grid_auto_flow": null,
      "grid_auto_rows": null,
      "grid_column": null,
      "grid_gap": null,
      "grid_row": null,
      "grid_template_areas": null,
      "grid_template_columns": null,
      "grid_template_rows": null,
      "height": null,
      "justify_content": null,
      "justify_items": null,
      "left": null,
      "margin": null,
      "max_height": null,
      "max_width": null,
      "min_height": null,
      "min_width": null,
      "object_fit": null,
      "object_position": null,
      "order": null,
      "overflow": null,
      "overflow_x": null,
      "overflow_y": null,
      "padding": null,
      "right": null,
      "top": null,
      "visibility": null,
      "width": null
     }
    },
    "ea8fa440f320435aa75c9bef75bc3f08": {
     "model_module": "@jupyter-widgets/controls",
     "model_module_version": "1.5.0",
     "model_name": "DescriptionStyleModel",
     "state": {
      "_model_module": "@jupyter-widgets/controls",
      "_model_module_version": "1.5.0",
      "_model_name": "DescriptionStyleModel",
      "_view_count": null,
      "_view_module": "@jupyter-widgets/base",
      "_view_module_version": "1.2.0",
      "_view_name": "StyleView",
      "description_width": ""
     }
    },
    "f837255914194dc792cf1514dee03dc5": {
     "model_module": "@jupyter-widgets/controls",
     "model_module_version": "1.5.0",
     "model_name": "HTMLModel",
     "state": {
      "_dom_classes": [],
      "_model_module": "@jupyter-widgets/controls",
      "_model_module_version": "1.5.0",
      "_model_name": "HTMLModel",
      "_view_count": null,
      "_view_module": "@jupyter-widgets/controls",
      "_view_module_version": "1.5.0",
      "_view_name": "HTMLView",
      "description": "",
      "description_tooltip": null,
      "layout": "IPY_MODEL_0fe4ed7283c04496affe727c235d31c4",
      "placeholder": "​",
      "style": "IPY_MODEL_0c0c7229347b49ffbb9a0f7bd41199b9",
      "value": " 21020/? [21:30&lt;00:00, 15.32it/s, epoch=19, loss=2.61, val_loss=3.41]"
     }
    },
    "f9b0d916e1a64c2a9f384e42f3d5dcab": {
     "model_module": "@jupyter-widgets/base",
     "model_module_version": "1.2.0",
     "model_name": "LayoutModel",
     "state": {
      "_model_module": "@jupyter-widgets/base",
      "_model_module_version": "1.2.0",
      "_model_name": "LayoutModel",
      "_view_count": null,
      "_view_module": "@jupyter-widgets/base",
      "_view_module_version": "1.2.0",
      "_view_name": "LayoutView",
      "align_content": null,
      "align_items": null,
      "align_self": null,
      "border": null,
      "bottom": null,
      "display": null,
      "flex": null,
      "flex_flow": null,
      "grid_area": null,
      "grid_auto_columns": null,
      "grid_auto_flow": null,
      "grid_auto_rows": null,
      "grid_column": null,
      "grid_gap": null,
      "grid_row": null,
      "grid_template_areas": null,
      "grid_template_columns": null,
      "grid_template_rows": null,
      "height": null,
      "justify_content": null,
      "justify_items": null,
      "left": null,
      "margin": null,
      "max_height": null,
      "max_width": null,
      "min_height": null,
      "min_width": null,
      "object_fit": null,
      "object_position": null,
      "order": null,
      "overflow": null,
      "overflow_x": null,
      "overflow_y": null,
      "padding": null,
      "right": null,
      "top": null,
      "visibility": null,
      "width": null
     }
    },
    "fab8b1e3187841ee894b92859fa4821b": {
     "model_module": "@jupyter-widgets/controls",
     "model_module_version": "1.5.0",
     "model_name": "HTMLModel",
     "state": {
      "_dom_classes": [],
      "_model_module": "@jupyter-widgets/controls",
      "_model_module_version": "1.5.0",
      "_model_name": "HTMLModel",
      "_view_count": null,
      "_view_module": "@jupyter-widgets/controls",
      "_view_module_version": "1.5.0",
      "_view_name": "HTMLView",
      "description": "",
      "description_tooltip": null,
      "layout": "IPY_MODEL_8cf462fa996c41b18fb4571e0a757363",
      "placeholder": "​",
      "style": "IPY_MODEL_434ac4c51db74681942d2d3bd869b1df",
      "value": " 9714/9714 [00:00&lt;00:00, 236744.37it/s]"
     }
    }
   }
  }
 },
 "nbformat": 4,
 "nbformat_minor": 4
}
